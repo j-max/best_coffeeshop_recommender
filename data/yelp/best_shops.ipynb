{
 "cells": [
  {
   "cell_type": "code",
   "execution_count": 2,
   "metadata": {},
   "outputs": [],
   "source": [
    "import pandas as pd\n",
    "import numpy as np\n",
    "import pickle"
   ]
  },
  {
   "cell_type": "code",
   "execution_count": 3,
   "metadata": {},
   "outputs": [],
   "source": [
    "with open('yelp_coffee_shop_dict.pk', 'rb') as write_file:\n",
    "    coffee_dict = pickle.load(write_file)"
   ]
  },
  {
   "cell_type": "code",
   "execution_count": null,
   "metadata": {},
   "outputs": [],
   "source": [
    "coffee_dict"
   ]
  },
  {
   "cell_type": "markdown",
   "metadata": {},
   "source": [
    "## Timeout best coffee shops"
   ]
  },
  {
   "cell_type": "code",
   "execution_count": 19,
   "metadata": {},
   "outputs": [
    {
     "name": "stderr",
     "output_type": "stream",
     "text": [
      "/anaconda3/lib/python3.6/site-packages/urllib3/connectionpool.py:857: InsecureRequestWarning: Unverified HTTPS request is being made. Adding certificate verification is strongly advised. See: https://urllib3.readthedocs.io/en/latest/advanced-usage.html#ssl-warnings\n",
      "  InsecureRequestWarning)\n"
     ]
    }
   ],
   "source": [
    "import urllib3\n",
    "http = urllib3.PoolManager()\n",
    "r=http.request('GET','https://www.timeout.com/chicago/restaurants/best-coffee-shops-in-chicago')\n"
   ]
  },
  {
   "cell_type": "code",
   "execution_count": 20,
   "metadata": {},
   "outputs": [],
   "source": [
    "from bs4 import BeautifulSoup"
   ]
  },
  {
   "cell_type": "code",
   "execution_count": 21,
   "metadata": {},
   "outputs": [],
   "source": [
    "soup =BeautifulSoup(r.data)"
   ]
  },
  {
   "cell_type": "code",
   "execution_count": 43,
   "metadata": {},
   "outputs": [],
   "source": [
    "mydivs = soup.findAll(\"a\", {\"class\": \"xs-text-charcoal decoration-none title-underline theme-title-underline\"})"
   ]
  },
  {
   "cell_type": "code",
   "execution_count": 54,
   "metadata": {},
   "outputs": [
    {
     "name": "stdout",
     "output_type": "stream",
     "text": [
      "\n",
      "                Caffé Streets\n",
      "            \n",
      "\n",
      "                Dark Matter Coffee\n",
      "            \n",
      "\n",
      "                Sawada Coffee\n",
      "            \n",
      "\n",
      "                Metric Coffee Co.\n",
      "            \n",
      "\n",
      "                Four Letter Word Coffee\n",
      "            \n",
      "\n",
      "                Loba Pastry + Coffee\n",
      "            \n",
      "\n",
      "                C.C. Ferns Coffee\n",
      "            \n",
      "\n",
      "                Star Lounge\n",
      "            \n",
      "\n",
      "                Colectivo Coffee\n",
      "            \n",
      "\n",
      "                Intelligentsia Coffee\n",
      "            \n",
      "\n",
      "                Bridgeport Coffee House\n",
      "            \n",
      "\n",
      "                Big Shoulders Coffee\n",
      "            \n",
      "\n",
      "                Heritage Bicycle Company\n",
      "            \n",
      "\n",
      "                La Colombe\n",
      "            \n",
      "\n",
      "                Gaslight Coffee Roasters\n",
      "            \n",
      "\n",
      "                Ipsento\n",
      "            \n",
      "\n",
      "                Purple Llama\n",
      "            \n",
      "\n",
      "                Dollop Coffee Co.\n",
      "            \n",
      "\n",
      "                Back of the Yards Coffee Co.\n",
      "            \n",
      "\n",
      "                Metropolis Coffee Company\n",
      "            \n",
      "\n",
      "                Hero Coffee Bar\n",
      "            \n",
      "\n",
      "                The Wormhole\n",
      "            \n"
     ]
    }
   ],
   "source": [
    "time_out = []\n",
    "for _ in mydivs:\n",
    "    print(_.text)\n",
    "    time_out.append(_.text)"
   ]
  },
  {
   "cell_type": "code",
   "execution_count": 52,
   "metadata": {},
   "outputs": [
    {
     "data": {
      "text/plain": [
       "['\\n                Caffé Streets\\n            ',\n",
       " '\\n                Dark Matter Coffee\\n            ',\n",
       " '\\n                Sawada Coffee\\n            ',\n",
       " '\\n                Metric Coffee Co.\\n            ',\n",
       " '\\n                Four Letter Word Coffee\\n            ',\n",
       " '\\n                Loba Pastry + Coffee\\n            ',\n",
       " '\\n                C.C. Ferns Coffee\\n            ',\n",
       " '\\n                Star Lounge\\n            ',\n",
       " '\\n                Colectivo Coffee\\n            ',\n",
       " '\\n                Intelligentsia Coffee\\n            ',\n",
       " '\\n                Bridgeport Coffee House\\n            ',\n",
       " '\\n                Big Shoulders Coffee\\n            ',\n",
       " '\\n                Heritage Bicycle Company\\n            ',\n",
       " '\\n                La Colombe\\n            ',\n",
       " '\\n                Gaslight Coffee Roasters\\n            ',\n",
       " '\\n                Ipsento\\n            ',\n",
       " '\\n                Purple Llama\\n            ',\n",
       " '\\n                Dollop Coffee Co.\\n            ',\n",
       " '\\n                Back of the Yards Coffee Co.\\n            ',\n",
       " '\\n                Metropolis Coffee Company\\n            ',\n",
       " '\\n                Hero Coffee Bar\\n            ',\n",
       " '\\n                The Wormhole\\n            ']"
      ]
     },
     "execution_count": 52,
     "metadata": {},
     "output_type": "execute_result"
    }
   ],
   "source": [
    "time_out"
   ]
  },
  {
   "cell_type": "code",
   "execution_count": 58,
   "metadata": {},
   "outputs": [],
   "source": [
    "time_out_strip = []\n",
    "for x in time_out:\n",
    "    time_out_strip.append((x.strip()))"
   ]
  },
  {
   "cell_type": "code",
   "execution_count": 59,
   "metadata": {},
   "outputs": [
    {
     "data": {
      "text/plain": [
       "['Caffé Streets',\n",
       " 'Dark Matter Coffee',\n",
       " 'Sawada Coffee',\n",
       " 'Metric Coffee Co.',\n",
       " 'Four Letter Word Coffee',\n",
       " 'Loba Pastry + Coffee',\n",
       " 'C.C. Ferns Coffee',\n",
       " 'Star Lounge',\n",
       " 'Colectivo Coffee',\n",
       " 'Intelligentsia Coffee',\n",
       " 'Bridgeport Coffee House',\n",
       " 'Big Shoulders Coffee',\n",
       " 'Heritage Bicycle Company',\n",
       " 'La Colombe',\n",
       " 'Gaslight Coffee Roasters',\n",
       " 'Ipsento',\n",
       " 'Purple Llama',\n",
       " 'Dollop Coffee Co.',\n",
       " 'Back of the Yards Coffee Co.',\n",
       " 'Metropolis Coffee Company',\n",
       " 'Hero Coffee Bar',\n",
       " 'The Wormhole']"
      ]
     },
     "execution_count": 59,
     "metadata": {},
     "output_type": "execute_result"
    }
   ],
   "source": [
    "time_out_strip"
   ]
  },
  {
   "cell_type": "code",
   "execution_count": 79,
   "metadata": {},
   "outputs": [],
   "source": [
    "ids_timeout_best = []\n",
    "for x in time_out_strip:\n",
    "    for key, value in coffee_dict.items():\n",
    "        shop = value[0].split('-')\n",
    "        best_shop = x.split(' ')\n",
    "        try:\n",
    "            if shop[0].lower() == best_shop[0].lower() and shop[1].lower() == best_shop[1].lower():\n",
    "                ids_timeout_best.append(key)\n",
    "        except:\n",
    "            if shop[0].lower() == 'ipsento':\n",
    "                ids_timeout_best.append(key)\n",
    "\n",
    "            \n",
    "            \n",
    "#         if x in value[0]:\n",
    "#             print(value[0])"
   ]
  },
  {
   "cell_type": "code",
   "execution_count": 81,
   "metadata": {},
   "outputs": [
    {
     "name": "stdout",
     "output_type": "stream",
     "text": [
      "('dark-matter-coffee-the-mothership-chicago', False, 41.89508, -87.68723, '738 N Western Ave, Chicago, IL 60612', '738 N Western Ave', '60612', '$$', 4.5, 196)\n",
      "('dark-matter-coffee-electric-mud-coffee-bar-chicago', False, 41.9155702, -87.6877, '1856 N Western Ave, Chicago, IL 60647', '1856 N Western Ave', '60647', 'no_price', 5.0, 16)\n",
      "('sawada-coffee-chicago', False, 41.8836669921875, -87.6489334106445, '112 N Green St, Chicago, IL 60607', '112 N Green St', '60607', '$$', 4.5, 528)\n",
      "('four-letter-word-chicago', False, 41.9323, -87.70348, '3022 W Diversey Ave, Chicago, IL 60647', '3022 W Diversey Ave', '60647', 'no_price', 5.0, 9)\n",
      "('loba-pastry-coffee-chicago', False, 41.94389, -87.672, '3422 N Lincoln Ave, Chicago, IL 60657', '3422 N Lincoln Ave', '60657', '$', 4.5, 61)\n",
      "('star-lounge-coffee-bar-chicago', False, 41.89544, -87.69017, '2521 W Chicago Ave, Chicago, IL 60622', '2521 W Chicago Ave', '60622', '$', 4.5, 515)\n",
      "('colectivo-coffee-chicago-2', False, 41.9222326, -87.6960043, '2261 N Milwaukee Ave, Chicago, IL 60647', '2261 N Milwaukee Ave', '60647', '$$', 4.5, 66)\n",
      "('colectivo-coffee-evanston-2', False, 42.0482782321271, -87.6809374408771, '716 Church St, Evanston, IL 60201', '716 Church St', '60201', 'no_price', 4.0, 35)\n",
      "('intelligentsia-coffee-chicago-8', False, 41.877995, -87.6295658341911, '53 W Jackson Blvd, Chicago, IL 60604', '53 W Jackson Blvd', '60604', '$$', 4.0, 1147)\n",
      "('intelligentsia-coffee-chicago-10', False, 41.9382576, -87.6440467, '3123 N Broadway St, Chicago, IL 60657', '3123 N Broadway St', '60657', '$$', 4.0, 598)\n",
      "('intelligentsia-coffee-chicago-14', False, 41.8840892669326, -87.6258363087269, '53 E Randolph St, Chicago, IL 60601', '53 E Randolph St', '60601', '$$', 4.0, 136)\n",
      "('intelligentsia-coffee-chicago-7', False, 41.9049884729, -87.6343021156, '1233 N Wells, Chicago, IL 60610', '1233 N Wells', '60610', '$', 4.0, 123)\n",
      "('intelligentsia-coffee-chicago-9', False, 41.9297450943981, -87.7086921036243, '2642 N Milwaukee Ave, Chicago, IL 60647', '2642 N Milwaukee Ave', '60647', '$$', 4.0, 180)\n",
      "('intelligentsia-coffee-chicago-12', False, 41.9033132, -87.6678873, '1609 W Division, Chicago, IL 60622', '1609 W Division', '60622', '$$', 3.5, 84)\n",
      "('bridgeport-coffee-chicago-4', False, 41.8378601074219, -87.6508483886719, '3101 S Morgan St, Chicago, IL 60608', '3101 S Morgan St', '60608', '$', 4.0, 389)\n",
      "('bridgeport-coffee-chicago', False, 41.8692467262252, -87.6327115641896, '1021 S Delano Ct W, Chicago, IL 60605', '1021 S Delano Ct W', '60605', '$', 4.0, 53)\n",
      "('bridgeport-coffee-chicago-2', False, 41.8031654853263, -87.5867020190491, '5030 S Cornell Ave, Chicago, IL 60615', '5030 S Cornell Ave', '60615', '$', 3.5, 69)\n",
      "('bridgeport-coffee-chicago-5', False, 41.8782097380412, -87.6254314887586, '73 E Jackson Blvd, Chicago, IL 60604', '73 E Jackson Blvd', '60604', '$$', 4.5, 9)\n",
      "('big-shoulders-coffee-chicago-4', False, 41.8944546, -87.6313149, '680 N Clark St, Chicago, IL 60654', '680 N Clark St', '60654', '$$', 4.0, 24)\n",
      "('big-shoulders-coffee-chicago-8', False, 41.87774, -87.63227, '141 W Jackson Blvd, Chicago, IL 60604', '141 W Jackson Blvd', '60604', 'no_price', 5.0, 2)\n",
      "('big-shoulders-coffee-chicago-9', False, 41.7849137585667, -87.7433688566052, '5700 S Cicero Ave, Chicago, IL 60638', '5700 S Cicero Ave', '60638', 'no_price', 2.5, 3)\n",
      "('la-colombe-coffee-chicago-5', False, 41.9033063, -87.6283898, '4 E Elm St, Chicago, IL 60611', '4 E Elm St', '60611', '$', 4.5, 33)\n",
      "('la-colombe-coffee-chicago-3', False, 41.884110942717, -87.651928959323, '955 W Randolph St, Chicago, IL 60607', '955 W Randolph St', '60607', '$', 4.0, 430)\n",
      "('la-colombe-coffee-chicago-2', False, 41.9097887, -87.6776413, '1552 N Damen Ave, Chicago, IL 60622', '1552 N Damen Ave', '60622', '$', 4.0, 143)\n",
      "('la-colombe-coffee-chicago', False, 41.9760270697332, -87.6686508133321, '5158 N Clark St, Chicago, IL 60640', '5158 N Clark St', '60640', '$', 4.0, 210)\n",
      "('la-colombe-coffee-chicago-4', False, 41.9182445724707, -87.6508014417597, '858 W Armitage Ave, Chicago, IL 60614', '858 W Armitage Ave', '60614', '$$', 4.0, 59)\n",
      "('la-colombe-cafe-at-the-ritz-carlton-chicago', False, 41.897769, -87.622379, '160 E Pearson St, Chicago, IL 60611', '160 E Pearson St', '60611', 'no_price', 4.5, 6)\n",
      "('ipsento-chicago', False, 41.9186515808105, -87.6871032714844, '2035 N Western Ave, Chicago, IL 60647', '2035 N Western Ave', '60647', '$', 4.5, 819)\n",
      "('ipsento-606-chicago', False, 41.91443, -87.68326, '1813 N Milwaukee Ave, Chicago, IL 60647', '1813 N Milwaukee Ave', '60647', '$$', 4.5, 212)\n",
      "('purple-llama-chicago-3', False, 41.90338, -87.68131, '2140 W Division St, Chicago, IL 60622', '2140 W Division St', '60622', '$$', 4.5, 50)\n",
      "('dollop-coffee-and-tea-chicago-2', False, 41.8924508684265, -87.6186701969267, '345 E Ohio St, Chicago, IL 60611', '345 E Ohio St', '60611', '$', 4.0, 442)\n",
      "('dollop-coffee-company-chicago-2', False, 41.8769112, -87.628724, '343 S Dearborn St, Chicago, IL 60604', '343 S Dearborn St', '60604', '$$', 4.0, 196)\n",
      "('dollop-coffee-and-tea-chicago', False, 41.95807, -87.6495, '4181 N Clarendon Ave, Chicago, IL 60613', '4181 N Clarendon Ave', '60613', '$', 4.0, 490)\n",
      "('dollop-coffee-bar-chicago', False, 41.89872, -87.62058, '860 N Dewitt Pl, Chicago, IL 60611', '860 N Dewitt Pl', '60611', '$$', 4.0, 77)\n",
      "('dollop-coffee-co-chicago-4', False, 41.893851, -87.633938, '643 N Wells St, Chicago, IL 60654', '643 N Wells St', '60654', '$$', 4.0, 31)\n",
      "('dollop-coffee-chicago-3', False, 41.88281, -87.63481, '225 W Washington St, Chicago, IL 60606', '225 W Washington St', '60606', '$$', 4.0, 27)\n",
      "('dollop-coffee-chicago-5', False, 41.7945853087028, -87.5994467753569, '5500 S University Ave, Chicago, IL 60637', '5500 S University Ave', '60637', '$$', 3.5, 27)\n",
      "('dollop-coffee-company-chicago-4', False, 41.8717375602839, -87.6331285227427, '801 S Financial Pl, Chicago, IL 60607', '801 S Financial Pl', '60607', '$$', 3.5, 14)\n",
      "('dollop-coffee-chicago-4', False, 41.88036, -87.6298, '55 W Monroe St, Chicago, IL 60603', '55 W Monroe St', '60603', '$$', 3.5, 53)\n",
      "('dollop-coffee-chicago-11', False, 41.8980000521551, -87.6429501669061, '853 N Larrabee, Chicago, IL 60610', '853 N Larrabee', '60610', 'no_price', 2.5, 7)\n",
      "('back-of-the-yards-coffeehouse-and-roastery-chicago', False, 41.80823, -87.67693, '2059 W 47th St, Chicago, IL 60609', '2059 W 47th St', '60609', '$', 4.5, 67)\n",
      "('metropolis-coffee-company-chicago-3', False, 41.9944633959929, -87.6573875525959, '1039 W Granville Ave, Chicago, IL 60660', '1039 W Granville Ave', '60660', '$', 4.5, 613)\n",
      "('hero-coffee-bar-chicago', False, 41.8758857, -87.62904, '439 S Dearborn St, Chicago, IL 60605', '439 S Dearborn St', '60605', '$', 4.5, 354)\n",
      "('hero-coffee-bar-chicago-7', False, 41.89576, -87.66934, '1651 W Chicago Ave, Chicago, IL 60622', '1651 W Chicago Ave', '60622', 'no_price', 4.0, 10)\n",
      "('hero-coffee-bar-chicago-14', False, 41.93582, -87.639475, '2950 N Sheridan Rd, Chicago, IL 60657', '2950 N Sheridan Rd', '60657', 'no_price', 4.0, 25)\n",
      "('hero-coffee-bar-chicago-6', False, 41.87851, -87.62668, '22 E Jackson Blvd, Chicago, IL 60604', '22 E Jackson Blvd', '60604', '$', 4.0, 34)\n",
      "('hero-coffee-bar-chicago-11', False, 41.889994, -87.632667, '222 N Lasalle Dr, Chicago, IL 60601', '222 N Lasalle Dr', '60601', '$', 4.0, 3)\n",
      "('the-wormhole-coffee-chicago', False, 41.90828, -87.67471, '1462 N Milwaukee Ave, Chicago, IL 60622', '1462 N Milwaukee Ave', '60622', '$', 4.5, 1055)\n"
     ]
    }
   ],
   "source": [
    "for _id in ids_timeout_best:\n",
    "    print(coffee_dict[_id])"
   ]
  },
  {
   "cell_type": "markdown",
   "metadata": {},
   "source": [
    "## Eater Best Coffee Shops"
   ]
  },
  {
   "cell_type": "code",
   "execution_count": 83,
   "metadata": {},
   "outputs": [
    {
     "name": "stderr",
     "output_type": "stream",
     "text": [
      "/anaconda3/lib/python3.6/site-packages/urllib3/connectionpool.py:857: InsecureRequestWarning: Unverified HTTPS request is being made. Adding certificate verification is strongly advised. See: https://urllib3.readthedocs.io/en/latest/advanced-usage.html#ssl-warnings\n",
      "  InsecureRequestWarning)\n"
     ]
    }
   ],
   "source": [
    "r=http.request('GET','https://chicago.eater.com/maps/best-chicago-coffee-shops-map')\n",
    "soup =BeautifulSoup(r.data)"
   ]
  },
  {
   "cell_type": "code",
   "execution_count": 84,
   "metadata": {},
   "outputs": [],
   "source": [
    "mydivs = soup.findAll('h1')"
   ]
  },
  {
   "cell_type": "code",
   "execution_count": 93,
   "metadata": {},
   "outputs": [],
   "source": [
    "eater_top_shops = []\n",
    "for x in mydivs[1:21]:\n",
    "    eater_top_shops.append((x.text[4:].strip()))"
   ]
  },
  {
   "cell_type": "code",
   "execution_count": 94,
   "metadata": {},
   "outputs": [
    {
     "data": {
      "text/plain": [
       "['Oromo Cafe',\n",
       " 'Osmium Coffee Bar',\n",
       " 'Gaslight Coffee Roasters',\n",
       " 'Sip of Hope Coffee Bar',\n",
       " 'Ipsento 606',\n",
       " 'The Wormhole Coffee',\n",
       " 'Caffe Streets',\n",
       " 'Dropshot Coffee & Snack Bar',\n",
       " 'Caffé Umbria',\n",
       " 'Passion House Coffee Roasters',\n",
       " 'Limitless Coffee & Tea',\n",
       " 'Sawada Coffee',\n",
       " 'Overflow Coffee Bar',\n",
       " 'Cà Phê Dá',\n",
       " 'Cafe Jumping Bean',\n",
       " 'Bridgeport Coffee Company',\n",
       " 'Back Of The Yards Coffehouse & Roastery',\n",
       " 'Plein Air Cafe & Eatery',\n",
       " 'Build Coffee',\n",
       " 'Kusanya Cafe']"
      ]
     },
     "execution_count": 94,
     "metadata": {},
     "output_type": "execute_result"
    }
   ],
   "source": [
    "eater_top_shops"
   ]
  },
  {
   "cell_type": "code",
   "execution_count": 95,
   "metadata": {},
   "outputs": [],
   "source": [
    "ids_eater = []\n",
    "for x in eater_top_shops:\n",
    "    for key, value in coffee_dict.items():\n",
    "        shop = value[0].split('-')\n",
    "        best_shop = x.split(' ')\n",
    "        try:\n",
    "            if shop[0].lower() == best_shop[0].lower() and shop[1].lower() == best_shop[1].lower():\n",
    "                ids_eater.append(key)\n",
    "        except:\n",
    "            if shop[0].lower() == 'ipsento':\n",
    "                ids_eater.append(key)"
   ]
  },
  {
   "cell_type": "code",
   "execution_count": 97,
   "metadata": {},
   "outputs": [
    {
     "name": "stdout",
     "output_type": "stream",
     "text": [
      "('oromo-cafe-chicago', False, 41.9667937, -87.6871507, '4703 N Lincoln Ave, Chicago, IL 60625', '4703 N Lincoln Ave', '60625', '$', 4.5, 138)\n",
      "('osmium-coffee-bar-chicago', False, 41.9396019, -87.6573029, '1117 W Belmont Ave, Chicago, IL 60657', '1117 W Belmont Ave', '60657', '$', 4.5, 237)\n",
      "('sip-of-hope-chicago-2', False, 41.92444, -87.70389, '3039 W Fullerton Ave, Chicago, IL 60647', '3039 W Fullerton Ave', '60647', '$', 5.0, 57)\n",
      "('ipsento-606-chicago', False, 41.91443, -87.68326, '1813 N Milwaukee Ave, Chicago, IL 60647', '1813 N Milwaukee Ave', '60647', '$$', 4.5, 212)\n",
      "('the-wormhole-coffee-chicago', False, 41.90828, -87.67471, '1462 N Milwaukee Ave, Chicago, IL 60622', '1462 N Milwaukee Ave', '60622', '$', 4.5, 1055)\n",
      "('caffe-streets-chicago-2', False, 41.90354, -87.67197, '1750 W Division, Chicago, IL 60622', '1750 W Division', '60622', '$$', 4.0, 322)\n",
      "('dropshot-coffee-and-snack-bar-chicago-2', False, 41.89857, -87.63641, '312 W Chestnut St, Chicago, IL 60610', '312 W Chestnut St', '60610', '$', 4.5, 56)\n",
      "('limitless-coffee-and-tea-river-north-chicago', False, 41.8944027885279, -87.6338309794664, '675 N Wells St, Chicago, IL 60654', '675 N Wells St', '60654', '$$', 3.5, 47)\n",
      "('limitless-coffee-and-tea-michigan-avenue-chicago-2', False, 41.88481, -87.62497, '150 N Michigan Ave, Chicago, IL 60601', '150 N Michigan Ave', '60601', 'no_price', 3.5, 4)\n",
      "('sawada-coffee-chicago', False, 41.8836669921875, -87.6489334106445, '112 N Green St, Chicago, IL 60607', '112 N Green St', '60607', '$$', 4.5, 528)\n",
      "('overflow-coffee-bar-chicago', False, 41.8604469634764, -87.6275077856833, '1550 S State St, Chicago, IL 60605', '1550 S State St', '60605', '$', 4.0, 245)\n",
      "('cafe-jumping-bean-chicago', False, 41.85762, -87.66278, '1439 W 18th St, Chicago, IL 60608', '1439 W 18th St', '60608', '$', 4.5, 331)\n",
      "('bridgeport-coffee-chicago-4', False, 41.8378601074219, -87.6508483886719, '3101 S Morgan St, Chicago, IL 60608', '3101 S Morgan St', '60608', '$', 4.0, 389)\n",
      "('bridgeport-coffee-chicago', False, 41.8692467262252, -87.6327115641896, '1021 S Delano Ct W, Chicago, IL 60605', '1021 S Delano Ct W', '60605', '$', 4.0, 53)\n",
      "('bridgeport-coffee-chicago-2', False, 41.8031654853263, -87.5867020190491, '5030 S Cornell Ave, Chicago, IL 60615', '5030 S Cornell Ave', '60615', '$', 3.5, 69)\n",
      "('bridgeport-coffee-chicago-5', False, 41.8782097380412, -87.6254314887586, '73 E Jackson Blvd, Chicago, IL 60604', '73 E Jackson Blvd', '60604', '$$', 4.5, 9)\n",
      "('back-of-the-yards-coffeehouse-and-roastery-chicago', False, 41.80823, -87.67693, '2059 W 47th St, Chicago, IL 60609', '2059 W 47th St', '60609', '$', 4.5, 67)\n",
      "('plein-air-cafe-and-eatery-chicago-2', False, 41.7903074, -87.5962851, '5751 S Woodlawn Ave, Chicago, IL 60637', '5751 S Woodlawn Ave', '60637', '$$', 4.0, 186)\n",
      "('build-coffee-chicago', False, 41.78407, -87.59057, '6100 S Blackstone Ave, Chicago, IL 60637', '6100 S Blackstone Ave', '60637', '$', 4.5, 20)\n",
      "('kusanya-cafe-chicago', False, 41.76858, -87.64553, '825 W 69th St, Chicago, IL 60621', '825 W 69th St', '60621', '$', 4.5, 73)\n"
     ]
    }
   ],
   "source": [
    "for x in ids_eater:\n",
    "    print(coffee_dict[x])"
   ]
  },
  {
   "cell_type": "markdown",
   "metadata": {},
   "source": [
    "## Combine eater and timeout"
   ]
  },
  {
   "cell_type": "code",
   "execution_count": 99,
   "metadata": {},
   "outputs": [
    {
     "data": {
      "text/plain": [
       "48"
      ]
     },
     "execution_count": 99,
     "metadata": {},
     "output_type": "execute_result"
    }
   ],
   "source": [
    "\n",
    "len(ids_timeout_best)"
   ]
  },
  {
   "cell_type": "code",
   "execution_count": 101,
   "metadata": {},
   "outputs": [
    {
     "data": {
      "text/plain": [
       "20"
      ]
     },
     "execution_count": 101,
     "metadata": {},
     "output_type": "execute_result"
    }
   ],
   "source": [
    "len(ids_eater)"
   ]
  },
  {
   "cell_type": "code",
   "execution_count": 108,
   "metadata": {},
   "outputs": [],
   "source": [
    "all_best_shop_ids = ids_eater\n",
    "for shop_id in ids_timeout_best:\n",
    "    if shop_id not in ids_eater:\n",
    "        all_best_shops.append(shop_id)"
   ]
  },
  {
   "cell_type": "code",
   "execution_count": 111,
   "metadata": {},
   "outputs": [
    {
     "name": "stdout",
     "output_type": "stream",
     "text": [
      "oromo-cafe-chicago\n",
      "osmium-coffee-bar-chicago\n",
      "sip-of-hope-chicago-2\n",
      "ipsento-606-chicago\n",
      "the-wormhole-coffee-chicago\n",
      "caffe-streets-chicago-2\n",
      "dropshot-coffee-and-snack-bar-chicago-2\n",
      "limitless-coffee-and-tea-river-north-chicago\n",
      "limitless-coffee-and-tea-michigan-avenue-chicago-2\n",
      "sawada-coffee-chicago\n",
      "overflow-coffee-bar-chicago\n",
      "cafe-jumping-bean-chicago\n",
      "bridgeport-coffee-chicago-4\n",
      "bridgeport-coffee-chicago\n",
      "bridgeport-coffee-chicago-2\n",
      "bridgeport-coffee-chicago-5\n",
      "back-of-the-yards-coffeehouse-and-roastery-chicago\n",
      "plein-air-cafe-and-eatery-chicago-2\n",
      "build-coffee-chicago\n",
      "kusanya-cafe-chicago\n",
      "dark-matter-coffee-the-mothership-chicago\n",
      "dark-matter-coffee-electric-mud-coffee-bar-chicago\n",
      "four-letter-word-chicago\n",
      "loba-pastry-coffee-chicago\n",
      "star-lounge-coffee-bar-chicago\n",
      "colectivo-coffee-chicago-2\n",
      "colectivo-coffee-evanston-2\n",
      "intelligentsia-coffee-chicago-8\n",
      "intelligentsia-coffee-chicago-10\n",
      "intelligentsia-coffee-chicago-14\n",
      "intelligentsia-coffee-chicago-7\n",
      "intelligentsia-coffee-chicago-9\n",
      "intelligentsia-coffee-chicago-12\n",
      "big-shoulders-coffee-chicago-4\n",
      "big-shoulders-coffee-chicago-8\n",
      "big-shoulders-coffee-chicago-9\n",
      "la-colombe-coffee-chicago-5\n",
      "la-colombe-coffee-chicago-3\n",
      "la-colombe-coffee-chicago-2\n",
      "la-colombe-coffee-chicago\n",
      "la-colombe-coffee-chicago-4\n",
      "la-colombe-cafe-at-the-ritz-carlton-chicago\n",
      "ipsento-chicago\n",
      "purple-llama-chicago-3\n",
      "dollop-coffee-and-tea-chicago-2\n",
      "dollop-coffee-company-chicago-2\n",
      "dollop-coffee-and-tea-chicago\n",
      "dollop-coffee-bar-chicago\n",
      "dollop-coffee-co-chicago-4\n",
      "dollop-coffee-chicago-3\n",
      "dollop-coffee-chicago-5\n",
      "dollop-coffee-company-chicago-4\n",
      "dollop-coffee-chicago-4\n",
      "dollop-coffee-chicago-11\n",
      "metropolis-coffee-company-chicago-3\n",
      "hero-coffee-bar-chicago\n",
      "hero-coffee-bar-chicago-7\n",
      "hero-coffee-bar-chicago-14\n",
      "hero-coffee-bar-chicago-6\n",
      "hero-coffee-bar-chicago-11\n"
     ]
    }
   ],
   "source": [
    "for _id in all_best_shop_ids:\n",
    "    print(coffee_dict[_id][0])\n"
   ]
  },
  {
   "cell_type": "code",
   "execution_count": 112,
   "metadata": {},
   "outputs": [],
   "source": [
    "with open('best_coffee_shop_ids.p','wb') as write_file:\n",
    "    pickle.dump(all_best_shop_ids, write_file)"
   ]
  },
  {
   "cell_type": "code",
   "execution_count": null,
   "metadata": {},
   "outputs": [],
   "source": []
  }
 ],
 "metadata": {
  "kernelspec": {
   "display_name": "Python 3",
   "language": "python",
   "name": "python3"
  },
  "language_info": {
   "codemirror_mode": {
    "name": "ipython",
    "version": 3
   },
   "file_extension": ".py",
   "mimetype": "text/x-python",
   "name": "python",
   "nbconvert_exporter": "python",
   "pygments_lexer": "ipython3",
   "version": "3.7.2"
  },
  "toc": {
   "base_numbering": 1,
   "nav_menu": {},
   "number_sections": true,
   "sideBar": true,
   "skip_h1_title": false,
   "title_cell": "Table of Contents",
   "title_sidebar": "Contents",
   "toc_cell": false,
   "toc_position": {},
   "toc_section_display": true,
   "toc_window_display": false
  },
  "varInspector": {
   "cols": {
    "lenName": 16,
    "lenType": 16,
    "lenVar": 40
   },
   "kernels_config": {
    "python": {
     "delete_cmd_postfix": "",
     "delete_cmd_prefix": "del ",
     "library": "var_list.py",
     "varRefreshCmd": "print(var_dic_list())"
    },
    "r": {
     "delete_cmd_postfix": ") ",
     "delete_cmd_prefix": "rm(",
     "library": "var_list.r",
     "varRefreshCmd": "cat(var_dic_list()) "
    }
   },
   "types_to_exclude": [
    "module",
    "function",
    "builtin_function_or_method",
    "instance",
    "_Feature"
   ],
   "window_display": false
  }
 },
 "nbformat": 4,
 "nbformat_minor": 2
}
