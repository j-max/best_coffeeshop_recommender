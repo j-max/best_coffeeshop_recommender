{
 "cells": [
  {
   "cell_type": "code",
   "execution_count": 44,
   "metadata": {},
   "outputs": [],
   "source": [
    "import pandas as pd\n",
    "import re\n",
    "import pickle"
   ]
  },
  {
   "cell_type": "code",
   "execution_count": 2,
   "metadata": {},
   "outputs": [],
   "source": [
    "zip_df = pd.read_csv('Zip_Codes.csv')"
   ]
  },
  {
   "cell_type": "code",
   "execution_count": 42,
   "metadata": {},
   "outputs": [
    {
     "data": {
      "text/html": [
       "<div>\n",
       "<style scoped>\n",
       "    .dataframe tbody tr th:only-of-type {\n",
       "        vertical-align: middle;\n",
       "    }\n",
       "\n",
       "    .dataframe tbody tr th {\n",
       "        vertical-align: top;\n",
       "    }\n",
       "\n",
       "    .dataframe thead th {\n",
       "        text-align: right;\n",
       "    }\n",
       "</style>\n",
       "<table border=\"1\" class=\"dataframe\">\n",
       "  <thead>\n",
       "    <tr style=\"text-align: right;\">\n",
       "      <th></th>\n",
       "      <th>the_geom</th>\n",
       "      <th>OBJECTID</th>\n",
       "      <th>ZIP</th>\n",
       "      <th>SHAPE_AREA</th>\n",
       "      <th>SHAPE_LEN</th>\n",
       "    </tr>\n",
       "  </thead>\n",
       "  <tbody>\n",
       "    <tr>\n",
       "      <th>0</th>\n",
       "      <td>MULTIPOLYGON (((-87.67762151065281 41.91775780...</td>\n",
       "      <td>33</td>\n",
       "      <td>60647</td>\n",
       "      <td>1.060523e+08</td>\n",
       "      <td>42720.044406</td>\n",
       "    </tr>\n",
       "    <tr>\n",
       "      <th>1</th>\n",
       "      <td>MULTIPOLYGON (((-87.72683253163021 41.92264626...</td>\n",
       "      <td>34</td>\n",
       "      <td>60639</td>\n",
       "      <td>1.274761e+08</td>\n",
       "      <td>48103.782721</td>\n",
       "    </tr>\n",
       "    <tr>\n",
       "      <th>2</th>\n",
       "      <td>MULTIPOLYGON (((-87.78500237831095 41.90914785...</td>\n",
       "      <td>35</td>\n",
       "      <td>60707</td>\n",
       "      <td>4.506904e+07</td>\n",
       "      <td>27288.609612</td>\n",
       "    </tr>\n",
       "    <tr>\n",
       "      <th>3</th>\n",
       "      <td>MULTIPOLYGON (((-87.6670686895295 41.888851884...</td>\n",
       "      <td>36</td>\n",
       "      <td>60622</td>\n",
       "      <td>7.085383e+07</td>\n",
       "      <td>42527.989679</td>\n",
       "    </tr>\n",
       "    <tr>\n",
       "      <th>4</th>\n",
       "      <td>MULTIPOLYGON (((-87.70655631674127 41.89555340...</td>\n",
       "      <td>37</td>\n",
       "      <td>60651</td>\n",
       "      <td>9.903962e+07</td>\n",
       "      <td>47970.140153</td>\n",
       "    </tr>\n",
       "  </tbody>\n",
       "</table>\n",
       "</div>"
      ],
      "text/plain": [
       "                                            the_geom  OBJECTID    ZIP  \\\n",
       "0  MULTIPOLYGON (((-87.67762151065281 41.91775780...        33  60647   \n",
       "1  MULTIPOLYGON (((-87.72683253163021 41.92264626...        34  60639   \n",
       "2  MULTIPOLYGON (((-87.78500237831095 41.90914785...        35  60707   \n",
       "3  MULTIPOLYGON (((-87.6670686895295 41.888851884...        36  60622   \n",
       "4  MULTIPOLYGON (((-87.70655631674127 41.89555340...        37  60651   \n",
       "\n",
       "     SHAPE_AREA     SHAPE_LEN  \n",
       "0  1.060523e+08  42720.044406  \n",
       "1  1.274761e+08  48103.782721  \n",
       "2  4.506904e+07  27288.609612  \n",
       "3  7.085383e+07  42527.989679  \n",
       "4  9.903962e+07  47970.140153  "
      ]
     },
     "execution_count": 42,
     "metadata": {},
     "output_type": "execute_result"
    }
   ],
   "source": [
    "zip_df.head()"
   ]
  },
  {
   "cell_type": "code",
   "execution_count": 19,
   "metadata": {},
   "outputs": [],
   "source": [
    "one_zip = zip_df.iloc[0]['the_geom'].split(\" \")\n",
    "lat_pat = re.compile('[^-\\d][\\d]+[.][\\d]+')\n",
    "lats = lat_pat.findall(str(one_zip))\n",
    "long_pat = re.compile('[-][\\d]+[.][\\d]+')\n",
    "longs = long_pat.findall(str(one_zip))\n"
   ]
  },
  {
   "cell_type": "code",
   "execution_count": 20,
   "metadata": {},
   "outputs": [],
   "source": [
    "float_lats = [float(x[1:]) for x in lats]\n",
    "avg_lat = sum(float_lats)/len(float_lats)\n",
    "\n",
    "float_longs = [float(x) for x in longs]\n",
    "avg_long = sum(float_longs)/len(float_longs)"
   ]
  },
  {
   "cell_type": "code",
   "execution_count": 21,
   "metadata": {},
   "outputs": [
    {
     "name": "stdout",
     "output_type": "stream",
     "text": [
      "41.922629922496114 -87.69956348259791\n"
     ]
    }
   ],
   "source": [
    "print(avg_lat, avg_long)"
   ]
  },
  {
   "cell_type": "code",
   "execution_count": 46,
   "metadata": {},
   "outputs": [],
   "source": [
    "zip_dict = {}\n",
    "for index, row in zip_df.iterrows():\n",
    "    zip_coord = row['the_geom'].split(\" \")\n",
    "    lat_pat = re.compile('[^-\\d][\\d]+[.][\\d]+')\n",
    "    lats = lat_pat.findall(str(zip_coord))\n",
    "    long_pat = re.compile('[-][\\d]+[.][\\d]+')\n",
    "    longs = long_pat.findall(str(zip_coord))\n",
    "    float_lats = [float(x[1:]) for x in lats]\n",
    "    avg_lat = sum(float_lats)/len(float_lats)\n",
    "    float_longs = [float(x) for x in longs]\n",
    "    avg_long = sum(float_longs)/len(float_longs)\n",
    "\n",
    "    zip_dict[row['ZIP']] = [avg_lat, avg_long]\n",
    "    "
   ]
  },
  {
   "cell_type": "code",
   "execution_count": null,
   "metadata": {},
   "outputs": [],
   "source": []
  },
  {
   "cell_type": "code",
   "execution_count": 47,
   "metadata": {},
   "outputs": [],
   "source": [
    "with open('zip_lat_long.pk', 'wb') as write_file:\n",
    "    pickle.dump(zip_dict, write_file)"
   ]
  },
  {
   "cell_type": "code",
   "execution_count": null,
   "metadata": {},
   "outputs": [],
   "source": []
  }
 ],
 "metadata": {
  "kernelspec": {
   "display_name": "Python 3",
   "language": "python",
   "name": "python3"
  },
  "language_info": {
   "codemirror_mode": {
    "name": "ipython",
    "version": 3
   },
   "file_extension": ".py",
   "mimetype": "text/x-python",
   "name": "python",
   "nbconvert_exporter": "python",
   "pygments_lexer": "ipython3",
   "version": "3.6.7"
  },
  "toc": {
   "base_numbering": 1,
   "nav_menu": {},
   "number_sections": true,
   "sideBar": true,
   "skip_h1_title": false,
   "title_cell": "Table of Contents",
   "title_sidebar": "Contents",
   "toc_cell": false,
   "toc_position": {},
   "toc_section_display": true,
   "toc_window_display": false
  },
  "varInspector": {
   "cols": {
    "lenName": 16,
    "lenType": 16,
    "lenVar": 40
   },
   "kernels_config": {
    "python": {
     "delete_cmd_postfix": "",
     "delete_cmd_prefix": "del ",
     "library": "var_list.py",
     "varRefreshCmd": "print(var_dic_list())"
    },
    "r": {
     "delete_cmd_postfix": ") ",
     "delete_cmd_prefix": "rm(",
     "library": "var_list.r",
     "varRefreshCmd": "cat(var_dic_list()) "
    }
   },
   "types_to_exclude": [
    "module",
    "function",
    "builtin_function_or_method",
    "instance",
    "_Feature"
   ],
   "window_display": false
  }
 },
 "nbformat": 4,
 "nbformat_minor": 2
}
