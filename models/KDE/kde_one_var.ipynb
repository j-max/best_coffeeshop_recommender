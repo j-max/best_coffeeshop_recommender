{
 "cells": [
  {
   "cell_type": "code",
   "execution_count": 126,
   "metadata": {},
   "outputs": [],
   "source": [
    "import pandas as pd\n",
    "import numpy as np\n",
    "import pickle\n",
    "from collections import defaultdict\n",
    "import matplotlib.pyplot as plt\n",
    "\n",
    "from sklearn.neighbors import KernelDensity\n",
    "from sklearn.preprocessing import StandardScaler\n",
    "import matplotlib.pyplot as plt\n",
    "import seaborn as sns"
   ]
  },
  {
   "cell_type": "code",
   "execution_count": 101,
   "metadata": {},
   "outputs": [],
   "source": [
    "with open('../dataframes/df_with_libs.p', 'rb') as read_file:\n",
    "    df = pickle.load(read_file)"
   ]
  },
  {
   "cell_type": "code",
   "execution_count": 5,
   "metadata": {},
   "outputs": [
    {
     "data": {
      "text/plain": [
       "41.644696143019985"
      ]
     },
     "execution_count": 5,
     "metadata": {},
     "output_type": "execute_result"
    }
   ],
   "source": [
    "df['block_lat'].min()"
   ]
  },
  {
   "cell_type": "markdown",
   "metadata": {},
   "source": [
    "## PMF coffee Shops"
   ]
  },
  {
   "cell_type": "code",
   "execution_count": 6,
   "metadata": {},
   "outputs": [],
   "source": [
    "coffee_counts = defaultdict(int)\n",
    "\n",
    "for index, item in df.iterrows():\n",
    "    coffee_counts[item['cof_within_001']] += 1\n",
    " "
   ]
  },
  {
   "cell_type": "code",
   "execution_count": 7,
   "metadata": {},
   "outputs": [
    {
     "data": {
      "text/plain": [
       "[<matplotlib.lines.Line2D at 0x1a161e27f0>]"
      ]
     },
     "execution_count": 7,
     "metadata": {},
     "output_type": "execute_result"
    },
    {
     "data": {
      "image/png": "[encoded data removed]",
      "text/plain": [
       "<Figure size 432x288 with 1 Axes>"
      ]
     },
     "metadata": {
      "needs_background": "light"
     },
     "output_type": "display_data"
    }
   ],
   "source": [
    "pmf_shops = defaultdict(int)\n",
    "num_blocks = df.shape[0]\n",
    "for key, value in coffee_counts.items():\n",
    "    pmf_shops[key] = value/num_blocks\n",
    "pmf_shops\n",
    "\n",
    "fig = plt.figure()\n",
    "ax  = plt.axes()\n",
    "plt.title('PDF of Coffee Shop Counts per Block')\n",
    "plt.xlabel('Coffee Shop Count')\n",
    "plt.ylabel('Probability')\n",
    "ax.plot(pmf_shops.keys(), pmf_shops.values())\n"
   ]
  },
  {
   "cell_type": "markdown",
   "metadata": {},
   "source": [
    "## CDF Coffee Shops"
   ]
  },
  {
   "cell_type": "code",
   "execution_count": 8,
   "metadata": {},
   "outputs": [
    {
     "data": {
      "text/plain": [
       "{0: 0.0,\n",
       " 1: 0.9722192218789829,\n",
       " 2: 0.9944481648700612,\n",
       " 3: 0.9982934047655052,\n",
       " 4: 0.9994167332742866,\n",
       " 5: 0.9998703851720637,\n",
       " 6: 0.9999783975286772}"
      ]
     },
     "execution_count": 8,
     "metadata": {},
     "output_type": "execute_result"
    }
   ],
   "source": [
    "cdf = {}\n",
    "count = 0\n",
    "num_blocks = df.shape[0]\n",
    "for key, value in coffee_counts.items():\n",
    "    cdf[key] = count/num_blocks\n",
    "    count += value\n",
    "cdf"
   ]
  },
  {
   "cell_type": "code",
   "execution_count": 9,
   "metadata": {},
   "outputs": [
    {
     "data": {
      "text/plain": [
       "[<matplotlib.lines.Line2D at 0x1a144f4780>]"
      ]
     },
     "execution_count": 9,
     "metadata": {},
     "output_type": "execute_result"
    },
    {
     "data": {
      "image/png": "[encoded data removed]",
      "text/plain": [
       "<Figure size 432x288 with 1 Axes>"
      ]
     },
     "metadata": {
      "needs_background": "light"
     },
     "output_type": "display_data"
    }
   ],
   "source": [
    "fig = plt.figure()\n",
    "ax  = plt.axes()\n",
    "plt.title('CDF of Coffee Shop Counts per Block')\n",
    "plt.xlabel('Coffee Shop Count')\n",
    "plt.ylabel('CDF')\n",
    "ax.plot(cdf.keys(), cdf.values())"
   ]
  },
  {
   "cell_type": "code",
   "execution_count": 10,
   "metadata": {},
   "outputs": [],
   "source": [
    "X_vals = np.linspace(0,6,14)\n",
    "X_vals = X_vals.reshape(-1,1)\n",
    "X = df['cof_within_001']\n",
    "\n",
    "X = X.values.reshape(-1,1)"
   ]
  },
  {
   "cell_type": "code",
   "execution_count": 12,
   "metadata": {},
   "outputs": [
    {
     "ename": "TypeError",
     "evalue": "score() missing 1 required positional argument: 'X'",
     "output_type": "error",
     "traceback": [
      "\u001b[0;31m---------------------------------------------------------------------------\u001b[0m",
      "\u001b[0;31mTypeError\u001b[0m                                 Traceback (most recent call last)",
      "\u001b[0;32m<ipython-input-12-c487d4ce40c2>\u001b[0m in \u001b[0;36m<module>\u001b[0;34m\u001b[0m\n\u001b[1;32m      1\u001b[0m \u001b[0mkde\u001b[0m \u001b[0;34m=\u001b[0m \u001b[0mKernelDensity\u001b[0m\u001b[0;34m(\u001b[0m\u001b[0mkernel\u001b[0m\u001b[0;34m=\u001b[0m\u001b[0;34m'gaussian'\u001b[0m\u001b[0;34m,\u001b[0m \u001b[0mbandwidth\u001b[0m\u001b[0;34m=\u001b[0m\u001b[0;36m.5\u001b[0m\u001b[0;34m)\u001b[0m\u001b[0;34m.\u001b[0m\u001b[0mfit\u001b[0m\u001b[0;34m(\u001b[0m\u001b[0mX\u001b[0m\u001b[0;34m)\u001b[0m\u001b[0;34m\u001b[0m\u001b[0;34m\u001b[0m\u001b[0m\n\u001b[1;32m      2\u001b[0m \u001b[0mlog_dens\u001b[0m \u001b[0;34m=\u001b[0m \u001b[0mkde\u001b[0m\u001b[0;34m.\u001b[0m\u001b[0mscore_samples\u001b[0m\u001b[0;34m(\u001b[0m\u001b[0mX_vals\u001b[0m\u001b[0;34m)\u001b[0m\u001b[0;34m\u001b[0m\u001b[0;34m\u001b[0m\u001b[0m\n\u001b[0;32m----> 3\u001b[0;31m \u001b[0mkde\u001b[0m\u001b[0;34m.\u001b[0m\u001b[0mscore\u001b[0m\u001b[0;34m(\u001b[0m\u001b[0;34m)\u001b[0m\u001b[0;34m\u001b[0m\u001b[0;34m\u001b[0m\u001b[0m\n\u001b[0m",
      "\u001b[0;31mTypeError\u001b[0m: score() missing 1 required positional argument: 'X'"
     ]
    }
   ],
   "source": [
    "kde = KernelDensity(kernel='gaussian', bandwidth=.5).fit(X)\n",
    "log_dens = kde.score_samples(X_vals)\n",
    "kde.score()"
   ]
  },
  {
   "cell_type": "code",
   "execution_count": 13,
   "metadata": {},
   "outputs": [
    {
     "data": {
      "text/plain": [
       "array([ -0.25087445,  -0.66053447,  -1.83913692,  -3.46078265,\n",
       "        -4.81902214,  -5.66010543,  -6.32174455,  -6.84395426,\n",
       "        -7.32934326,  -7.7548946 ,  -8.33881184,  -8.9948097 ,\n",
       "        -9.67713872, -10.44748742])"
      ]
     },
     "execution_count": 13,
     "metadata": {},
     "output_type": "execute_result"
    }
   ],
   "source": [
    "log_dens"
   ]
  },
  {
   "cell_type": "code",
   "execution_count": 14,
   "metadata": {},
   "outputs": [
    {
     "data": {
      "text/plain": [
       "14"
      ]
     },
     "execution_count": 14,
     "metadata": {},
     "output_type": "execute_result"
    }
   ],
   "source": [
    "len(log_dens)"
   ]
  },
  {
   "cell_type": "code",
   "execution_count": 15,
   "metadata": {},
   "outputs": [
    {
     "data": {
      "text/plain": [
       "[<matplotlib.lines.Line2D at 0x1a164b0048>]"
      ]
     },
     "execution_count": 15,
     "metadata": {},
     "output_type": "execute_result"
    },
    {
     "data": {
      "image/png": "[encoded data removed]",
      "text/plain": [
       "<Figure size 432x288 with 1 Axes>"
      ]
     },
     "metadata": {
      "needs_background": "light"
     },
     "output_type": "display_data"
    }
   ],
   "source": [
    "fig = plt.figure()\n",
    "ax  = plt.axes()\n",
    "\n",
    "ax.plot(X_vals, np.exp(log_dens))"
   ]
  },
  {
   "cell_type": "code",
   "execution_count": 16,
   "metadata": {},
   "outputs": [],
   "source": [
    "from mpl_toolkits import mplot3d\n",
    "%matplotlib inline\n",
    "\n"
   ]
  },
  {
   "cell_type": "code",
   "execution_count": null,
   "metadata": {},
   "outputs": [],
   "source": [
    "fig = plt.figure()\n",
    "ax = plt.axes(projection='3d')\n",
    "\n",
    "X_ax = np.linspace(df['block_lat'].min(), df['block_lat'].max(), num = 1000)\n",
    "y_ax = np.linspace(df['block_lon'].min(), df['block_lon'].max(), num = 1000)\n",
    "\n",
    "X = list(df['block_lat'])\n",
    "Y = list(df['block_lon'])\n",
    "Z = np.array(df['cof_within_001'])\n",
    "Z = Z.reshape((len(X),len(Y)))\n",
    "# X,Y = np.meshgrid(X,Y)\n",
    "# ax.contour3D(X, Y, Z, 50, cmap='binary')"
   ]
  },
  {
   "cell_type": "code",
   "execution_count": null,
   "metadata": {},
   "outputs": [],
   "source": []
  },
  {
   "cell_type": "code",
   "execution_count": null,
   "metadata": {},
   "outputs": [],
   "source": [
    "df['cof_within_001'].value_counts()"
   ]
  },
  {
   "cell_type": "code",
   "execution_count": 17,
   "metadata": {},
   "outputs": [
    {
     "data": {
      "text/plain": [
       "array([-2552.05722045, -2552.05838574, -2552.05955104, ...,\n",
       "       -2606.28267908, -2606.28385674, -2606.2850344 ])"
      ]
     },
     "execution_count": 17,
     "metadata": {},
     "output_type": "execute_result"
    }
   ],
   "source": [
    "coffee_lat = df[['cof_within_001','block_lat', 'block_lon']]\n",
    "coffee_lat = coffee_lat.sort_values('block_lat')\n",
    "cof_within_100 = coffee_lat['cof_within_001'].values.reshape(-1,1)\n",
    "X_vals = np.linspace(coffee_lat['block_lat'].min(), coffee_lat['block_lat'].max(), 46291)\n",
    "X_vals = X_vals.reshape(-1,1)\n",
    "X_vals\n",
    "kde.fit(cof_within_100)\n",
    "log_dens = kde.score_samples(X_vals)\n",
    "log_dens\n",
    "# plt.plot(X_vals, np.exp(log_dens))"
   ]
  },
  {
   "cell_type": "code",
   "execution_count": 18,
   "metadata": {},
   "outputs": [
    {
     "data": {
      "text/plain": [
       "<mpl_toolkits.mplot3d.art3d.Path3DCollection at 0x1a164c9780>"
      ]
     },
     "execution_count": 18,
     "metadata": {},
     "output_type": "execute_result"
    },
    {
     "data": {
      "image/png": "[encoded data removed]",
      "text/plain": [
       "<Figure size 432x288 with 1 Axes>"
      ]
     },
     "metadata": {
      "needs_background": "light"
     },
     "output_type": "display_data"
    }
   ],
   "source": [
    "fig = plt.figure()\n",
    "ax = plt.axes(projection='3d')\n",
    "x=coffee_lat['block_lat']\n",
    "y=coffee_lat['block_lon']\n",
    "z=coffee_lat['cof_within_001']\n",
    "plt.scatter(x,y,z)"
   ]
  },
  {
   "cell_type": "code",
   "execution_count": 19,
   "metadata": {},
   "outputs": [
    {
     "data": {
      "text/plain": [
       "[<matplotlib.lines.Line2D at 0x1a199a3390>]"
      ]
     },
     "execution_count": 19,
     "metadata": {},
     "output_type": "execute_result"
    },
    {
     "data": {
      "image/png": "[encoded data removed]",
      "text/plain": [
       "<Figure size 432x288 with 1 Axes>"
      ]
     },
     "metadata": {
      "needs_background": "light"
     },
     "output_type": "display_data"
    }
   ],
   "source": [
    "fig = plt.figure()\n",
    "y=coffee_lat['block_lon'].sort_values(ascending=False)\n",
    "z=coffee_lat['cof_within_001']\n",
    "plt.plot(y,z)"
   ]
  },
  {
   "cell_type": "code",
   "execution_count": 20,
   "metadata": {},
   "outputs": [
    {
     "ename": "ValueError",
     "evalue": "`bins` must increase monotonically, when an array",
     "output_type": "error",
     "traceback": [
      "\u001b[0;31m---------------------------------------------------------------------------\u001b[0m",
      "\u001b[0;31mValueError\u001b[0m                                Traceback (most recent call last)",
      "\u001b[0;32m<ipython-input-20-e09e6adb9507>\u001b[0m in \u001b[0;36m<module>\u001b[0;34m\u001b[0m\n\u001b[1;32m      2\u001b[0m \u001b[0my\u001b[0m\u001b[0;34m=\u001b[0m\u001b[0mcoffee_lat\u001b[0m\u001b[0;34m[\u001b[0m\u001b[0;34m'block_lat'\u001b[0m\u001b[0;34m]\u001b[0m\u001b[0;34m.\u001b[0m\u001b[0msort_values\u001b[0m\u001b[0;34m(\u001b[0m\u001b[0mascending\u001b[0m\u001b[0;34m=\u001b[0m\u001b[0;32mFalse\u001b[0m\u001b[0;34m)\u001b[0m\u001b[0;34m\u001b[0m\u001b[0;34m\u001b[0m\u001b[0m\n\u001b[1;32m      3\u001b[0m \u001b[0mz\u001b[0m\u001b[0;34m=\u001b[0m\u001b[0mcoffee_lat\u001b[0m\u001b[0;34m[\u001b[0m\u001b[0;34m'cof_within_001'\u001b[0m\u001b[0;34m]\u001b[0m\u001b[0;34m\u001b[0m\u001b[0;34m\u001b[0m\u001b[0m\n\u001b[0;32m----> 4\u001b[0;31m \u001b[0mplt\u001b[0m\u001b[0;34m.\u001b[0m\u001b[0mhist\u001b[0m\u001b[0;34m(\u001b[0m\u001b[0my\u001b[0m\u001b[0;34m,\u001b[0m\u001b[0mz\u001b[0m\u001b[0;34m)\u001b[0m\u001b[0;34m\u001b[0m\u001b[0;34m\u001b[0m\u001b[0m\n\u001b[0m",
      "\u001b[0;32m/anaconda3/lib/python3.7/site-packages/matplotlib/pyplot.py\u001b[0m in \u001b[0;36mhist\u001b[0;34m(x, bins, range, density, weights, cumulative, bottom, histtype, align, orientation, rwidth, log, color, label, stacked, normed, data, **kwargs)\u001b[0m\n\u001b[1;32m   2659\u001b[0m         \u001b[0malign\u001b[0m\u001b[0;34m=\u001b[0m\u001b[0malign\u001b[0m\u001b[0;34m,\u001b[0m \u001b[0morientation\u001b[0m\u001b[0;34m=\u001b[0m\u001b[0morientation\u001b[0m\u001b[0;34m,\u001b[0m \u001b[0mrwidth\u001b[0m\u001b[0;34m=\u001b[0m\u001b[0mrwidth\u001b[0m\u001b[0;34m,\u001b[0m \u001b[0mlog\u001b[0m\u001b[0;34m=\u001b[0m\u001b[0mlog\u001b[0m\u001b[0;34m,\u001b[0m\u001b[0;34m\u001b[0m\u001b[0;34m\u001b[0m\u001b[0m\n\u001b[1;32m   2660\u001b[0m         \u001b[0mcolor\u001b[0m\u001b[0;34m=\u001b[0m\u001b[0mcolor\u001b[0m\u001b[0;34m,\u001b[0m \u001b[0mlabel\u001b[0m\u001b[0;34m=\u001b[0m\u001b[0mlabel\u001b[0m\u001b[0;34m,\u001b[0m \u001b[0mstacked\u001b[0m\u001b[0;34m=\u001b[0m\u001b[0mstacked\u001b[0m\u001b[0;34m,\u001b[0m \u001b[0mnormed\u001b[0m\u001b[0;34m=\u001b[0m\u001b[0mnormed\u001b[0m\u001b[0;34m,\u001b[0m\u001b[0;34m\u001b[0m\u001b[0;34m\u001b[0m\u001b[0m\n\u001b[0;32m-> 2661\u001b[0;31m         **({\"data\": data} if data is not None else {}), **kwargs)\n\u001b[0m\u001b[1;32m   2662\u001b[0m \u001b[0;34m\u001b[0m\u001b[0m\n\u001b[1;32m   2663\u001b[0m \u001b[0;34m\u001b[0m\u001b[0m\n",
      "\u001b[0;32m/anaconda3/lib/python3.7/site-packages/matplotlib/__init__.py\u001b[0m in \u001b[0;36minner\u001b[0;34m(ax, data, *args, **kwargs)\u001b[0m\n\u001b[1;32m   1808\u001b[0m                         \u001b[0;34m\"the Matplotlib list!)\"\u001b[0m \u001b[0;34m%\u001b[0m \u001b[0;34m(\u001b[0m\u001b[0mlabel_namer\u001b[0m\u001b[0;34m,\u001b[0m \u001b[0mfunc\u001b[0m\u001b[0;34m.\u001b[0m\u001b[0m__name__\u001b[0m\u001b[0;34m)\u001b[0m\u001b[0;34m,\u001b[0m\u001b[0;34m\u001b[0m\u001b[0;34m\u001b[0m\u001b[0m\n\u001b[1;32m   1809\u001b[0m                         RuntimeWarning, stacklevel=2)\n\u001b[0;32m-> 1810\u001b[0;31m             \u001b[0;32mreturn\u001b[0m \u001b[0mfunc\u001b[0m\u001b[0;34m(\u001b[0m\u001b[0max\u001b[0m\u001b[0;34m,\u001b[0m \u001b[0;34m*\u001b[0m\u001b[0margs\u001b[0m\u001b[0;34m,\u001b[0m \u001b[0;34m**\u001b[0m\u001b[0mkwargs\u001b[0m\u001b[0;34m)\u001b[0m\u001b[0;34m\u001b[0m\u001b[0;34m\u001b[0m\u001b[0m\n\u001b[0m\u001b[1;32m   1811\u001b[0m \u001b[0;34m\u001b[0m\u001b[0m\n\u001b[1;32m   1812\u001b[0m         inner.__doc__ = _add_data_doc(inner.__doc__,\n",
      "\u001b[0;32m/anaconda3/lib/python3.7/site-packages/matplotlib/axes/_axes.py\u001b[0m in \u001b[0;36mhist\u001b[0;34m(self, x, bins, range, density, weights, cumulative, bottom, histtype, align, orientation, rwidth, log, color, label, stacked, normed, **kwargs)\u001b[0m\n\u001b[1;32m   6589\u001b[0m             \u001b[0;31m# this will automatically overwrite bins,\u001b[0m\u001b[0;34m\u001b[0m\u001b[0;34m\u001b[0m\u001b[0;34m\u001b[0m\u001b[0m\n\u001b[1;32m   6590\u001b[0m             \u001b[0;31m# so that each histogram uses the same bins\u001b[0m\u001b[0;34m\u001b[0m\u001b[0;34m\u001b[0m\u001b[0;34m\u001b[0m\u001b[0m\n\u001b[0;32m-> 6591\u001b[0;31m             \u001b[0mm\u001b[0m\u001b[0;34m,\u001b[0m \u001b[0mbins\u001b[0m \u001b[0;34m=\u001b[0m \u001b[0mnp\u001b[0m\u001b[0;34m.\u001b[0m\u001b[0mhistogram\u001b[0m\u001b[0;34m(\u001b[0m\u001b[0mx\u001b[0m\u001b[0;34m[\u001b[0m\u001b[0mi\u001b[0m\u001b[0;34m]\u001b[0m\u001b[0;34m,\u001b[0m \u001b[0mbins\u001b[0m\u001b[0;34m,\u001b[0m \u001b[0mweights\u001b[0m\u001b[0;34m=\u001b[0m\u001b[0mw\u001b[0m\u001b[0;34m[\u001b[0m\u001b[0mi\u001b[0m\u001b[0;34m]\u001b[0m\u001b[0;34m,\u001b[0m \u001b[0;34m**\u001b[0m\u001b[0mhist_kwargs\u001b[0m\u001b[0;34m)\u001b[0m\u001b[0;34m\u001b[0m\u001b[0;34m\u001b[0m\u001b[0m\n\u001b[0m\u001b[1;32m   6592\u001b[0m             \u001b[0mm\u001b[0m \u001b[0;34m=\u001b[0m \u001b[0mm\u001b[0m\u001b[0;34m.\u001b[0m\u001b[0mastype\u001b[0m\u001b[0;34m(\u001b[0m\u001b[0mfloat\u001b[0m\u001b[0;34m)\u001b[0m  \u001b[0;31m# causes problems later if it's an int\u001b[0m\u001b[0;34m\u001b[0m\u001b[0;34m\u001b[0m\u001b[0m\n\u001b[1;32m   6593\u001b[0m             \u001b[0;32mif\u001b[0m \u001b[0mmlast\u001b[0m \u001b[0;32mis\u001b[0m \u001b[0;32mNone\u001b[0m\u001b[0;34m:\u001b[0m\u001b[0;34m\u001b[0m\u001b[0;34m\u001b[0m\u001b[0m\n",
      "\u001b[0;32m/anaconda3/lib/python3.7/site-packages/numpy/lib/histograms.py\u001b[0m in \u001b[0;36mhistogram\u001b[0;34m(a, bins, range, normed, weights, density)\u001b[0m\n\u001b[1;32m    708\u001b[0m     \u001b[0ma\u001b[0m\u001b[0;34m,\u001b[0m \u001b[0mweights\u001b[0m \u001b[0;34m=\u001b[0m \u001b[0m_ravel_and_check_weights\u001b[0m\u001b[0;34m(\u001b[0m\u001b[0ma\u001b[0m\u001b[0;34m,\u001b[0m \u001b[0mweights\u001b[0m\u001b[0;34m)\u001b[0m\u001b[0;34m\u001b[0m\u001b[0;34m\u001b[0m\u001b[0m\n\u001b[1;32m    709\u001b[0m \u001b[0;34m\u001b[0m\u001b[0m\n\u001b[0;32m--> 710\u001b[0;31m     \u001b[0mbin_edges\u001b[0m\u001b[0;34m,\u001b[0m \u001b[0muniform_bins\u001b[0m \u001b[0;34m=\u001b[0m \u001b[0m_get_bin_edges\u001b[0m\u001b[0;34m(\u001b[0m\u001b[0ma\u001b[0m\u001b[0;34m,\u001b[0m \u001b[0mbins\u001b[0m\u001b[0;34m,\u001b[0m \u001b[0mrange\u001b[0m\u001b[0;34m,\u001b[0m \u001b[0mweights\u001b[0m\u001b[0;34m)\u001b[0m\u001b[0;34m\u001b[0m\u001b[0;34m\u001b[0m\u001b[0m\n\u001b[0m\u001b[1;32m    711\u001b[0m \u001b[0;34m\u001b[0m\u001b[0m\n\u001b[1;32m    712\u001b[0m     \u001b[0;31m# Histogram is an integer or a float array depending on the weights.\u001b[0m\u001b[0;34m\u001b[0m\u001b[0;34m\u001b[0m\u001b[0;34m\u001b[0m\u001b[0m\n",
      "\u001b[0;32m/anaconda3/lib/python3.7/site-packages/numpy/lib/histograms.py\u001b[0m in \u001b[0;36m_get_bin_edges\u001b[0;34m(a, bins, range, weights)\u001b[0m\n\u001b[1;32m    367\u001b[0m         \u001b[0;32mif\u001b[0m \u001b[0mnp\u001b[0m\u001b[0;34m.\u001b[0m\u001b[0many\u001b[0m\u001b[0;34m(\u001b[0m\u001b[0mbin_edges\u001b[0m\u001b[0;34m[\u001b[0m\u001b[0;34m:\u001b[0m\u001b[0;34m-\u001b[0m\u001b[0;36m1\u001b[0m\u001b[0;34m]\u001b[0m \u001b[0;34m>\u001b[0m \u001b[0mbin_edges\u001b[0m\u001b[0;34m[\u001b[0m\u001b[0;36m1\u001b[0m\u001b[0;34m:\u001b[0m\u001b[0;34m]\u001b[0m\u001b[0;34m)\u001b[0m\u001b[0;34m:\u001b[0m\u001b[0;34m\u001b[0m\u001b[0;34m\u001b[0m\u001b[0m\n\u001b[1;32m    368\u001b[0m             raise ValueError(\n\u001b[0;32m--> 369\u001b[0;31m                 '`bins` must increase monotonically, when an array')\n\u001b[0m\u001b[1;32m    370\u001b[0m \u001b[0;34m\u001b[0m\u001b[0m\n\u001b[1;32m    371\u001b[0m     \u001b[0;32melse\u001b[0m\u001b[0;34m:\u001b[0m\u001b[0;34m\u001b[0m\u001b[0;34m\u001b[0m\u001b[0m\n",
      "\u001b[0;31mValueError\u001b[0m: `bins` must increase monotonically, when an array"
     ]
    },
    {
     "data": {
      "image/png": "[encoded data removed]",
      "text/plain": [
       "<Figure size 432x288 with 1 Axes>"
      ]
     },
     "metadata": {
      "needs_background": "light"
     },
     "output_type": "display_data"
    }
   ],
   "source": [
    "fig = plt.figure()\n",
    "y=coffee_lat['block_lat'].sort_values(ascending=False)\n",
    "z=coffee_lat['cof_within_001']\n",
    "plt.hist(y,z)"
   ]
  },
  {
   "cell_type": "code",
   "execution_count": 21,
   "metadata": {},
   "outputs": [
    {
     "data": {
      "text/plain": [
       "array([[0],\n",
       "       [0],\n",
       "       [0],\n",
       "       ...,\n",
       "       [0],\n",
       "       [0],\n",
       "       [0]])"
      ]
     },
     "execution_count": 21,
     "metadata": {},
     "output_type": "execute_result"
    }
   ],
   "source": [
    "y=coffee_lat['block_lat'].sort_values(ascending=False)\n",
    "z=coffee_lat['cof_within_001'].values.reshape(-1,1)\n",
    "z"
   ]
  },
  {
   "cell_type": "code",
   "execution_count": 22,
   "metadata": {},
   "outputs": [],
   "source": [
    "kde = KernelDensity(kernel='gaussian', bandwidth=.1).fit(z)"
   ]
  },
  {
   "cell_type": "code",
   "execution_count": 23,
   "metadata": {},
   "outputs": [
    {
     "data": {
      "text/plain": [
       "array([41.64469614, 41.64507485, 41.64545356, 41.64583226, 41.64621097,\n",
       "       41.64658968, 41.64696838, 41.64734709, 41.6477258 , 41.6481045 ,\n",
       "       41.64848321, 41.64886192, 41.64924062, 41.64961933, 41.64999804,\n",
       "       41.65037674, 41.65075545, 41.65113416, 41.65151286, 41.65189157,\n",
       "       41.65227028, 41.65264898, 41.65302769, 41.6534064 , 41.6537851 ,\n",
       "       41.65416381, 41.65454252, 41.65492122, 41.65529993, 41.65567864,\n",
       "       41.65605734, 41.65643605, 41.65681476, 41.65719347, 41.65757217,\n",
       "       41.65795088, 41.65832959, 41.65870829, 41.659087  , 41.65946571,\n",
       "       41.65984441, 41.66022312, 41.66060183, 41.66098053, 41.66135924,\n",
       "       41.66173795, 41.66211665, 41.66249536, 41.66287407, 41.66325277,\n",
       "       41.66363148, 41.66401019, 41.66438889, 41.6647676 , 41.66514631,\n",
       "       41.66552501, 41.66590372, 41.66628243, 41.66666113, 41.66703984,\n",
       "       41.66741855, 41.66779725, 41.66817596, 41.66855467, 41.66893337,\n",
       "       41.66931208, 41.66969079, 41.67006949, 41.6704482 , 41.67082691,\n",
       "       41.67120561, 41.67158432, 41.67196303, 41.67234173, 41.67272044,\n",
       "       41.67309915, 41.67347785, 41.67385656, 41.67423527, 41.67461397,\n",
       "       41.67499268, 41.67537139, 41.67575009, 41.6761288 , 41.67650751,\n",
       "       41.67688622, 41.67726492, 41.67764363, 41.67802234, 41.67840104,\n",
       "       41.67877975, 41.67915846, 41.67953716, 41.67991587, 41.68029458,\n",
       "       41.68067328, 41.68105199, 41.6814307 , 41.6818094 , 41.68218811,\n",
       "       41.68256682, 41.68294552, 41.68332423, 41.68370294, 41.68408164,\n",
       "       41.68446035, 41.68483906, 41.68521776, 41.68559647, 41.68597518,\n",
       "       41.68635388, 41.68673259, 41.6871113 , 41.68749   , 41.68786871,\n",
       "       41.68824742, 41.68862612, 41.68900483, 41.68938354, 41.68976224,\n",
       "       41.69014095, 41.69051966, 41.69089836, 41.69127707, 41.69165578,\n",
       "       41.69203448, 41.69241319, 41.6927919 , 41.6931706 , 41.69354931,\n",
       "       41.69392802, 41.69430672, 41.69468543, 41.69506414, 41.69544284,\n",
       "       41.69582155, 41.69620026, 41.69657897, 41.69695767, 41.69733638,\n",
       "       41.69771509, 41.69809379, 41.6984725 , 41.69885121, 41.69922991,\n",
       "       41.69960862, 41.69998733, 41.70036603, 41.70074474, 41.70112345,\n",
       "       41.70150215, 41.70188086, 41.70225957, 41.70263827, 41.70301698,\n",
       "       41.70339569, 41.70377439, 41.7041531 , 41.70453181, 41.70491051,\n",
       "       41.70528922, 41.70566793, 41.70604663, 41.70642534, 41.70680405,\n",
       "       41.70718275, 41.70756146, 41.70794017, 41.70831887, 41.70869758,\n",
       "       41.70907629, 41.70945499, 41.7098337 , 41.71021241, 41.71059111,\n",
       "       41.71096982, 41.71134853, 41.71172723, 41.71210594, 41.71248465,\n",
       "       41.71286335, 41.71324206, 41.71362077, 41.71399947, 41.71437818,\n",
       "       41.71475689, 41.71513559, 41.7155143 , 41.71589301, 41.71627172,\n",
       "       41.71665042, 41.71702913, 41.71740784, 41.71778654, 41.71816525,\n",
       "       41.71854396, 41.71892266, 41.71930137, 41.71968008, 41.72005878,\n",
       "       41.72043749, 41.7208162 , 41.7211949 , 41.72157361, 41.72195232,\n",
       "       41.72233102, 41.72270973, 41.72308844, 41.72346714, 41.72384585,\n",
       "       41.72422456, 41.72460326, 41.72498197, 41.72536068, 41.72573938,\n",
       "       41.72611809, 41.7264968 , 41.7268755 , 41.72725421, 41.72763292,\n",
       "       41.72801162, 41.72839033, 41.72876904, 41.72914774, 41.72952645,\n",
       "       41.72990516, 41.73028386, 41.73066257, 41.73104128, 41.73141998,\n",
       "       41.73179869, 41.7321774 , 41.7325561 , 41.73293481, 41.73331352,\n",
       "       41.73369222, 41.73407093, 41.73444964, 41.73482834, 41.73520705,\n",
       "       41.73558576, 41.73596447, 41.73634317, 41.73672188, 41.73710059,\n",
       "       41.73747929, 41.737858  , 41.73823671, 41.73861541, 41.73899412,\n",
       "       41.73937283, 41.73975153, 41.74013024, 41.74050895, 41.74088765,\n",
       "       41.74126636, 41.74164507, 41.74202377, 41.74240248, 41.74278119,\n",
       "       41.74315989, 41.7435386 , 41.74391731, 41.74429601, 41.74467472,\n",
       "       41.74505343, 41.74543213, 41.74581084, 41.74618955, 41.74656825,\n",
       "       41.74694696, 41.74732567, 41.74770437, 41.74808308, 41.74846179,\n",
       "       41.74884049, 41.7492192 , 41.74959791, 41.74997661, 41.75035532,\n",
       "       41.75073403, 41.75111273, 41.75149144, 41.75187015, 41.75224885,\n",
       "       41.75262756, 41.75300627, 41.75338497, 41.75376368, 41.75414239,\n",
       "       41.75452109, 41.7548998 , 41.75527851, 41.75565721, 41.75603592,\n",
       "       41.75641463, 41.75679334, 41.75717204, 41.75755075, 41.75792946,\n",
       "       41.75830816, 41.75868687, 41.75906558, 41.75944428, 41.75982299,\n",
       "       41.7602017 , 41.7605804 , 41.76095911, 41.76133782, 41.76171652,\n",
       "       41.76209523, 41.76247394, 41.76285264, 41.76323135, 41.76361006,\n",
       "       41.76398876, 41.76436747, 41.76474618, 41.76512488, 41.76550359,\n",
       "       41.7658823 , 41.766261  , 41.76663971, 41.76701842, 41.76739712,\n",
       "       41.76777583, 41.76815454, 41.76853324, 41.76891195, 41.76929066,\n",
       "       41.76966936, 41.77004807, 41.77042678, 41.77080548, 41.77118419,\n",
       "       41.7715629 , 41.7719416 , 41.77232031, 41.77269902, 41.77307772,\n",
       "       41.77345643, 41.77383514, 41.77421384, 41.77459255, 41.77497126,\n",
       "       41.77534996, 41.77572867, 41.77610738, 41.77648609, 41.77686479,\n",
       "       41.7772435 , 41.77762221, 41.77800091, 41.77837962, 41.77875833,\n",
       "       41.77913703, 41.77951574, 41.77989445, 41.78027315, 41.78065186,\n",
       "       41.78103057, 41.78140927, 41.78178798, 41.78216669, 41.78254539,\n",
       "       41.7829241 , 41.78330281, 41.78368151, 41.78406022, 41.78443893,\n",
       "       41.78481763, 41.78519634, 41.78557505, 41.78595375, 41.78633246,\n",
       "       41.78671117, 41.78708987, 41.78746858, 41.78784729, 41.78822599,\n",
       "       41.7886047 , 41.78898341, 41.78936211, 41.78974082, 41.79011953,\n",
       "       41.79049823, 41.79087694, 41.79125565, 41.79163435, 41.79201306,\n",
       "       41.79239177, 41.79277047, 41.79314918, 41.79352789, 41.79390659,\n",
       "       41.7942853 , 41.79466401, 41.79504271, 41.79542142, 41.79580013,\n",
       "       41.79617884, 41.79655754, 41.79693625, 41.79731496, 41.79769366,\n",
       "       41.79807237, 41.79845108, 41.79882978, 41.79920849, 41.7995872 ,\n",
       "       41.7999659 , 41.80034461, 41.80072332, 41.80110202, 41.80148073,\n",
       "       41.80185944, 41.80223814, 41.80261685, 41.80299556, 41.80337426,\n",
       "       41.80375297, 41.80413168, 41.80451038, 41.80488909, 41.8052678 ,\n",
       "       41.8056465 , 41.80602521, 41.80640392, 41.80678262, 41.80716133,\n",
       "       41.80754004, 41.80791874, 41.80829745, 41.80867616, 41.80905486,\n",
       "       41.80943357, 41.80981228, 41.81019098, 41.81056969, 41.8109484 ,\n",
       "       41.8113271 , 41.81170581, 41.81208452, 41.81246322, 41.81284193,\n",
       "       41.81322064, 41.81359934, 41.81397805, 41.81435676, 41.81473546,\n",
       "       41.81511417, 41.81549288, 41.81587159, 41.81625029, 41.816629  ,\n",
       "       41.81700771, 41.81738641, 41.81776512, 41.81814383, 41.81852253,\n",
       "       41.81890124, 41.81927995, 41.81965865, 41.82003736, 41.82041607,\n",
       "       41.82079477, 41.82117348, 41.82155219, 41.82193089, 41.8223096 ,\n",
       "       41.82268831, 41.82306701, 41.82344572, 41.82382443, 41.82420313,\n",
       "       41.82458184, 41.82496055, 41.82533925, 41.82571796, 41.82609667,\n",
       "       41.82647537, 41.82685408, 41.82723279, 41.82761149, 41.8279902 ,\n",
       "       41.82836891, 41.82874761, 41.82912632, 41.82950503, 41.82988373,\n",
       "       41.83026244, 41.83064115, 41.83101985, 41.83139856, 41.83177727,\n",
       "       41.83215597, 41.83253468, 41.83291339, 41.83329209, 41.8336708 ,\n",
       "       41.83404951, 41.83442821, 41.83480692, 41.83518563, 41.83556434,\n",
       "       41.83594304, 41.83632175, 41.83670046, 41.83707916, 41.83745787,\n",
       "       41.83783658, 41.83821528, 41.83859399, 41.8389727 , 41.8393514 ,\n",
       "       41.83973011, 41.84010882, 41.84048752, 41.84086623, 41.84124494,\n",
       "       41.84162364, 41.84200235, 41.84238106, 41.84275976, 41.84313847,\n",
       "       41.84351718, 41.84389588, 41.84427459, 41.8446533 , 41.845032  ,\n",
       "       41.84541071, 41.84578942, 41.84616812, 41.84654683, 41.84692554,\n",
       "       41.84730424, 41.84768295, 41.84806166, 41.84844036, 41.84881907,\n",
       "       41.84919778, 41.84957648, 41.84995519, 41.8503339 , 41.8507126 ,\n",
       "       41.85109131, 41.85147002, 41.85184872, 41.85222743, 41.85260614,\n",
       "       41.85298484, 41.85336355, 41.85374226, 41.85412096, 41.85449967,\n",
       "       41.85487838, 41.85525709, 41.85563579, 41.8560145 , 41.85639321,\n",
       "       41.85677191, 41.85715062, 41.85752933, 41.85790803, 41.85828674,\n",
       "       41.85866545, 41.85904415, 41.85942286, 41.85980157, 41.86018027,\n",
       "       41.86055898, 41.86093769, 41.86131639, 41.8616951 , 41.86207381,\n",
       "       41.86245251, 41.86283122, 41.86320993, 41.86358863, 41.86396734,\n",
       "       41.86434605, 41.86472475, 41.86510346, 41.86548217, 41.86586087,\n",
       "       41.86623958, 41.86661829, 41.86699699, 41.8673757 , 41.86775441,\n",
       "       41.86813311, 41.86851182, 41.86889053, 41.86926923, 41.86964794,\n",
       "       41.87002665, 41.87040535, 41.87078406, 41.87116277, 41.87154147,\n",
       "       41.87192018, 41.87229889, 41.87267759, 41.8730563 , 41.87343501,\n",
       "       41.87381371, 41.87419242, 41.87457113, 41.87494984, 41.87532854,\n",
       "       41.87570725, 41.87608596, 41.87646466, 41.87684337, 41.87722208,\n",
       "       41.87760078, 41.87797949, 41.8783582 , 41.8787369 , 41.87911561,\n",
       "       41.87949432, 41.87987302, 41.88025173, 41.88063044, 41.88100914,\n",
       "       41.88138785, 41.88176656, 41.88214526, 41.88252397, 41.88290268,\n",
       "       41.88328138, 41.88366009, 41.8840388 , 41.8844175 , 41.88479621,\n",
       "       41.88517492, 41.88555362, 41.88593233, 41.88631104, 41.88668974,\n",
       "       41.88706845, 41.88744716, 41.88782586, 41.88820457, 41.88858328,\n",
       "       41.88896198, 41.88934069, 41.8897194 , 41.8900981 , 41.89047681,\n",
       "       41.89085552, 41.89123422, 41.89161293, 41.89199164, 41.89237034,\n",
       "       41.89274905, 41.89312776, 41.89350646, 41.89388517, 41.89426388,\n",
       "       41.89464259, 41.89502129, 41.8954    , 41.89577871, 41.89615741,\n",
       "       41.89653612, 41.89691483, 41.89729353, 41.89767224, 41.89805095,\n",
       "       41.89842965, 41.89880836, 41.89918707, 41.89956577, 41.89994448,\n",
       "       41.90032319, 41.90070189, 41.9010806 , 41.90145931, 41.90183801,\n",
       "       41.90221672, 41.90259543, 41.90297413, 41.90335284, 41.90373155,\n",
       "       41.90411025, 41.90448896, 41.90486767, 41.90524637, 41.90562508,\n",
       "       41.90600379, 41.90638249, 41.9067612 , 41.90713991, 41.90751861,\n",
       "       41.90789732, 41.90827603, 41.90865473, 41.90903344, 41.90941215,\n",
       "       41.90979085, 41.91016956, 41.91054827, 41.91092697, 41.91130568,\n",
       "       41.91168439, 41.91206309, 41.9124418 , 41.91282051, 41.91319921,\n",
       "       41.91357792, 41.91395663, 41.91433533, 41.91471404, 41.91509275,\n",
       "       41.91547146, 41.91585016, 41.91622887, 41.91660758, 41.91698628,\n",
       "       41.91736499, 41.9177437 , 41.9181224 , 41.91850111, 41.91887982,\n",
       "       41.91925852, 41.91963723, 41.92001594, 41.92039464, 41.92077335,\n",
       "       41.92115206, 41.92153076, 41.92190947, 41.92228818, 41.92266688,\n",
       "       41.92304559, 41.9234243 , 41.923803  , 41.92418171, 41.92456042,\n",
       "       41.92493912, 41.92531783, 41.92569654, 41.92607524, 41.92645395,\n",
       "       41.92683266, 41.92721136, 41.92759007, 41.92796878, 41.92834748,\n",
       "       41.92872619, 41.9291049 , 41.9294836 , 41.92986231, 41.93024102,\n",
       "       41.93061972, 41.93099843, 41.93137714, 41.93175584, 41.93213455,\n",
       "       41.93251326, 41.93289196, 41.93327067, 41.93364938, 41.93402808,\n",
       "       41.93440679, 41.9347855 , 41.93516421, 41.93554291, 41.93592162,\n",
       "       41.93630033, 41.93667903, 41.93705774, 41.93743645, 41.93781515,\n",
       "       41.93819386, 41.93857257, 41.93895127, 41.93932998, 41.93970869,\n",
       "       41.94008739, 41.9404661 , 41.94084481, 41.94122351, 41.94160222,\n",
       "       41.94198093, 41.94235963, 41.94273834, 41.94311705, 41.94349575,\n",
       "       41.94387446, 41.94425317, 41.94463187, 41.94501058, 41.94538929,\n",
       "       41.94576799, 41.9461467 , 41.94652541, 41.94690411, 41.94728282,\n",
       "       41.94766153, 41.94804023, 41.94841894, 41.94879765, 41.94917635,\n",
       "       41.94955506, 41.94993377, 41.95031247, 41.95069118, 41.95106989,\n",
       "       41.95144859, 41.9518273 , 41.95220601, 41.95258471, 41.95296342,\n",
       "       41.95334213, 41.95372083, 41.95409954, 41.95447825, 41.95485696,\n",
       "       41.95523566, 41.95561437, 41.95599308, 41.95637178, 41.95675049,\n",
       "       41.9571292 , 41.9575079 , 41.95788661, 41.95826532, 41.95864402,\n",
       "       41.95902273, 41.95940144, 41.95978014, 41.96015885, 41.96053756,\n",
       "       41.96091626, 41.96129497, 41.96167368, 41.96205238, 41.96243109,\n",
       "       41.9628098 , 41.9631885 , 41.96356721, 41.96394592, 41.96432462,\n",
       "       41.96470333, 41.96508204, 41.96546074, 41.96583945, 41.96621816,\n",
       "       41.96659686, 41.96697557, 41.96735428, 41.96773298, 41.96811169,\n",
       "       41.9684904 , 41.9688691 , 41.96924781, 41.96962652, 41.97000522,\n",
       "       41.97038393, 41.97076264, 41.97114134, 41.97152005, 41.97189876,\n",
       "       41.97227746, 41.97265617, 41.97303488, 41.97341358, 41.97379229,\n",
       "       41.974171  , 41.97454971, 41.97492841, 41.97530712, 41.97568583,\n",
       "       41.97606453, 41.97644324, 41.97682195, 41.97720065, 41.97757936,\n",
       "       41.97795807, 41.97833677, 41.97871548, 41.97909419, 41.97947289,\n",
       "       41.9798516 , 41.98023031, 41.98060901, 41.98098772, 41.98136643,\n",
       "       41.98174513, 41.98212384, 41.98250255, 41.98288125, 41.98325996,\n",
       "       41.98363867, 41.98401737, 41.98439608, 41.98477479, 41.98515349,\n",
       "       41.9855322 , 41.98591091, 41.98628961, 41.98666832, 41.98704703,\n",
       "       41.98742573, 41.98780444, 41.98818315, 41.98856185, 41.98894056,\n",
       "       41.98931927, 41.98969797, 41.99007668, 41.99045539, 41.99083409,\n",
       "       41.9912128 , 41.99159151, 41.99197021, 41.99234892, 41.99272763,\n",
       "       41.99310633, 41.99348504, 41.99386375, 41.99424246, 41.99462116,\n",
       "       41.99499987, 41.99537858, 41.99575728, 41.99613599, 41.9965147 ,\n",
       "       41.9968934 , 41.99727211, 41.99765082, 41.99802952, 41.99840823,\n",
       "       41.99878694, 41.99916564, 41.99954435, 41.99992306, 42.00030176,\n",
       "       42.00068047, 42.00105918, 42.00143788, 42.00181659, 42.0021953 ,\n",
       "       42.002574  , 42.00295271, 42.00333142, 42.00371012, 42.00408883,\n",
       "       42.00446754, 42.00484624, 42.00522495, 42.00560366, 42.00598236,\n",
       "       42.00636107, 42.00673978, 42.00711848, 42.00749719, 42.0078759 ,\n",
       "       42.0082546 , 42.00863331, 42.00901202, 42.00939072, 42.00976943,\n",
       "       42.01014814, 42.01052684, 42.01090555, 42.01128426, 42.01166296,\n",
       "       42.01204167, 42.01242038, 42.01279908, 42.01317779, 42.0135565 ,\n",
       "       42.01393521, 42.01431391, 42.01469262, 42.01507133, 42.01545003,\n",
       "       42.01582874, 42.01620745, 42.01658615, 42.01696486, 42.01734357,\n",
       "       42.01772227, 42.01810098, 42.01847969, 42.01885839, 42.0192371 ,\n",
       "       42.01961581, 42.01999451, 42.02037322, 42.02075193, 42.02113063,\n",
       "       42.02150934, 42.02188805, 42.02226675, 42.02264546, 42.02302417])"
      ]
     },
     "execution_count": 23,
     "metadata": {},
     "output_type": "execute_result"
    }
   ],
   "source": [
    "X_vals=np.linspace(coffee_lat['block_lat'].min(), coffee_lat['block_lat'].max(), 1000)\n",
    "X_vals\n",
    "# X_vals = X_vals.reshape(-1,1)"
   ]
  },
  {
   "cell_type": "code",
   "execution_count": 24,
   "metadata": {},
   "outputs": [
    {
     "ename": "ValueError",
     "evalue": "Expected 2D array, got 1D array instead:\narray=[41.64469614 41.64507485 41.64545356 41.64583226 41.64621097 41.64658968\n 41.64696838 41.64734709 41.6477258  41.6481045  41.64848321 41.64886192\n 41.64924062 41.64961933 41.64999804 41.65037674 41.65075545 41.65113416\n 41.65151286 41.65189157 41.65227028 41.65264898 41.65302769 41.6534064\n 41.6537851  41.65416381 41.65454252 41.65492122 41.65529993 41.65567864\n 41.65605734 41.65643605 41.65681476 41.65719347 41.65757217 41.65795088\n 41.65832959 41.65870829 41.659087   41.65946571 41.65984441 41.66022312\n 41.66060183 41.66098053 41.66135924 41.66173795 41.66211665 41.66249536\n 41.66287407 41.66325277 41.66363148 41.66401019 41.66438889 41.6647676\n 41.66514631 41.66552501 41.66590372 41.66628243 41.66666113 41.66703984\n 41.66741855 41.66779725 41.66817596 41.66855467 41.66893337 41.66931208\n 41.66969079 41.67006949 41.6704482  41.67082691 41.67120561 41.67158432\n 41.67196303 41.67234173 41.67272044 41.67309915 41.67347785 41.67385656\n 41.67423527 41.67461397 41.67499268 41.67537139 41.67575009 41.6761288\n 41.67650751 41.67688622 41.67726492 41.67764363 41.67802234 41.67840104\n 41.67877975 41.67915846 41.67953716 41.67991587 41.68029458 41.68067328\n 41.68105199 41.6814307  41.6818094  41.68218811 41.68256682 41.68294552\n 41.68332423 41.68370294 41.68408164 41.68446035 41.68483906 41.68521776\n 41.68559647 41.68597518 41.68635388 41.68673259 41.6871113  41.68749\n 41.68786871 41.68824742 41.68862612 41.68900483 41.68938354 41.68976224\n 41.69014095 41.69051966 41.69089836 41.69127707 41.69165578 41.69203448\n 41.69241319 41.6927919  41.6931706  41.69354931 41.69392802 41.69430672\n 41.69468543 41.69506414 41.69544284 41.69582155 41.69620026 41.69657897\n 41.69695767 41.69733638 41.69771509 41.69809379 41.6984725  41.69885121\n 41.69922991 41.69960862 41.69998733 41.70036603 41.70074474 41.70112345\n 41.70150215 41.70188086 41.70225957 41.70263827 41.70301698 41.70339569\n 41.70377439 41.7041531  41.70453181 41.70491051 41.70528922 41.70566793\n 41.70604663 41.70642534 41.70680405 41.70718275 41.70756146 41.70794017\n 41.70831887 41.70869758 41.70907629 41.70945499 41.7098337  41.71021241\n 41.71059111 41.71096982 41.71134853 41.71172723 41.71210594 41.71248465\n 41.71286335 41.71324206 41.71362077 41.71399947 41.71437818 41.71475689\n 41.71513559 41.7155143  41.71589301 41.71627172 41.71665042 41.71702913\n 41.71740784 41.71778654 41.71816525 41.71854396 41.71892266 41.71930137\n 41.71968008 41.72005878 41.72043749 41.7208162  41.7211949  41.72157361\n 41.72195232 41.72233102 41.72270973 41.72308844 41.72346714 41.72384585\n 41.72422456 41.72460326 41.72498197 41.72536068 41.72573938 41.72611809\n 41.7264968  41.7268755  41.72725421 41.72763292 41.72801162 41.72839033\n 41.72876904 41.72914774 41.72952645 41.72990516 41.73028386 41.73066257\n 41.73104128 41.73141998 41.73179869 41.7321774  41.7325561  41.73293481\n 41.73331352 41.73369222 41.73407093 41.73444964 41.73482834 41.73520705\n 41.73558576 41.73596447 41.73634317 41.73672188 41.73710059 41.73747929\n 41.737858   41.73823671 41.73861541 41.73899412 41.73937283 41.73975153\n 41.74013024 41.74050895 41.74088765 41.74126636 41.74164507 41.74202377\n 41.74240248 41.74278119 41.74315989 41.7435386  41.74391731 41.74429601\n 41.74467472 41.74505343 41.74543213 41.74581084 41.74618955 41.74656825\n 41.74694696 41.74732567 41.74770437 41.74808308 41.74846179 41.74884049\n 41.7492192  41.74959791 41.74997661 41.75035532 41.75073403 41.75111273\n 41.75149144 41.75187015 41.75224885 41.75262756 41.75300627 41.75338497\n 41.75376368 41.75414239 41.75452109 41.7548998  41.75527851 41.75565721\n 41.75603592 41.75641463 41.75679334 41.75717204 41.75755075 41.75792946\n 41.75830816 41.75868687 41.75906558 41.75944428 41.75982299 41.7602017\n 41.7605804  41.76095911 41.76133782 41.76171652 41.76209523 41.76247394\n 41.76285264 41.76323135 41.76361006 41.76398876 41.76436747 41.76474618\n 41.76512488 41.76550359 41.7658823  41.766261   41.76663971 41.76701842\n 41.76739712 41.76777583 41.76815454 41.76853324 41.76891195 41.76929066\n 41.76966936 41.77004807 41.77042678 41.77080548 41.77118419 41.7715629\n 41.7719416  41.77232031 41.77269902 41.77307772 41.77345643 41.77383514\n 41.77421384 41.77459255 41.77497126 41.77534996 41.77572867 41.77610738\n 41.77648609 41.77686479 41.7772435  41.77762221 41.77800091 41.77837962\n 41.77875833 41.77913703 41.77951574 41.77989445 41.78027315 41.78065186\n 41.78103057 41.78140927 41.78178798 41.78216669 41.78254539 41.7829241\n 41.78330281 41.78368151 41.78406022 41.78443893 41.78481763 41.78519634\n 41.78557505 41.78595375 41.78633246 41.78671117 41.78708987 41.78746858\n 41.78784729 41.78822599 41.7886047  41.78898341 41.78936211 41.78974082\n 41.79011953 41.79049823 41.79087694 41.79125565 41.79163435 41.79201306\n 41.79239177 41.79277047 41.79314918 41.79352789 41.79390659 41.7942853\n 41.79466401 41.79504271 41.79542142 41.79580013 41.79617884 41.79655754\n 41.79693625 41.79731496 41.79769366 41.79807237 41.79845108 41.79882978\n 41.79920849 41.7995872  41.7999659  41.80034461 41.80072332 41.80110202\n 41.80148073 41.80185944 41.80223814 41.80261685 41.80299556 41.80337426\n 41.80375297 41.80413168 41.80451038 41.80488909 41.8052678  41.8056465\n 41.80602521 41.80640392 41.80678262 41.80716133 41.80754004 41.80791874\n 41.80829745 41.80867616 41.80905486 41.80943357 41.80981228 41.81019098\n 41.81056969 41.8109484  41.8113271  41.81170581 41.81208452 41.81246322\n 41.81284193 41.81322064 41.81359934 41.81397805 41.81435676 41.81473546\n 41.81511417 41.81549288 41.81587159 41.81625029 41.816629   41.81700771\n 41.81738641 41.81776512 41.81814383 41.81852253 41.81890124 41.81927995\n 41.81965865 41.82003736 41.82041607 41.82079477 41.82117348 41.82155219\n 41.82193089 41.8223096  41.82268831 41.82306701 41.82344572 41.82382443\n 41.82420313 41.82458184 41.82496055 41.82533925 41.82571796 41.82609667\n 41.82647537 41.82685408 41.82723279 41.82761149 41.8279902  41.82836891\n 41.82874761 41.82912632 41.82950503 41.82988373 41.83026244 41.83064115\n 41.83101985 41.83139856 41.83177727 41.83215597 41.83253468 41.83291339\n 41.83329209 41.8336708  41.83404951 41.83442821 41.83480692 41.83518563\n 41.83556434 41.83594304 41.83632175 41.83670046 41.83707916 41.83745787\n 41.83783658 41.83821528 41.83859399 41.8389727  41.8393514  41.83973011\n 41.84010882 41.84048752 41.84086623 41.84124494 41.84162364 41.84200235\n 41.84238106 41.84275976 41.84313847 41.84351718 41.84389588 41.84427459\n 41.8446533  41.845032   41.84541071 41.84578942 41.84616812 41.84654683\n 41.84692554 41.84730424 41.84768295 41.84806166 41.84844036 41.84881907\n 41.84919778 41.84957648 41.84995519 41.8503339  41.8507126  41.85109131\n 41.85147002 41.85184872 41.85222743 41.85260614 41.85298484 41.85336355\n 41.85374226 41.85412096 41.85449967 41.85487838 41.85525709 41.85563579\n 41.8560145  41.85639321 41.85677191 41.85715062 41.85752933 41.85790803\n 41.85828674 41.85866545 41.85904415 41.85942286 41.85980157 41.86018027\n 41.86055898 41.86093769 41.86131639 41.8616951  41.86207381 41.86245251\n 41.86283122 41.86320993 41.86358863 41.86396734 41.86434605 41.86472475\n 41.86510346 41.86548217 41.86586087 41.86623958 41.86661829 41.86699699\n 41.8673757  41.86775441 41.86813311 41.86851182 41.86889053 41.86926923\n 41.86964794 41.87002665 41.87040535 41.87078406 41.87116277 41.87154147\n 41.87192018 41.87229889 41.87267759 41.8730563  41.87343501 41.87381371\n 41.87419242 41.87457113 41.87494984 41.87532854 41.87570725 41.87608596\n 41.87646466 41.87684337 41.87722208 41.87760078 41.87797949 41.8783582\n 41.8787369  41.87911561 41.87949432 41.87987302 41.88025173 41.88063044\n 41.88100914 41.88138785 41.88176656 41.88214526 41.88252397 41.88290268\n 41.88328138 41.88366009 41.8840388  41.8844175  41.88479621 41.88517492\n 41.88555362 41.88593233 41.88631104 41.88668974 41.88706845 41.88744716\n 41.88782586 41.88820457 41.88858328 41.88896198 41.88934069 41.8897194\n 41.8900981  41.89047681 41.89085552 41.89123422 41.89161293 41.89199164\n 41.89237034 41.89274905 41.89312776 41.89350646 41.89388517 41.89426388\n 41.89464259 41.89502129 41.8954     41.89577871 41.89615741 41.89653612\n 41.89691483 41.89729353 41.89767224 41.89805095 41.89842965 41.89880836\n 41.89918707 41.89956577 41.89994448 41.90032319 41.90070189 41.9010806\n 41.90145931 41.90183801 41.90221672 41.90259543 41.90297413 41.90335284\n 41.90373155 41.90411025 41.90448896 41.90486767 41.90524637 41.90562508\n 41.90600379 41.90638249 41.9067612  41.90713991 41.90751861 41.90789732\n 41.90827603 41.90865473 41.90903344 41.90941215 41.90979085 41.91016956\n 41.91054827 41.91092697 41.91130568 41.91168439 41.91206309 41.9124418\n 41.91282051 41.91319921 41.91357792 41.91395663 41.91433533 41.91471404\n 41.91509275 41.91547146 41.91585016 41.91622887 41.91660758 41.91698628\n 41.91736499 41.9177437  41.9181224  41.91850111 41.91887982 41.91925852\n 41.91963723 41.92001594 41.92039464 41.92077335 41.92115206 41.92153076\n 41.92190947 41.92228818 41.92266688 41.92304559 41.9234243  41.923803\n 41.92418171 41.92456042 41.92493912 41.92531783 41.92569654 41.92607524\n 41.92645395 41.92683266 41.92721136 41.92759007 41.92796878 41.92834748\n 41.92872619 41.9291049  41.9294836  41.92986231 41.93024102 41.93061972\n 41.93099843 41.93137714 41.93175584 41.93213455 41.93251326 41.93289196\n 41.93327067 41.93364938 41.93402808 41.93440679 41.9347855  41.93516421\n 41.93554291 41.93592162 41.93630033 41.93667903 41.93705774 41.93743645\n 41.93781515 41.93819386 41.93857257 41.93895127 41.93932998 41.93970869\n 41.94008739 41.9404661  41.94084481 41.94122351 41.94160222 41.94198093\n 41.94235963 41.94273834 41.94311705 41.94349575 41.94387446 41.94425317\n 41.94463187 41.94501058 41.94538929 41.94576799 41.9461467  41.94652541\n 41.94690411 41.94728282 41.94766153 41.94804023 41.94841894 41.94879765\n 41.94917635 41.94955506 41.94993377 41.95031247 41.95069118 41.95106989\n 41.95144859 41.9518273  41.95220601 41.95258471 41.95296342 41.95334213\n 41.95372083 41.95409954 41.95447825 41.95485696 41.95523566 41.95561437\n 41.95599308 41.95637178 41.95675049 41.9571292  41.9575079  41.95788661\n 41.95826532 41.95864402 41.95902273 41.95940144 41.95978014 41.96015885\n 41.96053756 41.96091626 41.96129497 41.96167368 41.96205238 41.96243109\n 41.9628098  41.9631885  41.96356721 41.96394592 41.96432462 41.96470333\n 41.96508204 41.96546074 41.96583945 41.96621816 41.96659686 41.96697557\n 41.96735428 41.96773298 41.96811169 41.9684904  41.9688691  41.96924781\n 41.96962652 41.97000522 41.97038393 41.97076264 41.97114134 41.97152005\n 41.97189876 41.97227746 41.97265617 41.97303488 41.97341358 41.97379229\n 41.974171   41.97454971 41.97492841 41.97530712 41.97568583 41.97606453\n 41.97644324 41.97682195 41.97720065 41.97757936 41.97795807 41.97833677\n 41.97871548 41.97909419 41.97947289 41.9798516  41.98023031 41.98060901\n 41.98098772 41.98136643 41.98174513 41.98212384 41.98250255 41.98288125\n 41.98325996 41.98363867 41.98401737 41.98439608 41.98477479 41.98515349\n 41.9855322  41.98591091 41.98628961 41.98666832 41.98704703 41.98742573\n 41.98780444 41.98818315 41.98856185 41.98894056 41.98931927 41.98969797\n 41.99007668 41.99045539 41.99083409 41.9912128  41.99159151 41.99197021\n 41.99234892 41.99272763 41.99310633 41.99348504 41.99386375 41.99424246\n 41.99462116 41.99499987 41.99537858 41.99575728 41.99613599 41.9965147\n 41.9968934  41.99727211 41.99765082 41.99802952 41.99840823 41.99878694\n 41.99916564 41.99954435 41.99992306 42.00030176 42.00068047 42.00105918\n 42.00143788 42.00181659 42.0021953  42.002574   42.00295271 42.00333142\n 42.00371012 42.00408883 42.00446754 42.00484624 42.00522495 42.00560366\n 42.00598236 42.00636107 42.00673978 42.00711848 42.00749719 42.0078759\n 42.0082546  42.00863331 42.00901202 42.00939072 42.00976943 42.01014814\n 42.01052684 42.01090555 42.01128426 42.01166296 42.01204167 42.01242038\n 42.01279908 42.01317779 42.0135565  42.01393521 42.01431391 42.01469262\n 42.01507133 42.01545003 42.01582874 42.01620745 42.01658615 42.01696486\n 42.01734357 42.01772227 42.01810098 42.01847969 42.01885839 42.0192371\n 42.01961581 42.01999451 42.02037322 42.02075193 42.02113063 42.02150934\n 42.02188805 42.02226675 42.02264546 42.02302417].\nReshape your data either using array.reshape(-1, 1) if your data has a single feature or array.reshape(1, -1) if it contains a single sample.",
     "output_type": "error",
     "traceback": [
      "\u001b[0;31m---------------------------------------------------------------------------\u001b[0m",
      "\u001b[0;31mValueError\u001b[0m                                Traceback (most recent call last)",
      "\u001b[0;32m<ipython-input-24-fd7cc32c1702>\u001b[0m in \u001b[0;36m<module>\u001b[0;34m\u001b[0m\n\u001b[0;32m----> 1\u001b[0;31m \u001b[0mlog_probs\u001b[0m \u001b[0;34m=\u001b[0m \u001b[0mkde\u001b[0m\u001b[0;34m.\u001b[0m\u001b[0mscore_samples\u001b[0m\u001b[0;34m(\u001b[0m\u001b[0mX_vals\u001b[0m\u001b[0;34m)\u001b[0m\u001b[0;34m\u001b[0m\u001b[0;34m\u001b[0m\u001b[0m\n\u001b[0m\u001b[1;32m      2\u001b[0m \u001b[0mplt\u001b[0m\u001b[0;34m.\u001b[0m\u001b[0mylim\u001b[0m\u001b[0;34m(\u001b[0m\u001b[0;34m-\u001b[0m\u001b[0;36m.0001\u001b[0m\u001b[0;34m,\u001b[0m\u001b[0;36m.0001\u001b[0m\u001b[0;34m)\u001b[0m\u001b[0;34m\u001b[0m\u001b[0;34m\u001b[0m\u001b[0m\n\u001b[1;32m      3\u001b[0m \u001b[0mplt\u001b[0m\u001b[0;34m.\u001b[0m\u001b[0mplot\u001b[0m\u001b[0;34m(\u001b[0m\u001b[0mX_vals\u001b[0m\u001b[0;34m,\u001b[0m \u001b[0mnp\u001b[0m\u001b[0;34m.\u001b[0m\u001b[0mexp\u001b[0m\u001b[0;34m(\u001b[0m\u001b[0mlog_probs\u001b[0m\u001b[0;34m)\u001b[0m\u001b[0;34m)\u001b[0m\u001b[0;34m\u001b[0m\u001b[0;34m\u001b[0m\u001b[0m\n",
      "\u001b[0;32m/anaconda3/lib/python3.7/site-packages/sklearn/neighbors/kde.py\u001b[0m in \u001b[0;36mscore_samples\u001b[0;34m(self, X)\u001b[0m\n\u001b[1;32m    167\u001b[0m         \u001b[0;31m# For it to be a probability, we must scale it.  For this reason\u001b[0m\u001b[0;34m\u001b[0m\u001b[0;34m\u001b[0m\u001b[0;34m\u001b[0m\u001b[0m\n\u001b[1;32m    168\u001b[0m         \u001b[0;31m# we'll also scale atol.\u001b[0m\u001b[0;34m\u001b[0m\u001b[0;34m\u001b[0m\u001b[0;34m\u001b[0m\u001b[0m\n\u001b[0;32m--> 169\u001b[0;31m         \u001b[0mX\u001b[0m \u001b[0;34m=\u001b[0m \u001b[0mcheck_array\u001b[0m\u001b[0;34m(\u001b[0m\u001b[0mX\u001b[0m\u001b[0;34m,\u001b[0m \u001b[0morder\u001b[0m\u001b[0;34m=\u001b[0m\u001b[0;34m'C'\u001b[0m\u001b[0;34m,\u001b[0m \u001b[0mdtype\u001b[0m\u001b[0;34m=\u001b[0m\u001b[0mDTYPE\u001b[0m\u001b[0;34m)\u001b[0m\u001b[0;34m\u001b[0m\u001b[0;34m\u001b[0m\u001b[0m\n\u001b[0m\u001b[1;32m    170\u001b[0m         \u001b[0;32mif\u001b[0m \u001b[0mself\u001b[0m\u001b[0;34m.\u001b[0m\u001b[0mtree_\u001b[0m\u001b[0;34m.\u001b[0m\u001b[0msample_weight\u001b[0m \u001b[0;32mis\u001b[0m \u001b[0;32mNone\u001b[0m\u001b[0;34m:\u001b[0m\u001b[0;34m\u001b[0m\u001b[0;34m\u001b[0m\u001b[0m\n\u001b[1;32m    171\u001b[0m             \u001b[0mN\u001b[0m \u001b[0;34m=\u001b[0m \u001b[0mself\u001b[0m\u001b[0;34m.\u001b[0m\u001b[0mtree_\u001b[0m\u001b[0;34m.\u001b[0m\u001b[0mdata\u001b[0m\u001b[0;34m.\u001b[0m\u001b[0mshape\u001b[0m\u001b[0;34m[\u001b[0m\u001b[0;36m0\u001b[0m\u001b[0;34m]\u001b[0m\u001b[0;34m\u001b[0m\u001b[0;34m\u001b[0m\u001b[0m\n",
      "\u001b[0;32m/anaconda3/lib/python3.7/site-packages/sklearn/utils/validation.py\u001b[0m in \u001b[0;36mcheck_array\u001b[0;34m(array, accept_sparse, accept_large_sparse, dtype, order, copy, force_all_finite, ensure_2d, allow_nd, ensure_min_samples, ensure_min_features, warn_on_dtype, estimator)\u001b[0m\n\u001b[1;32m    550\u001b[0m                     \u001b[0;34m\"Reshape your data either using array.reshape(-1, 1) if \"\u001b[0m\u001b[0;34m\u001b[0m\u001b[0;34m\u001b[0m\u001b[0m\n\u001b[1;32m    551\u001b[0m                     \u001b[0;34m\"your data has a single feature or array.reshape(1, -1) \"\u001b[0m\u001b[0;34m\u001b[0m\u001b[0;34m\u001b[0m\u001b[0m\n\u001b[0;32m--> 552\u001b[0;31m                     \"if it contains a single sample.\".format(array))\n\u001b[0m\u001b[1;32m    553\u001b[0m \u001b[0;34m\u001b[0m\u001b[0m\n\u001b[1;32m    554\u001b[0m         \u001b[0;31m# in the future np.flexible dtypes will be handled like object dtypes\u001b[0m\u001b[0;34m\u001b[0m\u001b[0;34m\u001b[0m\u001b[0;34m\u001b[0m\u001b[0m\n",
      "\u001b[0;31mValueError\u001b[0m: Expected 2D array, got 1D array instead:\narray=[41.64469614 41.64507485 41.64545356 41.64583226 41.64621097 41.64658968\n 41.64696838 41.64734709 41.6477258  41.6481045  41.64848321 41.64886192\n 41.64924062 41.64961933 41.64999804 41.65037674 41.65075545 41.65113416\n 41.65151286 41.65189157 41.65227028 41.65264898 41.65302769 41.6534064\n 41.6537851  41.65416381 41.65454252 41.65492122 41.65529993 41.65567864\n 41.65605734 41.65643605 41.65681476 41.65719347 41.65757217 41.65795088\n 41.65832959 41.65870829 41.659087   41.65946571 41.65984441 41.66022312\n 41.66060183 41.66098053 41.66135924 41.66173795 41.66211665 41.66249536\n 41.66287407 41.66325277 41.66363148 41.66401019 41.66438889 41.6647676\n 41.66514631 41.66552501 41.66590372 41.66628243 41.66666113 41.66703984\n 41.66741855 41.66779725 41.66817596 41.66855467 41.66893337 41.66931208\n 41.66969079 41.67006949 41.6704482  41.67082691 41.67120561 41.67158432\n 41.67196303 41.67234173 41.67272044 41.67309915 41.67347785 41.67385656\n 41.67423527 41.67461397 41.67499268 41.67537139 41.67575009 41.6761288\n 41.67650751 41.67688622 41.67726492 41.67764363 41.67802234 41.67840104\n 41.67877975 41.67915846 41.67953716 41.67991587 41.68029458 41.68067328\n 41.68105199 41.6814307  41.6818094  41.68218811 41.68256682 41.68294552\n 41.68332423 41.68370294 41.68408164 41.68446035 41.68483906 41.68521776\n 41.68559647 41.68597518 41.68635388 41.68673259 41.6871113  41.68749\n 41.68786871 41.68824742 41.68862612 41.68900483 41.68938354 41.68976224\n 41.69014095 41.69051966 41.69089836 41.69127707 41.69165578 41.69203448\n 41.69241319 41.6927919  41.6931706  41.69354931 41.69392802 41.69430672\n 41.69468543 41.69506414 41.69544284 41.69582155 41.69620026 41.69657897\n 41.69695767 41.69733638 41.69771509 41.69809379 41.6984725  41.69885121\n 41.69922991 41.69960862 41.69998733 41.70036603 41.70074474 41.70112345\n 41.70150215 41.70188086 41.70225957 41.70263827 41.70301698 41.70339569\n 41.70377439 41.7041531  41.70453181 41.70491051 41.70528922 41.70566793\n 41.70604663 41.70642534 41.70680405 41.70718275 41.70756146 41.70794017\n 41.70831887 41.70869758 41.70907629 41.70945499 41.7098337  41.71021241\n 41.71059111 41.71096982 41.71134853 41.71172723 41.71210594 41.71248465\n 41.71286335 41.71324206 41.71362077 41.71399947 41.71437818 41.71475689\n 41.71513559 41.7155143  41.71589301 41.71627172 41.71665042 41.71702913\n 41.71740784 41.71778654 41.71816525 41.71854396 41.71892266 41.71930137\n 41.71968008 41.72005878 41.72043749 41.7208162  41.7211949  41.72157361\n 41.72195232 41.72233102 41.72270973 41.72308844 41.72346714 41.72384585\n 41.72422456 41.72460326 41.72498197 41.72536068 41.72573938 41.72611809\n 41.7264968  41.7268755  41.72725421 41.72763292 41.72801162 41.72839033\n 41.72876904 41.72914774 41.72952645 41.72990516 41.73028386 41.73066257\n 41.73104128 41.73141998 41.73179869 41.7321774  41.7325561  41.73293481\n 41.73331352 41.73369222 41.73407093 41.73444964 41.73482834 41.73520705\n 41.73558576 41.73596447 41.73634317 41.73672188 41.73710059 41.73747929\n 41.737858   41.73823671 41.73861541 41.73899412 41.73937283 41.73975153\n 41.74013024 41.74050895 41.74088765 41.74126636 41.74164507 41.74202377\n 41.74240248 41.74278119 41.74315989 41.7435386  41.74391731 41.74429601\n 41.74467472 41.74505343 41.74543213 41.74581084 41.74618955 41.74656825\n 41.74694696 41.74732567 41.74770437 41.74808308 41.74846179 41.74884049\n 41.7492192  41.74959791 41.74997661 41.75035532 41.75073403 41.75111273\n 41.75149144 41.75187015 41.75224885 41.75262756 41.75300627 41.75338497\n 41.75376368 41.75414239 41.75452109 41.7548998  41.75527851 41.75565721\n 41.75603592 41.75641463 41.75679334 41.75717204 41.75755075 41.75792946\n 41.75830816 41.75868687 41.75906558 41.75944428 41.75982299 41.7602017\n 41.7605804  41.76095911 41.76133782 41.76171652 41.76209523 41.76247394\n 41.76285264 41.76323135 41.76361006 41.76398876 41.76436747 41.76474618\n 41.76512488 41.76550359 41.7658823  41.766261   41.76663971 41.76701842\n 41.76739712 41.76777583 41.76815454 41.76853324 41.76891195 41.76929066\n 41.76966936 41.77004807 41.77042678 41.77080548 41.77118419 41.7715629\n 41.7719416  41.77232031 41.77269902 41.77307772 41.77345643 41.77383514\n 41.77421384 41.77459255 41.77497126 41.77534996 41.77572867 41.77610738\n 41.77648609 41.77686479 41.7772435  41.77762221 41.77800091 41.77837962\n 41.77875833 41.77913703 41.77951574 41.77989445 41.78027315 41.78065186\n 41.78103057 41.78140927 41.78178798 41.78216669 41.78254539 41.7829241\n 41.78330281 41.78368151 41.78406022 41.78443893 41.78481763 41.78519634\n 41.78557505 41.78595375 41.78633246 41.78671117 41.78708987 41.78746858\n 41.78784729 41.78822599 41.7886047  41.78898341 41.78936211 41.78974082\n 41.79011953 41.79049823 41.79087694 41.79125565 41.79163435 41.79201306\n 41.79239177 41.79277047 41.79314918 41.79352789 41.79390659 41.7942853\n 41.79466401 41.79504271 41.79542142 41.79580013 41.79617884 41.79655754\n 41.79693625 41.79731496 41.79769366 41.79807237 41.79845108 41.79882978\n 41.79920849 41.7995872  41.7999659  41.80034461 41.80072332 41.80110202\n 41.80148073 41.80185944 41.80223814 41.80261685 41.80299556 41.80337426\n 41.80375297 41.80413168 41.80451038 41.80488909 41.8052678  41.8056465\n 41.80602521 41.80640392 41.80678262 41.80716133 41.80754004 41.80791874\n 41.80829745 41.80867616 41.80905486 41.80943357 41.80981228 41.81019098\n 41.81056969 41.8109484  41.8113271  41.81170581 41.81208452 41.81246322\n 41.81284193 41.81322064 41.81359934 41.81397805 41.81435676 41.81473546\n 41.81511417 41.81549288 41.81587159 41.81625029 41.816629   41.81700771\n 41.81738641 41.81776512 41.81814383 41.81852253 41.81890124 41.81927995\n 41.81965865 41.82003736 41.82041607 41.82079477 41.82117348 41.82155219\n 41.82193089 41.8223096  41.82268831 41.82306701 41.82344572 41.82382443\n 41.82420313 41.82458184 41.82496055 41.82533925 41.82571796 41.82609667\n 41.82647537 41.82685408 41.82723279 41.82761149 41.8279902  41.82836891\n 41.82874761 41.82912632 41.82950503 41.82988373 41.83026244 41.83064115\n 41.83101985 41.83139856 41.83177727 41.83215597 41.83253468 41.83291339\n 41.83329209 41.8336708  41.83404951 41.83442821 41.83480692 41.83518563\n 41.83556434 41.83594304 41.83632175 41.83670046 41.83707916 41.83745787\n 41.83783658 41.83821528 41.83859399 41.8389727  41.8393514  41.83973011\n 41.84010882 41.84048752 41.84086623 41.84124494 41.84162364 41.84200235\n 41.84238106 41.84275976 41.84313847 41.84351718 41.84389588 41.84427459\n 41.8446533  41.845032   41.84541071 41.84578942 41.84616812 41.84654683\n 41.84692554 41.84730424 41.84768295 41.84806166 41.84844036 41.84881907\n 41.84919778 41.84957648 41.84995519 41.8503339  41.8507126  41.85109131\n 41.85147002 41.85184872 41.85222743 41.85260614 41.85298484 41.85336355\n 41.85374226 41.85412096 41.85449967 41.85487838 41.85525709 41.85563579\n 41.8560145  41.85639321 41.85677191 41.85715062 41.85752933 41.85790803\n 41.85828674 41.85866545 41.85904415 41.85942286 41.85980157 41.86018027\n 41.86055898 41.86093769 41.86131639 41.8616951  41.86207381 41.86245251\n 41.86283122 41.86320993 41.86358863 41.86396734 41.86434605 41.86472475\n 41.86510346 41.86548217 41.86586087 41.86623958 41.86661829 41.86699699\n 41.8673757  41.86775441 41.86813311 41.86851182 41.86889053 41.86926923\n 41.86964794 41.87002665 41.87040535 41.87078406 41.87116277 41.87154147\n 41.87192018 41.87229889 41.87267759 41.8730563  41.87343501 41.87381371\n 41.87419242 41.87457113 41.87494984 41.87532854 41.87570725 41.87608596\n 41.87646466 41.87684337 41.87722208 41.87760078 41.87797949 41.8783582\n 41.8787369  41.87911561 41.87949432 41.87987302 41.88025173 41.88063044\n 41.88100914 41.88138785 41.88176656 41.88214526 41.88252397 41.88290268\n 41.88328138 41.88366009 41.8840388  41.8844175  41.88479621 41.88517492\n 41.88555362 41.88593233 41.88631104 41.88668974 41.88706845 41.88744716\n 41.88782586 41.88820457 41.88858328 41.88896198 41.88934069 41.8897194\n 41.8900981  41.89047681 41.89085552 41.89123422 41.89161293 41.89199164\n 41.89237034 41.89274905 41.89312776 41.89350646 41.89388517 41.89426388\n 41.89464259 41.89502129 41.8954     41.89577871 41.89615741 41.89653612\n 41.89691483 41.89729353 41.89767224 41.89805095 41.89842965 41.89880836\n 41.89918707 41.89956577 41.89994448 41.90032319 41.90070189 41.9010806\n 41.90145931 41.90183801 41.90221672 41.90259543 41.90297413 41.90335284\n 41.90373155 41.90411025 41.90448896 41.90486767 41.90524637 41.90562508\n 41.90600379 41.90638249 41.9067612  41.90713991 41.90751861 41.90789732\n 41.90827603 41.90865473 41.90903344 41.90941215 41.90979085 41.91016956\n 41.91054827 41.91092697 41.91130568 41.91168439 41.91206309 41.9124418\n 41.91282051 41.91319921 41.91357792 41.91395663 41.91433533 41.91471404\n 41.91509275 41.91547146 41.91585016 41.91622887 41.91660758 41.91698628\n 41.91736499 41.9177437  41.9181224  41.91850111 41.91887982 41.91925852\n 41.91963723 41.92001594 41.92039464 41.92077335 41.92115206 41.92153076\n 41.92190947 41.92228818 41.92266688 41.92304559 41.9234243  41.923803\n 41.92418171 41.92456042 41.92493912 41.92531783 41.92569654 41.92607524\n 41.92645395 41.92683266 41.92721136 41.92759007 41.92796878 41.92834748\n 41.92872619 41.9291049  41.9294836  41.92986231 41.93024102 41.93061972\n 41.93099843 41.93137714 41.93175584 41.93213455 41.93251326 41.93289196\n 41.93327067 41.93364938 41.93402808 41.93440679 41.9347855  41.93516421\n 41.93554291 41.93592162 41.93630033 41.93667903 41.93705774 41.93743645\n 41.93781515 41.93819386 41.93857257 41.93895127 41.93932998 41.93970869\n 41.94008739 41.9404661  41.94084481 41.94122351 41.94160222 41.94198093\n 41.94235963 41.94273834 41.94311705 41.94349575 41.94387446 41.94425317\n 41.94463187 41.94501058 41.94538929 41.94576799 41.9461467  41.94652541\n 41.94690411 41.94728282 41.94766153 41.94804023 41.94841894 41.94879765\n 41.94917635 41.94955506 41.94993377 41.95031247 41.95069118 41.95106989\n 41.95144859 41.9518273  41.95220601 41.95258471 41.95296342 41.95334213\n 41.95372083 41.95409954 41.95447825 41.95485696 41.95523566 41.95561437\n 41.95599308 41.95637178 41.95675049 41.9571292  41.9575079  41.95788661\n 41.95826532 41.95864402 41.95902273 41.95940144 41.95978014 41.96015885\n 41.96053756 41.96091626 41.96129497 41.96167368 41.96205238 41.96243109\n 41.9628098  41.9631885  41.96356721 41.96394592 41.96432462 41.96470333\n 41.96508204 41.96546074 41.96583945 41.96621816 41.96659686 41.96697557\n 41.96735428 41.96773298 41.96811169 41.9684904  41.9688691  41.96924781\n 41.96962652 41.97000522 41.97038393 41.97076264 41.97114134 41.97152005\n 41.97189876 41.97227746 41.97265617 41.97303488 41.97341358 41.97379229\n 41.974171   41.97454971 41.97492841 41.97530712 41.97568583 41.97606453\n 41.97644324 41.97682195 41.97720065 41.97757936 41.97795807 41.97833677\n 41.97871548 41.97909419 41.97947289 41.9798516  41.98023031 41.98060901\n 41.98098772 41.98136643 41.98174513 41.98212384 41.98250255 41.98288125\n 41.98325996 41.98363867 41.98401737 41.98439608 41.98477479 41.98515349\n 41.9855322  41.98591091 41.98628961 41.98666832 41.98704703 41.98742573\n 41.98780444 41.98818315 41.98856185 41.98894056 41.98931927 41.98969797\n 41.99007668 41.99045539 41.99083409 41.9912128  41.99159151 41.99197021\n 41.99234892 41.99272763 41.99310633 41.99348504 41.99386375 41.99424246\n 41.99462116 41.99499987 41.99537858 41.99575728 41.99613599 41.9965147\n 41.9968934  41.99727211 41.99765082 41.99802952 41.99840823 41.99878694\n 41.99916564 41.99954435 41.99992306 42.00030176 42.00068047 42.00105918\n 42.00143788 42.00181659 42.0021953  42.002574   42.00295271 42.00333142\n 42.00371012 42.00408883 42.00446754 42.00484624 42.00522495 42.00560366\n 42.00598236 42.00636107 42.00673978 42.00711848 42.00749719 42.0078759\n 42.0082546  42.00863331 42.00901202 42.00939072 42.00976943 42.01014814\n 42.01052684 42.01090555 42.01128426 42.01166296 42.01204167 42.01242038\n 42.01279908 42.01317779 42.0135565  42.01393521 42.01431391 42.01469262\n 42.01507133 42.01545003 42.01582874 42.01620745 42.01658615 42.01696486\n 42.01734357 42.01772227 42.01810098 42.01847969 42.01885839 42.0192371\n 42.01961581 42.01999451 42.02037322 42.02075193 42.02113063 42.02150934\n 42.02188805 42.02226675 42.02264546 42.02302417].\nReshape your data either using array.reshape(-1, 1) if your data has a single feature or array.reshape(1, -1) if it contains a single sample."
     ]
    }
   ],
   "source": [
    "log_probs = kde.score_samples(X_vals)\n",
    "plt.ylim(-.0001,.0001)\n",
    "plt.plot(X_vals, np.exp(log_probs))"
   ]
  },
  {
   "cell_type": "markdown",
   "metadata": {},
   "source": [
    "## Distribution counts"
   ]
  },
  {
   "cell_type": "code",
   "execution_count": 52,
   "metadata": {},
   "outputs": [
    {
     "data": {
      "text/plain": [
       "['CENSUS BLOCK',\n",
       " 'TOTAL POPULATION',\n",
       " 'bus_within_001',\n",
       " 'cof_within_001',\n",
       " 'closest_el',\n",
       " 'dist_to_closest_el',\n",
       " 'daily_rides_closest_el',\n",
       " 'best_shops_under_001',\n",
       " 'block_lat',\n",
       " 'block_lon',\n",
       " 'crime_count',\n",
       " 'dist_to_closest_library']"
      ]
     },
     "execution_count": 52,
     "metadata": {},
     "output_type": "execute_result"
    }
   ],
   "source": [
    "list(df)"
   ]
  },
  {
   "cell_type": "code",
   "execution_count": 59,
   "metadata": {},
   "outputs": [
    {
     "name": "stdout",
     "output_type": "stream",
     "text": [
      "1\n",
      "2\n",
      "3\n",
      "4\n",
      "5\n",
      "6\n",
      "7\n",
      "8\n",
      "9\n",
      "10\n",
      "11\n",
      "12\n",
      "13\n",
      "14\n",
      "15\n",
      "16\n",
      "17\n",
      "18\n",
      "19\n",
      "20\n",
      "21\n",
      "22\n",
      "23\n",
      "24\n",
      "25\n",
      "26\n",
      "27\n",
      "28\n",
      "29\n",
      "30\n",
      "31\n",
      "32\n",
      "33\n",
      "34\n",
      "35\n",
      "36\n",
      "37\n",
      "38\n",
      "39\n",
      "40\n",
      "41\n",
      "42\n",
      "43\n",
      "44\n",
      "45\n",
      "46\n",
      "47\n",
      "48\n",
      "49\n",
      "50\n",
      "51\n",
      "52\n",
      "53\n",
      "54\n",
      "55\n",
      "56\n",
      "57\n",
      "58\n",
      "59\n",
      "60\n",
      "61\n",
      "62\n",
      "63\n",
      "64\n",
      "65\n",
      "66\n",
      "67\n",
      "68\n",
      "69\n",
      "70\n",
      "71\n",
      "72\n",
      "73\n",
      "74\n",
      "75\n",
      "76\n",
      "77\n",
      "78\n",
      "79\n",
      "80\n",
      "81\n",
      "82\n",
      "83\n",
      "84\n",
      "85\n",
      "86\n",
      "87\n",
      "88\n",
      "89\n",
      "90\n",
      "91\n",
      "92\n",
      "93\n",
      "94\n",
      "95\n",
      "96\n",
      "97\n",
      "98\n",
      "99\n",
      "100\n",
      "101\n",
      "102\n",
      "103\n",
      "104\n",
      "105\n",
      "106\n",
      "107\n",
      "108\n",
      "109\n",
      "110\n",
      "111\n",
      "112\n",
      "113\n",
      "114\n",
      "115\n",
      "116\n",
      "117\n",
      "118\n",
      "119\n",
      "120\n",
      "121\n",
      "122\n",
      "123\n",
      "124\n",
      "125\n",
      "126\n",
      "127\n",
      "128\n",
      "129\n",
      "130\n",
      "131\n",
      "132\n",
      "133\n",
      "134\n",
      "135\n",
      "136\n",
      "137\n",
      "138\n",
      "139\n",
      "140\n",
      "141\n",
      "142\n",
      "143\n",
      "144\n",
      "145\n",
      "146\n",
      "147\n",
      "148\n",
      "149\n",
      "150\n",
      "151\n",
      "152\n",
      "153\n",
      "154\n",
      "155\n",
      "156\n",
      "157\n",
      "158\n",
      "159\n",
      "160\n",
      "161\n",
      "162\n",
      "163\n",
      "164\n",
      "165\n",
      "166\n",
      "167\n",
      "168\n",
      "169\n",
      "170\n",
      "171\n",
      "172\n",
      "173\n",
      "174\n",
      "175\n",
      "176\n",
      "177\n",
      "178\n",
      "179\n",
      "180\n",
      "181\n",
      "182\n",
      "183\n",
      "184\n",
      "185\n",
      "186\n",
      "187\n",
      "188\n",
      "189\n",
      "190\n",
      "191\n",
      "192\n",
      "193\n",
      "194\n",
      "195\n",
      "196\n",
      "197\n",
      "198\n",
      "199\n",
      "200\n"
     ]
    }
   ],
   "source": [
    "coffee_lat_count = defaultdict(int)\n",
    "X_vals = np.linspace(coffee_lat['block_lat'].min(), coffee_lat['block_lat'].max(), 200)\n",
    "bin_size = X_vals[1]-X_vals[0]\n",
    "count = 0\n",
    "for x in X_vals:\n",
    "    for i, row in df.iterrows():\n",
    "        if  x < row['block_lat'] <x+bin_size:\n",
    "            lat_bin = (x+x+bin_size)/2\n",
    "            coffee_lat_count[lat_bin] += row['cof_within_001']\n",
    "    count+=1\n",
    "    print(count)"
   ]
  },
  {
   "cell_type": "code",
   "execution_count": 65,
   "metadata": {},
   "outputs": [
    {
     "data": {
      "text/plain": [
       "[<matplotlib.lines.Line2D at 0x1a1aa0d9e8>]"
      ]
     },
     "execution_count": 65,
     "metadata": {},
     "output_type": "execute_result"
    },
    {
     "data": {
      "image/png": "[encoded data removed]",
      "text/plain": [
       "<Figure size 432x288 with 1 Axes>"
      ]
     },
     "metadata": {
      "needs_background": "light"
     },
     "output_type": "display_data"
    }
   ],
   "source": [
    "plt.plot(coffee_lat_count.keys(), coffee_lat_count.values())"
   ]
  },
  {
   "cell_type": "code",
   "execution_count": 99,
   "metadata": {},
   "outputs": [
    {
     "data": {
      "text/plain": [
       "[<matplotlib.lines.Line2D at 0x1a1b58e5f8>]"
      ]
     },
     "execution_count": 99,
     "metadata": {},
     "output_type": "execute_result"
    },
    {
     "data": {
      "image/png": "[encoded data removed]",
      "text/plain": [
       "<Figure size 432x288 with 1 Axes>"
      ]
     },
     "metadata": {
      "needs_background": "light"
     },
     "output_type": "display_data"
    }
   ],
   "source": [
    "X = list(coffee_lat_count.values())\n",
    "X = np.array(X).reshape(-1,1)\n",
    "X.shape\n",
    "kde = KernelDensity(kernel='gaussian', bandwidth=.15).fit(X)\n",
    "log_dens = kde.score_samples(X_vals.reshape(-1,1))\n",
    "plt.plot(X_vals, np.exp(log_dens))"
   ]
  },
  {
   "cell_type": "markdown",
   "metadata": {},
   "source": [
    "## KDE with lats and longs"
   ]
  },
  {
   "cell_type": "code",
   "execution_count": 143,
   "metadata": {},
   "outputs": [],
   "source": [
    "with open('../dataframes/df_with_libs.p', 'rb') as read_file:\n",
    "    df = pickle.load(read_file)\n",
    "X = df.drop(columns = ['CENSUS BLOCK', 'closest_el', 'daily_rides_closest_el', 'best_shops_under_001' ])"
   ]
  },
  {
   "cell_type": "code",
   "execution_count": 144,
   "metadata": {},
   "outputs": [
    {
     "data": {
      "text/plain": [
       "KernelDensity(algorithm='auto', atol=0, bandwidth=1.0, breadth_first=True,\n",
       "       kernel='gaussian', leaf_size=40, metric='euclidean',\n",
       "       metric_params=None, rtol=0)"
      ]
     },
     "execution_count": 144,
     "metadata": {},
     "output_type": "execute_result"
    }
   ],
   "source": [
    "kde = KernelDensity()\n",
    "kde.fit(X)"
   ]
  },
  {
   "cell_type": "code",
   "execution_count": 114,
   "metadata": {},
   "outputs": [
    {
     "data": {
      "text/plain": [
       "(200, 1)"
      ]
     },
     "execution_count": 114,
     "metadata": {},
     "output_type": "execute_result"
    }
   ],
   "source": [
    "X_vals = np.linspace(coffee_lat['block_lat'].min(), coffee_lat['block_lat'].max(), 200)\n",
    "X_vals = X_vals.reshape(-1,1)\n",
    "X_vals.shape"
   ]
  },
  {
   "cell_type": "code",
   "execution_count": 171,
   "metadata": {},
   "outputs": [],
   "source": [
    "samp_kde = pd.DataFrame(kde.sample(1000), columns=X.columns)\n",
    "samp_kde.to_csv('data/kde_sample1000.csv')"
   ]
  },
  {
   "cell_type": "code",
   "execution_count": 170,
   "metadata": {},
   "outputs": [
    {
     "data": {
      "text/plain": [
       "<BarContainer object of 1000 artists>"
      ]
     },
     "execution_count": 170,
     "metadata": {},
     "output_type": "execute_result"
    },
    {
     "data": {
      "image/png": "[encoded data removed]",
      "text/plain": [
       "<Figure size 432x288 with 1 Axes>"
      ]
     },
     "metadata": {
      "needs_background": "light"
     },
     "output_type": "display_data"
    }
   ],
   "source": [
    "plt.bar( samp_kde.block_lat,samp_kde['cof_within_001'], width=.01)"
   ]
  },
  {
   "cell_type": "code",
   "execution_count": 131,
   "metadata": {},
   "outputs": [],
   "source": [
    "X=df['block_lat']\n",
    "Y=df['block_lon']"
   ]
  },
  {
   "cell_type": "code",
   "execution_count": 136,
   "metadata": {},
   "outputs": [
    {
     "data": {
      "text/plain": [
       "<matplotlib.axes._subplots.AxesSubplot at 0x1a2422d8d0>"
      ]
     },
     "execution_count": 136,
     "metadata": {},
     "output_type": "execute_result"
    },
    {
     "data": {
      "image/png": "[encoded data removed]",
      "text/plain": [
       "<Figure size 432x288 with 1 Axes>"
      ]
     },
     "metadata": {
      "needs_background": "light"
     },
     "output_type": "display_data"
    }
   ],
   "source": [
    "sns.kdeplot(Y, np.exp(log_probs), shade=True)"
   ]
  },
  {
   "cell_type": "code",
   "execution_count": 138,
   "metadata": {},
   "outputs": [
    {
     "ename": "ValueError",
     "evalue": "query data dimension must match training data dimension",
     "output_type": "error",
     "traceback": [
      "\u001b[0;31m---------------------------------------------------------------------------\u001b[0m",
      "\u001b[0;31mValueError\u001b[0m                                Traceback (most recent call last)",
      "\u001b[0;32m<ipython-input-138-5aaed62c365e>\u001b[0m in \u001b[0;36m<module>\u001b[0;34m\u001b[0m\n\u001b[0;32m----> 1\u001b[0;31m \u001b[0mlat_plot\u001b[0m \u001b[0;34m=\u001b[0m \u001b[0mkde\u001b[0m\u001b[0;34m.\u001b[0m\u001b[0mscore\u001b[0m\u001b[0;34m(\u001b[0m\u001b[0mX_vals\u001b[0m\u001b[0;34m)\u001b[0m\u001b[0;34m\u001b[0m\u001b[0;34m\u001b[0m\u001b[0m\n\u001b[0m",
      "\u001b[0;32m/anaconda3/lib/python3.7/site-packages/sklearn/neighbors/kde.py\u001b[0m in \u001b[0;36mscore\u001b[0;34m(self, X, y)\u001b[0m\n\u001b[1;32m    195\u001b[0m             \u001b[0mdata\u001b[0m\u001b[0;34m.\u001b[0m\u001b[0;34m\u001b[0m\u001b[0;34m\u001b[0m\u001b[0m\n\u001b[1;32m    196\u001b[0m         \"\"\"\n\u001b[0;32m--> 197\u001b[0;31m         \u001b[0;32mreturn\u001b[0m \u001b[0mnp\u001b[0m\u001b[0;34m.\u001b[0m\u001b[0msum\u001b[0m\u001b[0;34m(\u001b[0m\u001b[0mself\u001b[0m\u001b[0;34m.\u001b[0m\u001b[0mscore_samples\u001b[0m\u001b[0;34m(\u001b[0m\u001b[0mX\u001b[0m\u001b[0;34m)\u001b[0m\u001b[0;34m)\u001b[0m\u001b[0;34m\u001b[0m\u001b[0;34m\u001b[0m\u001b[0m\n\u001b[0m\u001b[1;32m    198\u001b[0m \u001b[0;34m\u001b[0m\u001b[0m\n\u001b[1;32m    199\u001b[0m     \u001b[0;32mdef\u001b[0m \u001b[0msample\u001b[0m\u001b[0;34m(\u001b[0m\u001b[0mself\u001b[0m\u001b[0;34m,\u001b[0m \u001b[0mn_samples\u001b[0m\u001b[0;34m=\u001b[0m\u001b[0;36m1\u001b[0m\u001b[0;34m,\u001b[0m \u001b[0mrandom_state\u001b[0m\u001b[0;34m=\u001b[0m\u001b[0;32mNone\u001b[0m\u001b[0;34m)\u001b[0m\u001b[0;34m:\u001b[0m\u001b[0;34m\u001b[0m\u001b[0;34m\u001b[0m\u001b[0m\n",
      "\u001b[0;32m/anaconda3/lib/python3.7/site-packages/sklearn/neighbors/kde.py\u001b[0m in \u001b[0;36mscore_samples\u001b[0;34m(self, X)\u001b[0m\n\u001b[1;32m    175\u001b[0m         log_density = self.tree_.kernel_density(\n\u001b[1;32m    176\u001b[0m             \u001b[0mX\u001b[0m\u001b[0;34m,\u001b[0m \u001b[0mh\u001b[0m\u001b[0;34m=\u001b[0m\u001b[0mself\u001b[0m\u001b[0;34m.\u001b[0m\u001b[0mbandwidth\u001b[0m\u001b[0;34m,\u001b[0m \u001b[0mkernel\u001b[0m\u001b[0;34m=\u001b[0m\u001b[0mself\u001b[0m\u001b[0;34m.\u001b[0m\u001b[0mkernel\u001b[0m\u001b[0;34m,\u001b[0m \u001b[0matol\u001b[0m\u001b[0;34m=\u001b[0m\u001b[0matol_N\u001b[0m\u001b[0;34m,\u001b[0m\u001b[0;34m\u001b[0m\u001b[0;34m\u001b[0m\u001b[0m\n\u001b[0;32m--> 177\u001b[0;31m             rtol=self.rtol, breadth_first=self.breadth_first, return_log=True)\n\u001b[0m\u001b[1;32m    178\u001b[0m         \u001b[0mlog_density\u001b[0m \u001b[0;34m-=\u001b[0m \u001b[0mnp\u001b[0m\u001b[0;34m.\u001b[0m\u001b[0mlog\u001b[0m\u001b[0;34m(\u001b[0m\u001b[0mN\u001b[0m\u001b[0;34m)\u001b[0m\u001b[0;34m\u001b[0m\u001b[0;34m\u001b[0m\u001b[0m\n\u001b[1;32m    179\u001b[0m         \u001b[0;32mreturn\u001b[0m \u001b[0mlog_density\u001b[0m\u001b[0;34m\u001b[0m\u001b[0;34m\u001b[0m\u001b[0m\n",
      "\u001b[0;32msklearn/neighbors/binary_tree.pxi\u001b[0m in \u001b[0;36msklearn.neighbors.kd_tree.BinaryTree.kernel_density\u001b[0;34m()\u001b[0m\n",
      "\u001b[0;31mValueError\u001b[0m: query data dimension must match training data dimension"
     ]
    }
   ],
   "source": [
    "lat_plot = kde.score(X_vals)"
   ]
  },
  {
   "cell_type": "code",
   "execution_count": null,
   "metadata": {},
   "outputs": [],
   "source": []
  }
 ],
 "metadata": {
  "kernelspec": {
   "display_name": "Python 3",
   "language": "python",
   "name": "python3"
  },
  "language_info": {
   "codemirror_mode": {
    "name": "ipython",
    "version": 3
   },
   "file_extension": ".py",
   "mimetype": "text/x-python",
   "name": "python",
   "nbconvert_exporter": "python",
   "pygments_lexer": "ipython3",
   "version": "3.7.2"
  }
 },
 "nbformat": 4,
 "nbformat_minor": 2
}
