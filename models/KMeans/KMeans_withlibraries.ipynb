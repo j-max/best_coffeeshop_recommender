{
 "cells": [
  {
   "cell_type": "code",
   "execution_count": 1,
   "metadata": {},
   "outputs": [],
   "source": [
    "import pandas as pd\n",
    "import numpy as np\n",
    "import math\n",
    "import pickle\n",
    "from collections import defaultdict\n",
    "import matplotlib.pyplot as plt\n",
    "\n",
    "from sklearn.decomposition import PCA"
   ]
  },
  {
   "cell_type": "code",
   "execution_count": 14,
   "metadata": {},
   "outputs": [],
   "source": [
    "with open('../dataframes/df_with_libs.p','rb') as read_file:\n",
    "    df = pickle.load(read_file)\n",
    "df = df[df['CENSUS BLOCK']!=8435001023]\n"
   ]
  },
  {
   "cell_type": "code",
   "execution_count": 3,
   "metadata": {},
   "outputs": [],
   "source": [
    "blocks_dict = {}\n",
    "for index,row in df.iterrows():\n",
    "    blocks_dict[row['CENSUS BLOCK']] =[row['block_lat'],row['block_lon']]"
   ]
  },
  {
   "cell_type": "code",
   "execution_count": 4,
   "metadata": {},
   "outputs": [],
   "source": [
    "from sklearn.cluster import KMeans\n",
    "from sklearn.preprocessing import StandardScaler"
   ]
  },
  {
   "cell_type": "code",
   "execution_count": 5,
   "metadata": {},
   "outputs": [
    {
     "name": "stderr",
     "output_type": "stream",
     "text": [
      "/anaconda3/lib/python3.7/site-packages/sklearn/preprocessing/data.py:625: DataConversionWarning: Data with input dtype int64, float64 were all converted to float64 by StandardScaler.\n",
      "  return self.partial_fit(X, y)\n",
      "/anaconda3/lib/python3.7/site-packages/sklearn/base.py:462: DataConversionWarning: Data with input dtype int64, float64 were all converted to float64 by StandardScaler.\n",
      "  return self.fit(X, **fit_params).transform(X)\n"
     ]
    }
   ],
   "source": [
    "X = df.drop(columns = ['CENSUS BLOCK', 'closest_el', 'daily_rides_closest_el', \n",
    "                       'block_lat', 'block_lon', 'best_shops_under_001'])\n",
    "X = StandardScaler().fit_transform(X)"
   ]
  },
  {
   "cell_type": "code",
   "execution_count": 7,
   "metadata": {},
   "outputs": [
    {
     "data": {
      "text/plain": [
       "KMeans(algorithm='auto', copy_x=True, init='k-means++', max_iter=300,\n",
       "    n_clusters=8, n_init=10, n_jobs=None, precompute_distances='auto',\n",
       "    random_state=None, tol=0.0001, verbose=0)"
      ]
     },
     "execution_count": 7,
     "metadata": {},
     "output_type": "execute_result"
    }
   ],
   "source": [
    "km = KMeans()\n",
    "km.fit(X)"
   ]
  },
  {
   "cell_type": "code",
   "execution_count": 8,
   "metadata": {},
   "outputs": [
    {
     "data": {
      "text/plain": [
       "defaultdict(int,\n",
       "            {4: 10962,\n",
       "             5: 661,\n",
       "             0: 21950,\n",
       "             1: 3536,\n",
       "             3: 1103,\n",
       "             6: 196,\n",
       "             2: 7882,\n",
       "             7: 1})"
      ]
     },
     "execution_count": 8,
     "metadata": {},
     "output_type": "execute_result"
    }
   ],
   "source": [
    "label_count = defaultdict(int)\n",
    "for x in km.labels_:\n",
    "    label_count[x] += 1\n",
    "label_count"
   ]
  },
  {
   "cell_type": "code",
   "execution_count": 9,
   "metadata": {},
   "outputs": [],
   "source": [
    "block_best_shops = {}\n",
    "blocks = []\n",
    "for index, value in df.iterrows():\n",
    "      block_best_shops[value['CENSUS BLOCK']] = value['best_shops_under_001']\n",
    "      blocks.append(value['CENSUS BLOCK'])\n"
   ]
  },
  {
   "cell_type": "code",
   "execution_count": 10,
   "metadata": {},
   "outputs": [],
   "source": [
    "label_best_shop_count = defaultdict(int)\n",
    "for block,label in zip(blocks,km.labels_):\n",
    "    label_best_shop_count[label] += block_best_shops[block]\n",
    "    "
   ]
  },
  {
   "cell_type": "code",
   "execution_count": 11,
   "metadata": {},
   "outputs": [
    {
     "data": {
      "text/plain": [
       "defaultdict(int, {4: 0, 5: 3, 0: 0, 1: 0, 3: 112, 6: 24, 2: 0, 7: 0})"
      ]
     },
     "execution_count": 11,
     "metadata": {},
     "output_type": "execute_result"
    }
   ],
   "source": [
    "label_best_shop_count"
   ]
  },
  {
   "cell_type": "code",
   "execution_count": 26,
   "metadata": {},
   "outputs": [],
   "source": [
    "labels_km = list(km.labels_)\n",
    "df['km_8_labels'] = labels_km"
   ]
  },
  {
   "cell_type": "code",
   "execution_count": 27,
   "metadata": {},
   "outputs": [],
   "source": [
    "df.to_csv('../../visualization/kmeans_map/df_with_lib_and_labels.csv')"
   ]
  },
  {
   "cell_type": "code",
   "execution_count": 28,
   "metadata": {},
   "outputs": [
    {
     "data": {
      "text/plain": [
       "array([[-1.83132298e-01, -1.93790682e-01, -1.49608019e-01,\n",
       "        -1.23051948e-01, -2.15939887e-01,  1.10190400e+00],\n",
       "       [-1.73966629e-01, -2.38801440e-01, -1.49608019e-01,\n",
       "         1.76321795e+00, -3.03235645e-01, -2.33343677e-02],\n",
       "       [-3.68468643e-02,  8.89303205e-01, -1.49608019e-01,\n",
       "        -5.06507663e-01,  1.76757515e+00, -2.89459492e-01],\n",
       "       [ 4.89737968e+00,  2.43799455e-01,  2.78130527e-02,\n",
       "        -6.28845377e-01,  3.21072016e-01, -3.46876846e-01],\n",
       "       [ 1.24220711e-02, -1.38037421e-01, -1.49608019e-01,\n",
       "        -4.30286792e-01, -1.64309169e-01, -4.66192327e-01],\n",
       "       [-8.04130338e-02,  9.02142989e+00,  6.38217877e+00,\n",
       "        -1.04383269e+00,  6.82718289e+00, -5.53469520e-01],\n",
       "       [-7.26831403e-02,  1.80801546e+00,  4.86963133e+00,\n",
       "        -6.46950005e-01,  5.46725268e-01, -3.19755647e-01],\n",
       "       [ 1.06481776e+02, -3.55366472e-01, -1.49608019e-01,\n",
       "        -1.74772479e-01, -5.18052261e-01,  1.56728833e-01]])"
      ]
     },
     "execution_count": 28,
     "metadata": {},
     "output_type": "execute_result"
    }
   ],
   "source": [
    "km.cluster_centers_"
   ]
  },
  {
   "cell_type": "code",
   "execution_count": 29,
   "metadata": {},
   "outputs": [
    {
     "data": {
      "text/plain": [
       "['TOTAL POPULATION',\n",
       " 'bus_within_001',\n",
       " 'cof_within_001',\n",
       " 'dist_to_closest_el',\n",
       " 'crime_count',\n",
       " 'dist_to_closest_library']"
      ]
     },
     "execution_count": 29,
     "metadata": {},
     "output_type": "execute_result"
    }
   ],
   "source": [
    "list(df.drop(columns = ['CENSUS BLOCK', 'closest_el', 'daily_rides_closest_el', \n",
    "                       'block_lat', 'block_lon', 'best_shops_under_001','km_8_labels']))"
   ]
  },
  {
   "cell_type": "code",
   "execution_count": 32,
   "metadata": {},
   "outputs": [
    {
     "data": {
      "image/png": "[encoded data removed]",
      "text/plain": [
       "<Figure size 432x288 with 1 Axes>"
      ]
     },
     "metadata": {
      "needs_background": "light"
     },
     "output_type": "display_data"
    }
   ],
   "source": [
    "inertia = []\n",
    "list_num_clusters = list(range(1,20))\n",
    "for num_clusters in list_num_clusters:\n",
    "    km = KMeans(n_clusters=num_clusters)\n",
    "    km.fit(X)\n",
    "    inertia.append(km.inertia_)\n",
    "    \n",
    "plt.plot(list_num_clusters,inertia)\n",
    "plt.scatter(list_num_clusters,inertia)\n",
    "plt.xlabel('Number of Clusters')\n",
    "plt.ylabel('Inertia');"
   ]
  },
  {
   "cell_type": "markdown",
   "metadata": {},
   "source": [
    "## PCA for viz"
   ]
  },
  {
   "cell_type": "code",
   "execution_count": 76,
   "metadata": {},
   "outputs": [],
   "source": [
    "import seaborn as sns"
   ]
  },
  {
   "cell_type": "code",
   "execution_count": 33,
   "metadata": {},
   "outputs": [],
   "source": [
    "from sklearn.decomposition import PCA"
   ]
  },
  {
   "cell_type": "code",
   "execution_count": 52,
   "metadata": {},
   "outputs": [],
   "source": [
    "pca = PCA(n_components = 2)\n",
    "pca_result = pca.fit_transform(X)"
   ]
  },
  {
   "cell_type": "code",
   "execution_count": 38,
   "metadata": {},
   "outputs": [],
   "source": [
    "pca_one = X[:,0]\n",
    "pca_two = X[:,1]"
   ]
  },
  {
   "cell_type": "code",
   "execution_count": 81,
   "metadata": {},
   "outputs": [
    {
     "data": {
      "text/plain": [
       "KMeans(algorithm='auto', copy_x=True, init='k-means++', max_iter=300,\n",
       "    n_clusters=8, n_init=10, n_jobs=None, precompute_distances='auto',\n",
       "    random_state=None, tol=0.0001, verbose=0)"
      ]
     },
     "execution_count": 81,
     "metadata": {},
     "output_type": "execute_result"
    }
   ],
   "source": [
    "km = KMeans(n_clusters=8)\n",
    "km.fit(X)"
   ]
  },
  {
   "cell_type": "code",
   "execution_count": 75,
   "metadata": {},
   "outputs": [
    {
     "data": {
      "text/plain": [
       "<matplotlib.collections.PathCollection at 0x1a22c3def0>"
      ]
     },
     "execution_count": 75,
     "metadata": {},
     "output_type": "execute_result"
    },
    {
     "data": {
      "image/png": "[encoded data removed]",
      "text/plain": [
       "<Figure size 432x288 with 1 Axes>"
      ]
     },
     "metadata": {
      "needs_background": "light"
     },
     "output_type": "display_data"
    }
   ],
   "source": [
    "\n",
    "plt.xlim(right=10)\n",
    "plt.ylim(top=10)\n",
    "plt.scatter(pca_one, pca_two, c=km.labels_, s=10, alpha=.5)"
   ]
  },
  {
   "cell_type": "code",
   "execution_count": 82,
   "metadata": {},
   "outputs": [
    {
     "data": {
      "text/plain": [
       "<matplotlib.axes._subplots.AxesSubplot at 0x1a233b0208>"
      ]
     },
     "execution_count": 82,
     "metadata": {},
     "output_type": "execute_result"
    },
    {
     "data": {
      "image/png": "[encoded data removed]",
      "text/plain": [
       "<Figure size 432x288 with 1 Axes>"
      ]
     },
     "metadata": {
      "needs_background": "light"
     },
     "output_type": "display_data"
    }
   ],
   "source": [
    "sns.scatterplot(x=pca_one,y=pca_two, hue=km.labels_)"
   ]
  },
  {
   "cell_type": "markdown",
   "metadata": {},
   "source": [
    "## Weighted KMeans"
   ]
  },
  {
   "cell_type": "code",
   "execution_count": 57,
   "metadata": {},
   "outputs": [
    {
     "data": {
      "text/plain": [
       "defaultdict(int, {1: 46156, 4: 131, 9: 4})"
      ]
     },
     "execution_count": 57,
     "metadata": {},
     "output_type": "execute_result"
    }
   ],
   "source": [
    "with open('../dataframes/df_with_libs.p','rb') as read_file:\n",
    "    df = pickle.load(read_file)\n",
    "bestshops = df['best_shops_under_001'].values\n",
    "bestshops += 1\n",
    "bestshops = bestshops **2\n",
    "\n",
    "best_count = defaultdict(int)\n",
    "for x in bestshops:\n",
    "    best_count[x] += 1\n",
    "best_count"
   ]
  },
  {
   "cell_type": "code",
   "execution_count": 59,
   "metadata": {},
   "outputs": [
    {
     "data": {
      "text/plain": [
       "KMeans(algorithm='auto', copy_x=True, init='k-means++', max_iter=300,\n",
       "    n_clusters=8, n_init=10, n_jobs=None, precompute_distances='auto',\n",
       "    random_state=None, tol=0.0001, verbose=0)"
      ]
     },
     "execution_count": 59,
     "metadata": {},
     "output_type": "execute_result"
    }
   ],
   "source": [
    "km.fit(X, sample_weight=bestshops)"
   ]
  },
  {
   "cell_type": "code",
   "execution_count": 60,
   "metadata": {},
   "outputs": [
    {
     "data": {
      "text/plain": [
       "defaultdict(int,\n",
       "            {4: 11171,\n",
       "             3: 659,\n",
       "             1: 22322,\n",
       "             5: 2892,\n",
       "             7: 1066,\n",
       "             2: 205,\n",
       "             0: 7975,\n",
       "             6: 1})"
      ]
     },
     "execution_count": 60,
     "metadata": {},
     "output_type": "execute_result"
    }
   ],
   "source": [
    "label_count = defaultdict(int)\n",
    "for x in km.labels_:\n",
    "    label_count[x] += 1\n",
    "label_count"
   ]
  },
  {
   "cell_type": "code",
   "execution_count": 61,
   "metadata": {},
   "outputs": [],
   "source": [
    "df['km_weight_labels'] = km.labels_"
   ]
  },
  {
   "cell_type": "markdown",
   "metadata": {},
   "source": [
    "## KMeans no SS"
   ]
  },
  {
   "cell_type": "code",
   "execution_count": 13,
   "metadata": {},
   "outputs": [
    {
     "name": "stderr",
     "output_type": "stream",
     "text": [
      "/anaconda3/lib/python3.7/site-packages/sklearn/preprocessing/data.py:625: DataConversionWarning: Data with input dtype int32, int64, float64 were all converted to float64 by StandardScaler.\n",
      "  return self.partial_fit(X, y)\n",
      "/anaconda3/lib/python3.7/site-packages/sklearn/base.py:462: DataConversionWarning: Data with input dtype int32, int64, float64 were all converted to float64 by StandardScaler.\n",
      "  return self.fit(X, **fit_params).transform(X)\n"
     ]
    },
    {
     "data": {
      "text/plain": [
       "KMeans(algorithm='auto', copy_x=True, init='k-means++', max_iter=300,\n",
       "    n_clusters=12, n_init=10, n_jobs=None, precompute_distances='auto',\n",
       "    random_state=None, tol=0.0001, verbose=0)"
      ]
     },
     "execution_count": 13,
     "metadata": {},
     "output_type": "execute_result"
    }
   ],
   "source": [
    "X = df.drop(columns = ['CENSUS BLOCK', 'closest_el', 'daily_rides_closest_el', \n",
    "                       'block_lat', 'block_lon', 'best_shops_under_001'])\n",
    "X =StandardScaler().fit_transform(X)\n",
    "km = KMeans(n_clusters=12)\n",
    "km.fit(X)"
   ]
  },
  {
   "cell_type": "code",
   "execution_count": 7,
   "metadata": {},
   "outputs": [
    {
     "data": {
      "text/plain": [
       "<matplotlib.legend.Legend at 0x1a1bb75358>"
      ]
     },
     "execution_count": 7,
     "metadata": {},
     "output_type": "execute_result"
    },
    {
     "data": {
      "image/png": "[encoded data removed]",
      "text/plain": [
       "<Figure size 432x288 with 1 Axes>"
      ]
     },
     "metadata": {
      "needs_background": "light"
     },
     "output_type": "display_data"
    }
   ],
   "source": [
    "X = df.drop(columns = ['CENSUS BLOCK', 'closest_el', 'daily_rides_closest_el', \n",
    "                       'block_lat', 'block_lon', 'best_shops_under_001'])\n",
    "pca = PCA(n_components = 2)\n",
    "pca_result = pca.fit_transform(X)\n",
    "pca_one = pca_result[:,0]\n",
    "pca_two = pca_result[:,1]\n",
    "\n",
    "df_km = df\n",
    "df_km['km_labs'] = km.labels_\n",
    "df_km['pca_one'] = pca_one\n",
    "df_km['pca_two'] = pca_two\n",
    "\n",
    "labels = np.unique(km.labels_)\n",
    "\n",
    "for kmlabel in np.unique(labels):\n",
    "    df_for_plot = df_km[df_km.km_labs == kmlabel]\n",
    "    df_pca_one = df_for_plot.pca_one\n",
    "    df_pca_two = df_for_plot.pca_two\n",
    "    bus = df_for_plot.cof_within_001\n",
    "    plt.scatter(df_pca_one, df_pca_two, s=5, label=kmlabel)\n",
    "plt.legend()"
   ]
  },
  {
   "cell_type": "markdown",
   "metadata": {},
   "source": [
    "## Save to file"
   ]
  },
  {
   "cell_type": "code",
   "execution_count": 63,
   "metadata": {},
   "outputs": [],
   "source": [
    "df.to_csv('data/kmeans_bestweighted_cluster8.csv')"
   ]
  },
  {
   "cell_type": "code",
   "execution_count": 64,
   "metadata": {},
   "outputs": [],
   "source": [
    "with open('data/kmeans_bestweighted_cl8_df.p','wb') as write_file:\n",
    "    pickle.dump(df, write_file)"
   ]
  },
  {
   "cell_type": "code",
   "execution_count": 65,
   "metadata": {},
   "outputs": [],
   "source": [
    "with open('data/kmeans_bestweighted_cl8_kmfit.p','wb') as write_file:\n",
    "    pickle.dump(km, write_file)"
   ]
  },
  {
   "cell_type": "code",
   "execution_count": null,
   "metadata": {},
   "outputs": [],
   "source": []
  },
  {
   "cell_type": "markdown",
   "metadata": {},
   "source": [
    "## Kmeans"
   ]
  },
  {
   "cell_type": "code",
   "execution_count": 15,
   "metadata": {},
   "outputs": [
    {
     "data": {
      "text/plain": [
       "KMeans(algorithm='auto', copy_x=True, init='k-means++', max_iter=300,\n",
       "    n_clusters=7, n_init=10, n_jobs=None, precompute_distances='auto',\n",
       "    random_state=None, tol=0.0001, verbose=0)"
      ]
     },
     "execution_count": 15,
     "metadata": {},
     "output_type": "execute_result"
    }
   ],
   "source": [
    "X = df.drop(columns = ['CENSUS BLOCK', 'closest_el', 'daily_rides_closest_el', \n",
    "                       'block_lat', 'block_lon', 'best_shops_under_001'])\n",
    "km = KMeans(n_clusters=7)\n",
    "km.fit(X)"
   ]
  },
  {
   "cell_type": "code",
   "execution_count": 21,
   "metadata": {},
   "outputs": [
    {
     "data": {
      "image/png": "[encoded data removed]",
      "text/plain": [
       "<Figure size 432x288 with 1 Axes>"
      ]
     },
     "metadata": {
      "needs_background": "light"
     },
     "output_type": "display_data"
    }
   ],
   "source": [
    "pca = PCA(n_components = 2)\n",
    "X =StandardScaler().fit_transform(X)\n",
    "pca_result = pca.fit_transform(X)\n",
    "pca_one = pca_result[:,0]\n",
    "pca_two = pca_result[:,1]\n",
    "\n",
    "df_km = df\n",
    "df_km['km_labs'] = km.labels_\n",
    "df_km['pca_one'] = pca_one\n",
    "df_km['pca_two'] = pca_two\n",
    "\n",
    "labels = np.unique(km.labels_)\n",
    "\n",
    "for kmlabel in np.unique(labels):\n",
    "    df_for_plot = df_km[df_km.km_labs == kmlabel]\n",
    "    df_pca_one = df_for_plot.pca_one\n",
    "    df_pca_two = df_for_plot.pca_two\n",
    "    bus = df_for_plot.cof_within_001\n",
    "    plt.scatter(df_pca_one, df_pca_two, s=5)\n",
    "plt.title('Kmeans - 7 Clusters')\n",
    "plt.xlabel('Principle Component 1')\n",
    "plt.ylabel('Principle Component 2')\n",
    "plt.savefig('kmeans_7clus.svg')"
   ]
  },
  {
   "cell_type": "code",
   "execution_count": null,
   "metadata": {},
   "outputs": [],
   "source": []
  }
 ],
 "metadata": {
  "kernelspec": {
   "display_name": "Python 3",
   "language": "python",
   "name": "python3"
  },
  "language_info": {
   "codemirror_mode": {
    "name": "ipython",
    "version": 3
   },
   "file_extension": ".py",
   "mimetype": "text/x-python",
   "name": "python",
   "nbconvert_exporter": "python",
   "pygments_lexer": "ipython3",
   "version": "3.7.2"
  },
  "toc": {
   "base_numbering": 1,
   "nav_menu": {},
   "number_sections": true,
   "sideBar": true,
   "skip_h1_title": false,
   "title_cell": "Table of Contents",
   "title_sidebar": "Contents",
   "toc_cell": false,
   "toc_position": {},
   "toc_section_display": true,
   "toc_window_display": true
  },
  "varInspector": {
   "cols": {
    "lenName": 16,
    "lenType": 16,
    "lenVar": 40
   },
   "kernels_config": {
    "python": {
     "delete_cmd_postfix": "",
     "delete_cmd_prefix": "del ",
     "library": "var_list.py",
     "varRefreshCmd": "print(var_dic_list())"
    },
    "r": {
     "delete_cmd_postfix": ") ",
     "delete_cmd_prefix": "rm(",
     "library": "var_list.r",
     "varRefreshCmd": "cat(var_dic_list()) "
    }
   },
   "types_to_exclude": [
    "module",
    "function",
    "builtin_function_or_method",
    "instance",
    "_Feature"
   ],
   "window_display": false
  }
 },
 "nbformat": 4,
 "nbformat_minor": 2
}
