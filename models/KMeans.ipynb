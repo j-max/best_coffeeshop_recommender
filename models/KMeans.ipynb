{
 "cells": [
  {
   "cell_type": "code",
   "execution_count": 70,
   "metadata": {},
   "outputs": [],
   "source": [
    "import pandas as pd\n",
    "import numpy as np\n",
    "import pickle\n",
    "import matplotlib.pyplot as plt"
   ]
  },
  {
   "cell_type": "code",
   "execution_count": 96,
   "metadata": {
    "scrolled": true
   },
   "outputs": [
    {
     "data": {
      "text/html": [
       "<div>\n",
       "<style scoped>\n",
       "    .dataframe tbody tr th:only-of-type {\n",
       "        vertical-align: middle;\n",
       "    }\n",
       "\n",
       "    .dataframe tbody tr th {\n",
       "        vertical-align: top;\n",
       "    }\n",
       "\n",
       "    .dataframe thead th {\n",
       "        text-align: right;\n",
       "    }\n",
       "</style>\n",
       "<table border=\"1\" class=\"dataframe\">\n",
       "  <thead>\n",
       "    <tr style=\"text-align: right;\">\n",
       "      <th></th>\n",
       "      <th>CENSUS BLOCK</th>\n",
       "      <th>TOTAL POPULATION</th>\n",
       "      <th>bus_within_001</th>\n",
       "      <th>cof_within_001</th>\n",
       "      <th>closest_el</th>\n",
       "      <th>dist_to_closest_el</th>\n",
       "      <th>daily_rides_closest_el</th>\n",
       "      <th>best_shops_under_001</th>\n",
       "      <th>block_lat</th>\n",
       "      <th>block_lon</th>\n",
       "      <th>crime_count</th>\n",
       "    </tr>\n",
       "  </thead>\n",
       "  <tbody>\n",
       "    <tr>\n",
       "      <th>0</th>\n",
       "      <td>101001000</td>\n",
       "      <td>128</td>\n",
       "      <td>2</td>\n",
       "      <td>0</td>\n",
       "      <td>Jarvis</td>\n",
       "      <td>0.009465</td>\n",
       "      <td>1347.408038</td>\n",
       "      <td>0</td>\n",
       "      <td>42.022564</td>\n",
       "      <td>-87.666316</td>\n",
       "      <td>0</td>\n",
       "    </tr>\n",
       "    <tr>\n",
       "      <th>1</th>\n",
       "      <td>101001001</td>\n",
       "      <td>71</td>\n",
       "      <td>0</td>\n",
       "      <td>0</td>\n",
       "      <td>Jarvis</td>\n",
       "      <td>0.007069</td>\n",
       "      <td>1347.408038</td>\n",
       "      <td>0</td>\n",
       "      <td>42.022424</td>\n",
       "      <td>-87.668571</td>\n",
       "      <td>0</td>\n",
       "    </tr>\n",
       "    <tr>\n",
       "      <th>2</th>\n",
       "      <td>101001002</td>\n",
       "      <td>45</td>\n",
       "      <td>0</td>\n",
       "      <td>0</td>\n",
       "      <td>Jarvis</td>\n",
       "      <td>0.006355</td>\n",
       "      <td>1347.408038</td>\n",
       "      <td>0</td>\n",
       "      <td>42.022033</td>\n",
       "      <td>-87.668894</td>\n",
       "      <td>3</td>\n",
       "    </tr>\n",
       "    <tr>\n",
       "      <th>3</th>\n",
       "      <td>101001003</td>\n",
       "      <td>335</td>\n",
       "      <td>0</td>\n",
       "      <td>0</td>\n",
       "      <td>Jarvis</td>\n",
       "      <td>0.005944</td>\n",
       "      <td>1347.408038</td>\n",
       "      <td>0</td>\n",
       "      <td>42.021412</td>\n",
       "      <td>-87.668684</td>\n",
       "      <td>0</td>\n",
       "    </tr>\n",
       "    <tr>\n",
       "      <th>4</th>\n",
       "      <td>101002000</td>\n",
       "      <td>152</td>\n",
       "      <td>0</td>\n",
       "      <td>0</td>\n",
       "      <td>Howard</td>\n",
       "      <td>0.005396</td>\n",
       "      <td>5357.830394</td>\n",
       "      <td>0</td>\n",
       "      <td>42.022552</td>\n",
       "      <td>-87.670984</td>\n",
       "      <td>3</td>\n",
       "    </tr>\n",
       "  </tbody>\n",
       "</table>\n",
       "</div>"
      ],
      "text/plain": [
       "   CENSUS BLOCK  TOTAL POPULATION  bus_within_001  cof_within_001 closest_el  \\\n",
       "0     101001000               128               2               0     Jarvis   \n",
       "1     101001001                71               0               0     Jarvis   \n",
       "2     101001002                45               0               0     Jarvis   \n",
       "3     101001003               335               0               0     Jarvis   \n",
       "4     101002000               152               0               0     Howard   \n",
       "\n",
       "   dist_to_closest_el  daily_rides_closest_el  best_shops_under_001  \\\n",
       "0            0.009465             1347.408038                     0   \n",
       "1            0.007069             1347.408038                     0   \n",
       "2            0.006355             1347.408038                     0   \n",
       "3            0.005944             1347.408038                     0   \n",
       "4            0.005396             5357.830394                     0   \n",
       "\n",
       "   block_lat  block_lon  crime_count  \n",
       "0  42.022564 -87.666316            0  \n",
       "1  42.022424 -87.668571            0  \n",
       "2  42.022033 -87.668894            3  \n",
       "3  42.021412 -87.668684            0  \n",
       "4  42.022552 -87.670984            3  "
      ]
     },
     "execution_count": 96,
     "metadata": {},
     "output_type": "execute_result"
    }
   ],
   "source": [
    "with open('dataframes/df_under001.p','rb') as read_file:\n",
    "    df = pickle.load(read_file)\n",
    "df.head()\n",
    "\n",
    "# df.rename(columns={'business_per_sqmi':'bus_within_001', 'coffee_per_sqmi':'cof_within_001',\n",
    "#                    '0_x':'closest_el', '1_x':'dist_to_closest_el', \n",
    "#                    2:'daily_rides_closest_el', '0_y':'best_shops_under_001',\n",
    "#                    0:'block_lat', '1_y':'block_lon'}, inplace=True)\n",
    "# df = df.drop(columns = ['CENSUS BLOCK', 'block_lat', 'block_lon', 'closest_el'])\n",
    "\n"
   ]
  },
  {
   "cell_type": "code",
   "execution_count": 82,
   "metadata": {},
   "outputs": [
    {
     "data": {
      "text/html": [
       "<div>\n",
       "<style scoped>\n",
       "    .dataframe tbody tr th:only-of-type {\n",
       "        vertical-align: middle;\n",
       "    }\n",
       "\n",
       "    .dataframe tbody tr th {\n",
       "        vertical-align: top;\n",
       "    }\n",
       "\n",
       "    .dataframe thead th {\n",
       "        text-align: right;\n",
       "    }\n",
       "</style>\n",
       "<table border=\"1\" class=\"dataframe\">\n",
       "  <thead>\n",
       "    <tr style=\"text-align: right;\">\n",
       "      <th></th>\n",
       "      <th>TOTAL POPULATION</th>\n",
       "      <th>bus_within_001</th>\n",
       "      <th>cof_within_001</th>\n",
       "      <th>dist_to_closest_el</th>\n",
       "      <th>daily_rides_closest_el</th>\n",
       "      <th>best_shops_under_001</th>\n",
       "      <th>crime_count</th>\n",
       "    </tr>\n",
       "  </thead>\n",
       "  <tbody>\n",
       "    <tr>\n",
       "      <th>0</th>\n",
       "      <td>128</td>\n",
       "      <td>2</td>\n",
       "      <td>0</td>\n",
       "      <td>0.009465</td>\n",
       "      <td>1347.408038</td>\n",
       "      <td>0</td>\n",
       "      <td>0</td>\n",
       "    </tr>\n",
       "    <tr>\n",
       "      <th>1</th>\n",
       "      <td>71</td>\n",
       "      <td>0</td>\n",
       "      <td>0</td>\n",
       "      <td>0.007069</td>\n",
       "      <td>1347.408038</td>\n",
       "      <td>0</td>\n",
       "      <td>0</td>\n",
       "    </tr>\n",
       "    <tr>\n",
       "      <th>2</th>\n",
       "      <td>45</td>\n",
       "      <td>0</td>\n",
       "      <td>0</td>\n",
       "      <td>0.006355</td>\n",
       "      <td>1347.408038</td>\n",
       "      <td>0</td>\n",
       "      <td>3</td>\n",
       "    </tr>\n",
       "    <tr>\n",
       "      <th>3</th>\n",
       "      <td>335</td>\n",
       "      <td>0</td>\n",
       "      <td>0</td>\n",
       "      <td>0.005944</td>\n",
       "      <td>1347.408038</td>\n",
       "      <td>0</td>\n",
       "      <td>0</td>\n",
       "    </tr>\n",
       "    <tr>\n",
       "      <th>4</th>\n",
       "      <td>152</td>\n",
       "      <td>0</td>\n",
       "      <td>0</td>\n",
       "      <td>0.005396</td>\n",
       "      <td>5357.830394</td>\n",
       "      <td>0</td>\n",
       "      <td>3</td>\n",
       "    </tr>\n",
       "  </tbody>\n",
       "</table>\n",
       "</div>"
      ],
      "text/plain": [
       "   TOTAL POPULATION  bus_within_001  cof_within_001  dist_to_closest_el  \\\n",
       "0               128               2               0            0.009465   \n",
       "1                71               0               0            0.007069   \n",
       "2                45               0               0            0.006355   \n",
       "3               335               0               0            0.005944   \n",
       "4               152               0               0            0.005396   \n",
       "\n",
       "   daily_rides_closest_el  best_shops_under_001  crime_count  \n",
       "0             1347.408038                     0            0  \n",
       "1             1347.408038                     0            0  \n",
       "2             1347.408038                     0            3  \n",
       "3             1347.408038                     0            0  \n",
       "4             5357.830394                     0            3  "
      ]
     },
     "execution_count": 82,
     "metadata": {},
     "output_type": "execute_result"
    }
   ],
   "source": [
    "df.head()"
   ]
  },
  {
   "cell_type": "code",
   "execution_count": 83,
   "metadata": {},
   "outputs": [],
   "source": [
    "from sklearn.cluster import KMeans\n",
    "from sklearn.preprocessing import StandardScaler"
   ]
  },
  {
   "cell_type": "code",
   "execution_count": 97,
   "metadata": {},
   "outputs": [
    {
     "name": "stderr",
     "output_type": "stream",
     "text": [
      "/anaconda3/lib/python3.7/site-packages/sklearn/preprocessing/data.py:625: DataConversionWarning: Data with input dtype int64, float64 were all converted to float64 by StandardScaler.\n",
      "  return self.partial_fit(X, y)\n",
      "/anaconda3/lib/python3.7/site-packages/sklearn/base.py:462: DataConversionWarning: Data with input dtype int64, float64 were all converted to float64 by StandardScaler.\n",
      "  return self.fit(X, **fit_params).transform(X)\n"
     ]
    },
    {
     "data": {
      "text/plain": [
       "array([[ 4.56397972,  5.52518367,  2.66136088,  1.01247807,  2.53420713,\n",
       "        13.3217569 ],\n",
       "       [ 5.20791112,  5.58246854,  2.59203603,  0.73140762,  2.56012181,\n",
       "        13.50686135],\n",
       "       [ 5.42434291,  5.48136222,  2.67939864,  0.87373312,  1.84818221,\n",
       "        13.03477118],\n",
       "       ...,\n",
       "       [ 6.26064303,  5.87193369,  0.48305277,  1.93438068,  2.97059297,\n",
       "        13.47969177],\n",
       "       [ 6.32855819,  5.99563544,  0.52296827,  2.03322982,  3.26574159,\n",
       "        13.75562053],\n",
       "       [10.30890812,  4.55617216,  8.37731598,  8.60013847,  8.89150008,\n",
       "        12.00233189]])"
      ]
     },
     "execution_count": 97,
     "metadata": {},
     "output_type": "execute_result"
    }
   ],
   "source": [
    "df_no_dailyrides = df.drop(columns = ['daily_rides_closest_el', 'best_shops_under_001',\n",
    "                                     'CENSUS BLOCK', 'block_lat', 'block_lon', 'closest_el'], axis=1)\n",
    "X = StandardScaler().fit_transform(df_no_dailyrides)\n",
    "km = KMeans(n_clusters=6)\n",
    "km.fit_transform(X)"
   ]
  },
  {
   "cell_type": "code",
   "execution_count": 92,
   "metadata": {},
   "outputs": [
    {
     "data": {
      "text/plain": [
       "array([[    0, 30597],\n",
       "       [    1,  9890],\n",
       "       [    2,  1103],\n",
       "       [    3,   601],\n",
       "       [    4,   197],\n",
       "       [    5,  3903]])"
      ]
     },
     "execution_count": 92,
     "metadata": {},
     "output_type": "execute_result"
    }
   ],
   "source": [
    "y = np.bincount(km.labels_)\n",
    "ii = np.nonzero(y)[0]\n",
    "np.vstack((ii,y[ii])).T\n"
   ]
  },
  {
   "cell_type": "code",
   "execution_count": 94,
   "metadata": {},
   "outputs": [
    {
     "name": "stdout",
     "output_type": "stream",
     "text": [
      "['TOTAL POPULATION', 'bus_within_001', 'cof_within_001', 'dist_to_closest_el', 'crime_count']\n"
     ]
    },
    {
     "data": {
      "text/plain": [
       "array([[-0.03960005, -0.16037951, -0.14960802, -0.39982267, -0.18607113],\n",
       "       [-0.17946453, -0.23863267, -0.14960802,  1.56539755, -0.30071708],\n",
       "       [-0.07217186,  1.80691134,  4.87039033, -0.64641681,  0.54112715],\n",
       "       [ 5.29430646,  0.27321079,  0.04523043, -0.63021918,  0.3141092 ],\n",
       "       [-0.06690695,  8.95353163,  6.30393871, -1.04432146,  6.83629114],\n",
       "       [-0.02631259,  0.85704451, -0.14960802, -0.49932151,  1.67382612]])"
      ]
     },
     "execution_count": 94,
     "metadata": {},
     "output_type": "execute_result"
    }
   ],
   "source": [
    "print(list(df_no_dailyrides))\n",
    "km.cluster_centers_"
   ]
  },
  {
   "cell_type": "code",
   "execution_count": 95,
   "metadata": {},
   "outputs": [
    {
     "data": {
      "text/plain": [
       "102097.3156156695"
      ]
     },
     "execution_count": 95,
     "metadata": {},
     "output_type": "execute_result"
    }
   ],
   "source": [
    "km.inertia_"
   ]
  },
  {
   "cell_type": "code",
   "execution_count": 72,
   "metadata": {},
   "outputs": [
    {
     "data": {
      "image/png": "[encoded data removed]",
      "text/plain": [
       "<Figure size 432x288 with 1 Axes>"
      ]
     },
     "metadata": {
      "needs_background": "light"
     },
     "output_type": "display_data"
    }
   ],
   "source": [
    "inertia = []\n",
    "list_num_clusters = list(range(1,20))\n",
    "for num_clusters in list_num_clusters:\n",
    "    km = KMeans(n_clusters=num_clusters)\n",
    "    km.fit(X)\n",
    "    inertia.append(km.inertia_)\n",
    "    \n",
    "plt.plot(list_num_clusters,inertia)\n",
    "plt.scatter(list_num_clusters,inertia)\n",
    "plt.xlabel('Number of Clusters')\n",
    "plt.ylabel('Inertia');"
   ]
  },
  {
   "cell_type": "code",
   "execution_count": 73,
   "metadata": {},
   "outputs": [],
   "source": [
    "from sklearn.metrics import silhouette_score"
   ]
  },
  {
   "cell_type": "code",
   "execution_count": 74,
   "metadata": {},
   "outputs": [
    {
     "data": {
      "text/plain": [
       "0.31352572227085945"
      ]
     },
     "execution_count": 74,
     "metadata": {},
     "output_type": "execute_result"
    }
   ],
   "source": [
    "silhouette_score(X,km.labels_)"
   ]
  },
  {
   "cell_type": "code",
   "execution_count": 79,
   "metadata": {},
   "outputs": [
    {
     "name": "stdout",
     "output_type": "stream",
     "text": [
      "0.7497537956708267\n",
      "0.4215350072558612\n",
      "0.4456229593044397\n",
      "0.4493716272541559\n",
      "0.4647153158250215\n",
      "0.37825172000464835\n",
      "0.35394327843188256\n",
      "0.37218345881854725\n",
      "0.3747986204920577\n",
      "0.3795341955727211\n",
      "0.33085882824540486\n",
      "0.3344898036393303\n",
      "0.3355162589665403\n",
      "0.33851676796275615\n",
      "0.32238107526771465\n",
      "0.32599044676749395\n",
      "0.32704236046842433\n",
      "0.3148196243833725\n"
     ]
    },
    {
     "data": {
      "text/plain": [
       "Text(0, 0.5, 'Silhouette')"
      ]
     },
     "execution_count": 79,
     "metadata": {},
     "output_type": "execute_result"
    },
    {
     "data": {
      "image/png": "[encoded data removed]",
      "text/plain": [
       "<Figure size 432x288 with 1 Axes>"
      ]
     },
     "metadata": {
      "needs_background": "light"
     },
     "output_type": "display_data"
    }
   ],
   "source": [
    "silhouette = []\n",
    "list_num_clusters = list(range(2,20))\n",
    "for num_clusters in list_num_clusters:\n",
    "    km = KMeans(n_clusters=num_clusters)\n",
    "    km.fit(X)\n",
    "    silhouette.append(silhouette_score(X,km.labels_))\n",
    "    print(silhouette_score(X,km.labels_))\n",
    "    \n",
    "plt.plot(list_num_clusters,silhouette)\n",
    "plt.scatter(list_num_clusters,silhouette)\n",
    "plt.xlabel('Number of Clusters')\n",
    "plt.ylabel('Silhouette')"
   ]
  },
  {
   "cell_type": "code",
   "execution_count": 98,
   "metadata": {},
   "outputs": [],
   "source": [
    "labels_6klust = list(km.labels_)"
   ]
  },
  {
   "cell_type": "code",
   "execution_count": 103,
   "metadata": {},
   "outputs": [],
   "source": [
    "df['labels'] = labels_6klust"
   ]
  },
  {
   "cell_type": "code",
   "execution_count": 105,
   "metadata": {},
   "outputs": [],
   "source": [
    "df.to_csv('../visualization/kmeans_map/df_with_labels.csv')"
   ]
  },
  {
   "cell_type": "code",
   "execution_count": 106,
   "metadata": {},
   "outputs": [
    {
     "data": {
      "text/plain": [
       "3    30591\n",
       "2     9888\n",
       "4     3898\n",
       "1     1103\n",
       "0      614\n",
       "5      197\n",
       "Name: labels, dtype: int64"
      ]
     },
     "execution_count": 106,
     "metadata": {},
     "output_type": "execute_result"
    }
   ],
   "source": [
    "df['labels'].value_counts()"
   ]
  },
  {
   "cell_type": "code",
   "execution_count": null,
   "metadata": {},
   "outputs": [],
   "source": []
  }
 ],
 "metadata": {
  "kernelspec": {
   "display_name": "Python 3",
   "language": "python",
   "name": "python3"
  },
  "language_info": {
   "codemirror_mode": {
    "name": "ipython",
    "version": 3
   },
   "file_extension": ".py",
   "mimetype": "text/x-python",
   "name": "python",
   "nbconvert_exporter": "python",
   "pygments_lexer": "ipython3",
   "version": "3.7.2"
  }
 },
 "nbformat": 4,
 "nbformat_minor": 2
}
