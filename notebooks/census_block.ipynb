{
 "cells": [
  {
   "cell_type": "code",
   "execution_count": 53,
   "metadata": {},
   "outputs": [],
   "source": [
    "import pandas as pd\n",
    "import pickle\n",
    "import re\n",
    "from collections import defaultdict"
   ]
  },
  {
   "cell_type": "code",
   "execution_count": 131,
   "metadata": {},
   "outputs": [
    {
     "data": {
      "text/plain": [
       "(46357, 8)"
      ]
     },
     "execution_count": 131,
     "metadata": {},
     "output_type": "execute_result"
    }
   ],
   "source": [
    "census_blocks_df = pd.read_csv('../data/block_shapes/CensusBlockTIGER2010.csv')\n",
    "\n",
    "census_blocks_df.shape\n",
    "\n"
   ]
  },
  {
   "cell_type": "code",
   "execution_count": 128,
   "metadata": {},
   "outputs": [
    {
     "data": {
      "text/plain": [
       "'MULTIPOLYGON (((-87.6290679994106 41.769086000071525, -87.6290529997898 41.7688739999653, -87.62900799929758 41.76726800005111, -87.62949800027731 41.76725900029384, -87.62982000079478 41.76725400012672, -87.62985200001118 41.76839999946078, -87.62986200062038 41.7688819996305, -87.62985900013145 41.76908200019735, -87.62969199933941 41.76908500030279, -87.6290679994106 41.769086000071525)))'"
      ]
     },
     "execution_count": 128,
     "metadata": {},
     "output_type": "execute_result"
    }
   ],
   "source": [
    "census_blocks_df[census_blocks.NAME10=='Block 2010'].the_geom[0]\n"
   ]
  },
  {
   "cell_type": "code",
   "execution_count": 115,
   "metadata": {},
   "outputs": [
    {
     "data": {
      "text/plain": [
       "46357"
      ]
     },
     "execution_count": 115,
     "metadata": {},
     "output_type": "execute_result"
    }
   ],
   "source": [
    "(census_blocks_df)\n",
    "# census_blocks_df.shape\n",
    "census_blocks.TRACT_BLOC.count()\n"
   ]
  },
  {
   "cell_type": "code",
   "execution_count": 18,
   "metadata": {},
   "outputs": [],
   "source": [
    "block_dict = {}\n",
    "for index, row in census_blocks_df.iterrows():\n",
    "    block_coord = row['the_geom'].split(\" \")\n",
    "    lat_pat = re.compile('[^-\\d][\\d]+[.][\\d]+')\n",
    "    lats = lat_pat.findall(str(block_coord))\n",
    "    long_pat = re.compile('[-][\\d]+[.][\\d]+')\n",
    "    longs = long_pat.findall(str(block_coord))\n",
    "    float_lats = [float(x[1:]) for x in lats]\n",
    "    avg_lat = sum(float_lats)/len(float_lats)\n",
    "    float_longs = [float(x) for x in longs]\n",
    "    avg_long = sum(float_longs)/len(float_longs)\n",
    "\n",
    "    block_dict[row['NAME10']] = [avg_lat, avg_long]"
   ]
  },
  {
   "cell_type": "code",
   "execution_count": 99,
   "metadata": {},
   "outputs": [
    {
     "data": {
      "text/plain": [
       "651"
      ]
     },
     "execution_count": 99,
     "metadata": {},
     "output_type": "execute_result"
    }
   ],
   "source": [
    "len(block_dict)\n",
    "\n"
   ]
  },
  {
   "cell_type": "markdown",
   "metadata": {},
   "source": [
    "## Coffee Shops\n"
   ]
  },
  {
   "cell_type": "code",
   "execution_count": 111,
   "metadata": {},
   "outputs": [],
   "source": [
    "import math"
   ]
  },
  {
   "cell_type": "code",
   "execution_count": 76,
   "metadata": {},
   "outputs": [],
   "source": [
    "with open('../data/yelp/yelp_coffee_shop_dict.pk', 'rb') as read_file:\n",
    "    coffee_shops = pickle.load(read_file)"
   ]
  },
  {
   "cell_type": "code",
   "execution_count": 77,
   "metadata": {},
   "outputs": [],
   "source": [
    "block_ex = block_dict['Block 4007']\n",
    "shop_ex = coffee_shops['f5p7scO1Q9UdaGbYe9bjFg']"
   ]
  },
  {
   "cell_type": "code",
   "execution_count": 78,
   "metadata": {},
   "outputs": [],
   "source": [
    "block_coffee_dict = defaultdict(int)\n",
    "for key_b, value_b in block_dict.items():\n",
    "    for key_c, value_c in coffee_shops.items():\n",
    "        lat_block = value_b[0]\n",
    "        lon_block = value_b[1]\n",
    "        lat_shop = value_c[2]\n",
    "        lon_shop = value_c[3]\n",
    "        dist = math.sqrt((lat_block -lat_shop)**2 + (lon_block - lon_shop)**2)\n",
    "        if dist < .035:\n",
    "            block_coffee_dict[key_b] += 1\n"
   ]
  },
  {
   "cell_type": "code",
   "execution_count": 98,
   "metadata": {},
   "outputs": [
    {
     "data": {
      "text/plain": [
       "514"
      ]
     },
     "execution_count": 98,
     "metadata": {},
     "output_type": "execute_result"
    }
   ],
   "source": [
    "#Here are the coffeeshops within a 2 mile radius of each block\n",
    "len(block_coffee_dict)\n"
   ]
  },
  {
   "cell_type": "code",
   "execution_count": 51,
   "metadata": {},
   "outputs": [],
   "source": [
    "dist = math.sqrt((41.963673-41.964346)**2 + (-87.786847 - -87.751445)**2)"
   ]
  },
  {
   "cell_type": "code",
   "execution_count": 52,
   "metadata": {},
   "outputs": [
    {
     "data": {
      "text/plain": [
       "0.03540839636300031"
      ]
     },
     "execution_count": 52,
     "metadata": {},
     "output_type": "execute_result"
    }
   ],
   "source": [
    "dist"
   ]
  },
  {
   "cell_type": "markdown",
   "metadata": {},
   "source": [
    "lat_long distance of .035 is about 2 miles"
   ]
  },
  {
   "cell_type": "markdown",
   "metadata": {},
   "source": [
    "## Businesses"
   ]
  },
  {
   "cell_type": "code",
   "execution_count": 59,
   "metadata": {},
   "outputs": [],
   "source": [
    "df_businesses = pd.read_csv('../data/Business_Licenses_-_Current_Active.csv')\n",
    "\n",
    "\n"
   ]
  },
  {
   "cell_type": "code",
   "execution_count": 129,
   "metadata": {},
   "outputs": [
    {
     "data": {
      "text/plain": [
       "(61799, 34)"
      ]
     },
     "execution_count": 129,
     "metadata": {},
     "output_type": "execute_result"
    }
   ],
   "source": [
    "df_businesses.shape\n",
    "\n"
   ]
  },
  {
   "cell_type": "code",
   "execution_count": 69,
   "metadata": {},
   "outputs": [],
   "source": [
    "business_dict = {}\n",
    "for i,row in df_businesses.iterrows():\n",
    "    business_dict[row['LICENSE ID']] = [row.LATITUDE, row.LONGITUDE]"
   ]
  },
  {
   "cell_type": "code",
   "execution_count": 132,
   "metadata": {},
   "outputs": [
    {
     "data": {
      "text/plain": [
       "61799"
      ]
     },
     "execution_count": 132,
     "metadata": {},
     "output_type": "execute_result"
    }
   ],
   "source": [
    "len(business_dict)"
   ]
  },
  {
   "cell_type": "code",
   "execution_count": 80,
   "metadata": {},
   "outputs": [],
   "source": [
    "block_bus_dict = defaultdict(int)\n",
    "for key_b, value_b in block_dict.items():\n",
    "    for key_bus, value_bus in business_dict.items():\n",
    "        lat_block = value_b[0]\n",
    "        lon_block = value_b[1]\n",
    "        lat_bus = value_bus[0]\n",
    "        lon_bus = value_bus[1]\n",
    "        dist = math.sqrt((lat_block -lat_bus)**2 + (lon_block - lon_bus)**2)\n",
    "        if dist < .035:\n",
    "            block_bus_dict[key_b] += 1"
   ]
  },
  {
   "cell_type": "code",
   "execution_count": 97,
   "metadata": {},
   "outputs": [
    {
     "data": {
      "text/plain": [
       "651"
      ]
     },
     "execution_count": 97,
     "metadata": {},
     "output_type": "execute_result"
    }
   ],
   "source": [
    "len(block_bus_dict)\n",
    "\n",
    "\n"
   ]
  },
  {
   "cell_type": "markdown",
   "metadata": {},
   "source": [
    "## Merge coffee shop count and business count"
   ]
  },
  {
   "cell_type": "code",
   "execution_count": 83,
   "metadata": {},
   "outputs": [],
   "source": [
    "block_bus_df = pd.DataFrame.from_dict(block_bus_dict, orient='index')"
   ]
  },
  {
   "cell_type": "code",
   "execution_count": 89,
   "metadata": {},
   "outputs": [],
   "source": [
    "block_bus_df.rename(columns = {0:'business_count'}, inplace=True)"
   ]
  },
  {
   "cell_type": "code",
   "execution_count": 92,
   "metadata": {},
   "outputs": [],
   "source": [
    "block_coffee_df = pd.DataFrame.from_dict(block_coffee_dict, orient='index')\n",
    "block_coffee_df.rename(columns = {0:'coffeeshop_count'}, inplace=True)"
   ]
  },
  {
   "cell_type": "code",
   "execution_count": 94,
   "metadata": {},
   "outputs": [],
   "source": [
    "df_block_bus = pd.merge(block_coffee_df, block_bus_df, left_index=True, right_index=True)\n",
    "\n"
   ]
  },
  {
   "cell_type": "code",
   "execution_count": 130,
   "metadata": {},
   "outputs": [
    {
     "data": {
      "text/html": [
       "<div>\n",
       "<style scoped>\n",
       "    .dataframe tbody tr th:only-of-type {\n",
       "        vertical-align: middle;\n",
       "    }\n",
       "\n",
       "    .dataframe tbody tr th {\n",
       "        vertical-align: top;\n",
       "    }\n",
       "\n",
       "    .dataframe thead th {\n",
       "        text-align: right;\n",
       "    }\n",
       "</style>\n",
       "<table border=\"1\" class=\"dataframe\">\n",
       "  <thead>\n",
       "    <tr style=\"text-align: right;\">\n",
       "      <th></th>\n",
       "      <th>coffeeshop_count</th>\n",
       "      <th>business_count</th>\n",
       "    </tr>\n",
       "  </thead>\n",
       "  <tbody>\n",
       "    <tr>\n",
       "      <th>Block 2010</th>\n",
       "      <td>21</td>\n",
       "      <td>2334</td>\n",
       "    </tr>\n",
       "    <tr>\n",
       "      <th>Block 3007</th>\n",
       "      <td>5</td>\n",
       "      <td>1679</td>\n",
       "    </tr>\n",
       "    <tr>\n",
       "      <th>Block 3013</th>\n",
       "      <td>113</td>\n",
       "      <td>5602</td>\n",
       "    </tr>\n",
       "    <tr>\n",
       "      <th>Block 4019</th>\n",
       "      <td>6</td>\n",
       "      <td>861</td>\n",
       "    </tr>\n",
       "    <tr>\n",
       "      <th>Block 4016</th>\n",
       "      <td>27</td>\n",
       "      <td>2671</td>\n",
       "    </tr>\n",
       "    <tr>\n",
       "      <th>Block 4000</th>\n",
       "      <td>14</td>\n",
       "      <td>2058</td>\n",
       "    </tr>\n",
       "    <tr>\n",
       "      <th>Block 2003</th>\n",
       "      <td>140</td>\n",
       "      <td>5647</td>\n",
       "    </tr>\n",
       "    <tr>\n",
       "      <th>Block 2002</th>\n",
       "      <td>24</td>\n",
       "      <td>2633</td>\n",
       "    </tr>\n",
       "    <tr>\n",
       "      <th>Block 3019</th>\n",
       "      <td>7</td>\n",
       "      <td>1611</td>\n",
       "    </tr>\n",
       "    <tr>\n",
       "      <th>Block 3005</th>\n",
       "      <td>91</td>\n",
       "      <td>5297</td>\n",
       "    </tr>\n",
       "    <tr>\n",
       "      <th>Block 3021</th>\n",
       "      <td>6</td>\n",
       "      <td>1577</td>\n",
       "    </tr>\n",
       "    <tr>\n",
       "      <th>Block 1034</th>\n",
       "      <td>5</td>\n",
       "      <td>2923</td>\n",
       "    </tr>\n",
       "    <tr>\n",
       "      <th>Block 2042</th>\n",
       "      <td>3</td>\n",
       "      <td>1637</td>\n",
       "    </tr>\n",
       "    <tr>\n",
       "      <th>Block 1020</th>\n",
       "      <td>19</td>\n",
       "      <td>1981</td>\n",
       "    </tr>\n",
       "    <tr>\n",
       "      <th>Block 1021</th>\n",
       "      <td>27</td>\n",
       "      <td>1694</td>\n",
       "    </tr>\n",
       "    <tr>\n",
       "      <th>Block 1049</th>\n",
       "      <td>11</td>\n",
       "      <td>1459</td>\n",
       "    </tr>\n",
       "    <tr>\n",
       "      <th>Block 4007</th>\n",
       "      <td>19</td>\n",
       "      <td>2610</td>\n",
       "    </tr>\n",
       "    <tr>\n",
       "      <th>Block 4011</th>\n",
       "      <td>7</td>\n",
       "      <td>571</td>\n",
       "    </tr>\n",
       "    <tr>\n",
       "      <th>Block 3008</th>\n",
       "      <td>8</td>\n",
       "      <td>2903</td>\n",
       "    </tr>\n",
       "    <tr>\n",
       "      <th>Block 1022</th>\n",
       "      <td>63</td>\n",
       "      <td>5419</td>\n",
       "    </tr>\n",
       "    <tr>\n",
       "      <th>Block 1012</th>\n",
       "      <td>104</td>\n",
       "      <td>5507</td>\n",
       "    </tr>\n",
       "    <tr>\n",
       "      <th>Block 4013</th>\n",
       "      <td>30</td>\n",
       "      <td>4205</td>\n",
       "    </tr>\n",
       "    <tr>\n",
       "      <th>Block 3010</th>\n",
       "      <td>13</td>\n",
       "      <td>2184</td>\n",
       "    </tr>\n",
       "    <tr>\n",
       "      <th>Block 1001</th>\n",
       "      <td>60</td>\n",
       "      <td>4191</td>\n",
       "    </tr>\n",
       "    <tr>\n",
       "      <th>Block 1032</th>\n",
       "      <td>10</td>\n",
       "      <td>1261</td>\n",
       "    </tr>\n",
       "    <tr>\n",
       "      <th>Block 1017</th>\n",
       "      <td>163</td>\n",
       "      <td>7019</td>\n",
       "    </tr>\n",
       "    <tr>\n",
       "      <th>Block 2019</th>\n",
       "      <td>51</td>\n",
       "      <td>4863</td>\n",
       "    </tr>\n",
       "    <tr>\n",
       "      <th>Block 6010</th>\n",
       "      <td>16</td>\n",
       "      <td>3675</td>\n",
       "    </tr>\n",
       "    <tr>\n",
       "      <th>Block 1002</th>\n",
       "      <td>348</td>\n",
       "      <td>14991</td>\n",
       "    </tr>\n",
       "    <tr>\n",
       "      <th>Block 3025</th>\n",
       "      <td>27</td>\n",
       "      <td>1236</td>\n",
       "    </tr>\n",
       "    <tr>\n",
       "      <th>...</th>\n",
       "      <td>...</td>\n",
       "      <td>...</td>\n",
       "    </tr>\n",
       "    <tr>\n",
       "      <th>Block 4088</th>\n",
       "      <td>77</td>\n",
       "      <td>5125</td>\n",
       "    </tr>\n",
       "    <tr>\n",
       "      <th>Block 4099</th>\n",
       "      <td>48</td>\n",
       "      <td>4091</td>\n",
       "    </tr>\n",
       "    <tr>\n",
       "      <th>Block 4101</th>\n",
       "      <td>55</td>\n",
       "      <td>4365</td>\n",
       "    </tr>\n",
       "    <tr>\n",
       "      <th>Block 3059</th>\n",
       "      <td>2</td>\n",
       "      <td>1033</td>\n",
       "    </tr>\n",
       "    <tr>\n",
       "      <th>Block 4092</th>\n",
       "      <td>75</td>\n",
       "      <td>5004</td>\n",
       "    </tr>\n",
       "    <tr>\n",
       "      <th>Block 1108</th>\n",
       "      <td>238</td>\n",
       "      <td>10698</td>\n",
       "    </tr>\n",
       "    <tr>\n",
       "      <th>Block 5050</th>\n",
       "      <td>2</td>\n",
       "      <td>776</td>\n",
       "    </tr>\n",
       "    <tr>\n",
       "      <th>Block 5049</th>\n",
       "      <td>3</td>\n",
       "      <td>777</td>\n",
       "    </tr>\n",
       "    <tr>\n",
       "      <th>Block 3057</th>\n",
       "      <td>38</td>\n",
       "      <td>2877</td>\n",
       "    </tr>\n",
       "    <tr>\n",
       "      <th>Block 4091</th>\n",
       "      <td>87</td>\n",
       "      <td>5362</td>\n",
       "    </tr>\n",
       "    <tr>\n",
       "      <th>Block 4077</th>\n",
       "      <td>84</td>\n",
       "      <td>4149</td>\n",
       "    </tr>\n",
       "    <tr>\n",
       "      <th>Block 4080</th>\n",
       "      <td>132</td>\n",
       "      <td>5779</td>\n",
       "    </tr>\n",
       "    <tr>\n",
       "      <th>Block 5051</th>\n",
       "      <td>2</td>\n",
       "      <td>772</td>\n",
       "    </tr>\n",
       "    <tr>\n",
       "      <th>Block 6037</th>\n",
       "      <td>16</td>\n",
       "      <td>3264</td>\n",
       "    </tr>\n",
       "    <tr>\n",
       "      <th>Block 1104</th>\n",
       "      <td>335</td>\n",
       "      <td>14136</td>\n",
       "    </tr>\n",
       "    <tr>\n",
       "      <th>Block 4100</th>\n",
       "      <td>41</td>\n",
       "      <td>3880</td>\n",
       "    </tr>\n",
       "    <tr>\n",
       "      <th>Block 4095</th>\n",
       "      <td>63</td>\n",
       "      <td>4695</td>\n",
       "    </tr>\n",
       "    <tr>\n",
       "      <th>Block 5044</th>\n",
       "      <td>3</td>\n",
       "      <td>792</td>\n",
       "    </tr>\n",
       "    <tr>\n",
       "      <th>Block 4090</th>\n",
       "      <td>89</td>\n",
       "      <td>5425</td>\n",
       "    </tr>\n",
       "    <tr>\n",
       "      <th>Block 2200</th>\n",
       "      <td>2</td>\n",
       "      <td>547</td>\n",
       "    </tr>\n",
       "    <tr>\n",
       "      <th>Block 2199</th>\n",
       "      <td>2</td>\n",
       "      <td>550</td>\n",
       "    </tr>\n",
       "    <tr>\n",
       "      <th>Block 4103</th>\n",
       "      <td>65</td>\n",
       "      <td>4717</td>\n",
       "    </tr>\n",
       "    <tr>\n",
       "      <th>Block 4094</th>\n",
       "      <td>65</td>\n",
       "      <td>4779</td>\n",
       "    </tr>\n",
       "    <tr>\n",
       "      <th>Block 4105</th>\n",
       "      <td>44</td>\n",
       "      <td>4007</td>\n",
       "    </tr>\n",
       "    <tr>\n",
       "      <th>Block 4106</th>\n",
       "      <td>76</td>\n",
       "      <td>4994</td>\n",
       "    </tr>\n",
       "    <tr>\n",
       "      <th>Block 3060</th>\n",
       "      <td>5</td>\n",
       "      <td>1149</td>\n",
       "    </tr>\n",
       "    <tr>\n",
       "      <th>Block 4102</th>\n",
       "      <td>59</td>\n",
       "      <td>4440</td>\n",
       "    </tr>\n",
       "    <tr>\n",
       "      <th>Block 4097</th>\n",
       "      <td>50</td>\n",
       "      <td>4210</td>\n",
       "    </tr>\n",
       "    <tr>\n",
       "      <th>Block 4107</th>\n",
       "      <td>59</td>\n",
       "      <td>4349</td>\n",
       "    </tr>\n",
       "    <tr>\n",
       "      <th>Block 5047</th>\n",
       "      <td>3</td>\n",
       "      <td>785</td>\n",
       "    </tr>\n",
       "  </tbody>\n",
       "</table>\n",
       "<p>514 rows × 2 columns</p>\n",
       "</div>"
      ],
      "text/plain": [
       "            coffeeshop_count  business_count\n",
       "Block 2010                21            2334\n",
       "Block 3007                 5            1679\n",
       "Block 3013               113            5602\n",
       "Block 4019                 6             861\n",
       "Block 4016                27            2671\n",
       "Block 4000                14            2058\n",
       "Block 2003               140            5647\n",
       "Block 2002                24            2633\n",
       "Block 3019                 7            1611\n",
       "Block 3005                91            5297\n",
       "Block 3021                 6            1577\n",
       "Block 1034                 5            2923\n",
       "Block 2042                 3            1637\n",
       "Block 1020                19            1981\n",
       "Block 1021                27            1694\n",
       "Block 1049                11            1459\n",
       "Block 4007                19            2610\n",
       "Block 4011                 7             571\n",
       "Block 3008                 8            2903\n",
       "Block 1022                63            5419\n",
       "Block 1012               104            5507\n",
       "Block 4013                30            4205\n",
       "Block 3010                13            2184\n",
       "Block 1001                60            4191\n",
       "Block 1032                10            1261\n",
       "Block 1017               163            7019\n",
       "Block 2019                51            4863\n",
       "Block 6010                16            3675\n",
       "Block 1002               348           14991\n",
       "Block 3025                27            1236\n",
       "...                      ...             ...\n",
       "Block 4088                77            5125\n",
       "Block 4099                48            4091\n",
       "Block 4101                55            4365\n",
       "Block 3059                 2            1033\n",
       "Block 4092                75            5004\n",
       "Block 1108               238           10698\n",
       "Block 5050                 2             776\n",
       "Block 5049                 3             777\n",
       "Block 3057                38            2877\n",
       "Block 4091                87            5362\n",
       "Block 4077                84            4149\n",
       "Block 4080               132            5779\n",
       "Block 5051                 2             772\n",
       "Block 6037                16            3264\n",
       "Block 1104               335           14136\n",
       "Block 4100                41            3880\n",
       "Block 4095                63            4695\n",
       "Block 5044                 3             792\n",
       "Block 4090                89            5425\n",
       "Block 2200                 2             547\n",
       "Block 2199                 2             550\n",
       "Block 4103                65            4717\n",
       "Block 4094                65            4779\n",
       "Block 4105                44            4007\n",
       "Block 4106                76            4994\n",
       "Block 3060                 5            1149\n",
       "Block 4102                59            4440\n",
       "Block 4097                50            4210\n",
       "Block 4107                59            4349\n",
       "Block 5047                 3             785\n",
       "\n",
       "[514 rows x 2 columns]"
      ]
     },
     "execution_count": 130,
     "metadata": {},
     "output_type": "execute_result"
    }
   ],
   "source": [
    "df_block_bus\n",
    "\n",
    "\n"
   ]
  },
  {
   "cell_type": "code",
   "execution_count": null,
   "metadata": {},
   "outputs": [],
   "source": []
  }
 ],
 "metadata": {
  "kernelspec": {
   "display_name": "Python 3",
   "language": "python",
   "name": "python3"
  },
  "language_info": {
   "codemirror_mode": {
    "name": "ipython",
    "version": 3
   },
   "file_extension": ".py",
   "mimetype": "text/x-python",
   "name": "python",
   "nbconvert_exporter": "python",
   "pygments_lexer": "ipython3",
   "version": "3.6.7"
  },
  "toc": {
   "base_numbering": 1,
   "nav_menu": {},
   "number_sections": true,
   "sideBar": true,
   "skip_h1_title": false,
   "title_cell": "Table of Contents",
   "title_sidebar": "Contents",
   "toc_cell": false,
   "toc_position": {},
   "toc_section_display": true,
   "toc_window_display": false
  },
  "varInspector": {
   "cols": {
    "lenName": 16,
    "lenType": 16,
    "lenVar": 40
   },
   "kernels_config": {
    "python": {
     "delete_cmd_postfix": "",
     "delete_cmd_prefix": "del ",
     "library": "var_list.py",
     "varRefreshCmd": "print(var_dic_list())"
    },
    "r": {
     "delete_cmd_postfix": ") ",
     "delete_cmd_prefix": "rm(",
     "library": "var_list.r",
     "varRefreshCmd": "cat(var_dic_list()) "
    }
   },
   "types_to_exclude": [
    "module",
    "function",
    "builtin_function_or_method",
    "instance",
    "_Feature"
   ],
   "window_display": false
  }
 },
 "nbformat": 4,
 "nbformat_minor": 2
}
