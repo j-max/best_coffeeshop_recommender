{
 "cells": [
  {
   "cell_type": "code",
   "execution_count": 53,
   "metadata": {},
   "outputs": [],
   "source": [
    "import pandas as pd\n",
    "import pickle\n",
    "import re\n",
    "from collections import defaultdict"
   ]
  },
  {
   "cell_type": "code",
   "execution_count": 7,
   "metadata": {},
   "outputs": [],
   "source": [
    "census_blocks_df = pd.read_csv('../data/block_shapes/CensusBlockTIGER2010.csv')"
   ]
  },
  {
   "cell_type": "code",
   "execution_count": 115,
   "metadata": {},
   "outputs": [
    {
     "data": {
      "text/plain": [
       "46357"
      ]
     },
     "execution_count": 115,
     "metadata": {},
     "output_type": "execute_result"
    }
   ],
   "source": [
    "(census_blocks_df)\n",
    "# census_blocks_df.shape\n",
    "census_blocks.TRACT_BLOC.count()\n"
   ]
  },
  {
   "cell_type": "code",
   "execution_count": 18,
   "metadata": {},
   "outputs": [],
   "source": [
    "block_dict = {}\n",
    "for index, row in census_blocks_df.iterrows():\n",
    "    block_coord = row['the_geom'].split(\" \")\n",
    "    lat_pat = re.compile('[^-\\d][\\d]+[.][\\d]+')\n",
    "    lats = lat_pat.findall(str(block_coord))\n",
    "    long_pat = re.compile('[-][\\d]+[.][\\d]+')\n",
    "    longs = long_pat.findall(str(block_coord))\n",
    "    float_lats = [float(x[1:]) for x in lats]\n",
    "    avg_lat = sum(float_lats)/len(float_lats)\n",
    "    float_longs = [float(x) for x in longs]\n",
    "    avg_long = sum(float_longs)/len(float_longs)\n",
    "\n",
    "    block_dict[row['NAME10']] = [avg_lat, avg_long]"
   ]
  },
  {
   "cell_type": "code",
   "execution_count": 99,
   "metadata": {},
   "outputs": [
    {
     "data": {
      "text/plain": [
       "651"
      ]
     },
     "execution_count": 99,
     "metadata": {},
     "output_type": "execute_result"
    }
   ],
   "source": [
    "len(block_dict)\n",
    "\n"
   ]
  },
  {
   "cell_type": "markdown",
   "metadata": {},
   "source": [
    "## Coffee Shops\n"
   ]
  },
  {
   "cell_type": "code",
   "execution_count": 111,
   "metadata": {},
   "outputs": [],
   "source": [
    "import math"
   ]
  },
  {
   "cell_type": "code",
   "execution_count": 76,
   "metadata": {},
   "outputs": [],
   "source": [
    "with open('../data/yelp/yelp_coffee_shop_dict.pk', 'rb') as read_file:\n",
    "    coffee_shops = pickle.load(read_file)"
   ]
  },
  {
   "cell_type": "code",
   "execution_count": 77,
   "metadata": {},
   "outputs": [],
   "source": [
    "block_ex = block_dict['Block 4007']\n",
    "shop_ex = coffee_shops['f5p7scO1Q9UdaGbYe9bjFg']"
   ]
  },
  {
   "cell_type": "code",
   "execution_count": 78,
   "metadata": {},
   "outputs": [],
   "source": [
    "block_coffee_dict = defaultdict(int)\n",
    "for key_b, value_b in block_dict.items():\n",
    "    for key_c, value_c in coffee_shops.items():\n",
    "        lat_block = value_b[0]\n",
    "        lon_block = value_b[1]\n",
    "        lat_shop = value_c[2]\n",
    "        lon_shop = value_c[3]\n",
    "        dist = math.sqrt((lat_block -lat_shop)**2 + (lon_block - lon_shop)**2)\n",
    "        if dist < .035:\n",
    "            block_coffee_dict[key_b] += 1\n"
   ]
  },
  {
   "cell_type": "code",
   "execution_count": 98,
   "metadata": {},
   "outputs": [
    {
     "data": {
      "text/plain": [
       "514"
      ]
     },
     "execution_count": 98,
     "metadata": {},
     "output_type": "execute_result"
    }
   ],
   "source": [
    "#Here are the coffeeshops within a 2 mile radius of each block\n",
    "len(block_coffee_dict)\n"
   ]
  },
  {
   "cell_type": "code",
   "execution_count": 51,
   "metadata": {},
   "outputs": [],
   "source": [
    "dist = math.sqrt((41.963673-41.964346)**2 + (-87.786847 - -87.751445)**2)"
   ]
  },
  {
   "cell_type": "code",
   "execution_count": 52,
   "metadata": {},
   "outputs": [
    {
     "data": {
      "text/plain": [
       "0.03540839636300031"
      ]
     },
     "execution_count": 52,
     "metadata": {},
     "output_type": "execute_result"
    }
   ],
   "source": [
    "dist"
   ]
  },
  {
   "cell_type": "markdown",
   "metadata": {},
   "source": [
    "lat_long distance of .035 is about 2 miles"
   ]
  },
  {
   "cell_type": "markdown",
   "metadata": {},
   "source": [
    "## Businesses"
   ]
  },
  {
   "cell_type": "code",
   "execution_count": 59,
   "metadata": {},
   "outputs": [],
   "source": [
    "df_businesses = pd.read_csv('../data/Business_Licenses_-_Current_Active.csv')"
   ]
  },
  {
   "cell_type": "code",
   "execution_count": 68,
   "metadata": {},
   "outputs": [
    {
     "data": {
      "text/html": [
       "<div>\n",
       "<style scoped>\n",
       "    .dataframe tbody tr th:only-of-type {\n",
       "        vertical-align: middle;\n",
       "    }\n",
       "\n",
       "    .dataframe tbody tr th {\n",
       "        vertical-align: top;\n",
       "    }\n",
       "\n",
       "    .dataframe thead th {\n",
       "        text-align: right;\n",
       "    }\n",
       "</style>\n",
       "<table border=\"1\" class=\"dataframe\">\n",
       "  <thead>\n",
       "    <tr style=\"text-align: right;\">\n",
       "      <th></th>\n",
       "      <th>ID</th>\n",
       "      <th>LICENSE ID</th>\n",
       "      <th>ACCOUNT NUMBER</th>\n",
       "      <th>SITE NUMBER</th>\n",
       "      <th>LEGAL NAME</th>\n",
       "      <th>DOING BUSINESS AS NAME</th>\n",
       "      <th>ADDRESS</th>\n",
       "      <th>CITY</th>\n",
       "      <th>STATE</th>\n",
       "      <th>ZIP CODE</th>\n",
       "      <th>...</th>\n",
       "      <th>LICENSE TERM START DATE</th>\n",
       "      <th>LICENSE TERM EXPIRATION DATE</th>\n",
       "      <th>LICENSE APPROVED FOR ISSUANCE</th>\n",
       "      <th>DATE ISSUED</th>\n",
       "      <th>LICENSE STATUS</th>\n",
       "      <th>LICENSE STATUS CHANGE DATE</th>\n",
       "      <th>SSA</th>\n",
       "      <th>LATITUDE</th>\n",
       "      <th>LONGITUDE</th>\n",
       "      <th>LOCATION</th>\n",
       "    </tr>\n",
       "  </thead>\n",
       "  <tbody>\n",
       "    <tr>\n",
       "      <th>0</th>\n",
       "      <td>2068918-20170316</td>\n",
       "      <td>2509609</td>\n",
       "      <td>358113</td>\n",
       "      <td>1</td>\n",
       "      <td>AG 26TH, INC.</td>\n",
       "      <td>SHELL</td>\n",
       "      <td>3201 W 26TH ST 1ST</td>\n",
       "      <td>CHICAGO</td>\n",
       "      <td>IL</td>\n",
       "      <td>60623</td>\n",
       "      <td>...</td>\n",
       "      <td>03/16/2017</td>\n",
       "      <td>03/15/2019</td>\n",
       "      <td>01/16/2017</td>\n",
       "      <td>01/17/2017</td>\n",
       "      <td>AAI</td>\n",
       "      <td>NaN</td>\n",
       "      <td>25.0</td>\n",
       "      <td>41.844407</td>\n",
       "      <td>-87.705100</td>\n",
       "      <td>(41.844407330022506, -87.70509984940453)</td>\n",
       "    </tr>\n",
       "    <tr>\n",
       "      <th>1</th>\n",
       "      <td>2507033-20170117</td>\n",
       "      <td>2507033</td>\n",
       "      <td>281848</td>\n",
       "      <td>3</td>\n",
       "      <td>DRIEHAUS ENTERPRISE MANAGEMENT, INC.</td>\n",
       "      <td>Driehaus Enterprise Management Inc</td>\n",
       "      <td>737 N MICHIGAN AVE  2220</td>\n",
       "      <td>CHICAGO</td>\n",
       "      <td>IL</td>\n",
       "      <td>60611</td>\n",
       "      <td>...</td>\n",
       "      <td>01/17/2017</td>\n",
       "      <td>03/15/2019</td>\n",
       "      <td>01/17/2017</td>\n",
       "      <td>01/17/2017</td>\n",
       "      <td>AAI</td>\n",
       "      <td>NaN</td>\n",
       "      <td>NaN</td>\n",
       "      <td>41.896036</td>\n",
       "      <td>-87.624131</td>\n",
       "      <td>(41.89603605011911, -87.62413103273497)</td>\n",
       "    </tr>\n",
       "    <tr>\n",
       "      <th>2</th>\n",
       "      <td>2068924-20170316</td>\n",
       "      <td>2509610</td>\n",
       "      <td>358115</td>\n",
       "      <td>1</td>\n",
       "      <td>AG NORTH AVENUE BEACH, INC.</td>\n",
       "      <td>SHELL</td>\n",
       "      <td>130 W NORTH AVE 1ST</td>\n",
       "      <td>CHICAGO</td>\n",
       "      <td>IL</td>\n",
       "      <td>60610</td>\n",
       "      <td>...</td>\n",
       "      <td>03/16/2017</td>\n",
       "      <td>03/15/2019</td>\n",
       "      <td>01/16/2017</td>\n",
       "      <td>01/17/2017</td>\n",
       "      <td>AAI</td>\n",
       "      <td>NaN</td>\n",
       "      <td>NaN</td>\n",
       "      <td>41.911272</td>\n",
       "      <td>-87.633117</td>\n",
       "      <td>(41.91127206809849, -87.63311717438927)</td>\n",
       "    </tr>\n",
       "    <tr>\n",
       "      <th>3</th>\n",
       "      <td>2487557-20161220</td>\n",
       "      <td>2487557</td>\n",
       "      <td>374871</td>\n",
       "      <td>3</td>\n",
       "      <td>SUPREME BEAUTY PARLOR LLC</td>\n",
       "      <td>SUPREME BEAUTY PARLOR LLC</td>\n",
       "      <td>2944 W MONTROSE AVE</td>\n",
       "      <td>CHICAGO</td>\n",
       "      <td>IL</td>\n",
       "      <td>60618</td>\n",
       "      <td>...</td>\n",
       "      <td>12/20/2016</td>\n",
       "      <td>03/15/2019</td>\n",
       "      <td>12/20/2016</td>\n",
       "      <td>12/20/2016</td>\n",
       "      <td>AAI</td>\n",
       "      <td>NaN</td>\n",
       "      <td>60.0</td>\n",
       "      <td>41.961333</td>\n",
       "      <td>-87.702711</td>\n",
       "      <td>(41.96133298173611, -87.70271111999868)</td>\n",
       "    </tr>\n",
       "    <tr>\n",
       "      <th>4</th>\n",
       "      <td>2506708-20170106</td>\n",
       "      <td>2506708</td>\n",
       "      <td>304284</td>\n",
       "      <td>3</td>\n",
       "      <td>THE IT ARCHITECT CORPORATION</td>\n",
       "      <td>THE IT ARCHITECT CORPORATION</td>\n",
       "      <td>505 N LAKE SHORE DR 2ND 217</td>\n",
       "      <td>CHICAGO</td>\n",
       "      <td>IL</td>\n",
       "      <td>60611</td>\n",
       "      <td>...</td>\n",
       "      <td>01/06/2017</td>\n",
       "      <td>03/15/2019</td>\n",
       "      <td>01/06/2017</td>\n",
       "      <td>01/06/2017</td>\n",
       "      <td>AAI</td>\n",
       "      <td>NaN</td>\n",
       "      <td>NaN</td>\n",
       "      <td>41.891279</td>\n",
       "      <td>-87.614108</td>\n",
       "      <td>(41.89127929349215, -87.61410753333017)</td>\n",
       "    </tr>\n",
       "  </tbody>\n",
       "</table>\n",
       "<p>5 rows × 34 columns</p>\n",
       "</div>"
      ],
      "text/plain": [
       "                 ID  LICENSE ID  ACCOUNT NUMBER  SITE NUMBER  \\\n",
       "0  2068918-20170316     2509609          358113            1   \n",
       "1  2507033-20170117     2507033          281848            3   \n",
       "2  2068924-20170316     2509610          358115            1   \n",
       "3  2487557-20161220     2487557          374871            3   \n",
       "4  2506708-20170106     2506708          304284            3   \n",
       "\n",
       "                             LEGAL NAME              DOING BUSINESS AS NAME  \\\n",
       "0                         AG 26TH, INC.                               SHELL   \n",
       "1  DRIEHAUS ENTERPRISE MANAGEMENT, INC.  Driehaus Enterprise Management Inc   \n",
       "2           AG NORTH AVENUE BEACH, INC.                               SHELL   \n",
       "3             SUPREME BEAUTY PARLOR LLC           SUPREME BEAUTY PARLOR LLC   \n",
       "4          THE IT ARCHITECT CORPORATION        THE IT ARCHITECT CORPORATION   \n",
       "\n",
       "                       ADDRESS     CITY STATE ZIP CODE  \\\n",
       "0           3201 W 26TH ST 1ST  CHICAGO    IL    60623   \n",
       "1     737 N MICHIGAN AVE  2220  CHICAGO    IL    60611   \n",
       "2          130 W NORTH AVE 1ST  CHICAGO    IL    60610   \n",
       "3          2944 W MONTROSE AVE  CHICAGO    IL    60618   \n",
       "4  505 N LAKE SHORE DR 2ND 217  CHICAGO    IL    60611   \n",
       "\n",
       "                     ...                     LICENSE TERM START DATE  \\\n",
       "0                    ...                                  03/16/2017   \n",
       "1                    ...                                  01/17/2017   \n",
       "2                    ...                                  03/16/2017   \n",
       "3                    ...                                  12/20/2016   \n",
       "4                    ...                                  01/06/2017   \n",
       "\n",
       "   LICENSE TERM EXPIRATION DATE LICENSE APPROVED FOR ISSUANCE  DATE ISSUED  \\\n",
       "0                    03/15/2019                    01/16/2017   01/17/2017   \n",
       "1                    03/15/2019                    01/17/2017   01/17/2017   \n",
       "2                    03/15/2019                    01/16/2017   01/17/2017   \n",
       "3                    03/15/2019                    12/20/2016   12/20/2016   \n",
       "4                    03/15/2019                    01/06/2017   01/06/2017   \n",
       "\n",
       "   LICENSE STATUS LICENSE STATUS CHANGE DATE   SSA   LATITUDE  LONGITUDE  \\\n",
       "0             AAI                        NaN  25.0  41.844407 -87.705100   \n",
       "1             AAI                        NaN   NaN  41.896036 -87.624131   \n",
       "2             AAI                        NaN   NaN  41.911272 -87.633117   \n",
       "3             AAI                        NaN  60.0  41.961333 -87.702711   \n",
       "4             AAI                        NaN   NaN  41.891279 -87.614108   \n",
       "\n",
       "                                   LOCATION  \n",
       "0  (41.844407330022506, -87.70509984940453)  \n",
       "1   (41.89603605011911, -87.62413103273497)  \n",
       "2   (41.91127206809849, -87.63311717438927)  \n",
       "3   (41.96133298173611, -87.70271111999868)  \n",
       "4   (41.89127929349215, -87.61410753333017)  \n",
       "\n",
       "[5 rows x 34 columns]"
      ]
     },
     "execution_count": 68,
     "metadata": {},
     "output_type": "execute_result"
    }
   ],
   "source": [
    "df_businesses.head()"
   ]
  },
  {
   "cell_type": "code",
   "execution_count": 69,
   "metadata": {},
   "outputs": [],
   "source": [
    "business_dict = {}\n",
    "for i,row in df_businesses.iterrows():\n",
    "    business_dict[row['LICENSE ID']] = [row.LATITUDE, row.LONGITUDE]"
   ]
  },
  {
   "cell_type": "code",
   "execution_count": 72,
   "metadata": {},
   "outputs": [
    {
     "data": {
      "text/plain": [
       "41.901384635"
      ]
     },
     "execution_count": 72,
     "metadata": {},
     "output_type": "execute_result"
    }
   ],
   "source": [
    "business_dict[2507289][0]"
   ]
  },
  {
   "cell_type": "code",
   "execution_count": 80,
   "metadata": {},
   "outputs": [],
   "source": [
    "block_bus_dict = defaultdict(int)\n",
    "for key_b, value_b in block_dict.items():\n",
    "    for key_bus, value_bus in business_dict.items():\n",
    "        lat_block = value_b[0]\n",
    "        lon_block = value_b[1]\n",
    "        lat_bus = value_bus[0]\n",
    "        lon_bus = value_bus[1]\n",
    "        dist = math.sqrt((lat_block -lat_bus)**2 + (lon_block - lon_bus)**2)\n",
    "        if dist < .035:\n",
    "            block_bus_dict[key_b] += 1"
   ]
  },
  {
   "cell_type": "code",
   "execution_count": 97,
   "metadata": {},
   "outputs": [
    {
     "data": {
      "text/plain": [
       "651"
      ]
     },
     "execution_count": 97,
     "metadata": {},
     "output_type": "execute_result"
    }
   ],
   "source": [
    "len(block_bus_dict)\n",
    "\n",
    "\n"
   ]
  },
  {
   "cell_type": "markdown",
   "metadata": {},
   "source": [
    "## Merge coffee shop count and business count"
   ]
  },
  {
   "cell_type": "code",
   "execution_count": 83,
   "metadata": {},
   "outputs": [],
   "source": [
    "block_bus_df = pd.DataFrame.from_dict(block_bus_dict, orient='index')"
   ]
  },
  {
   "cell_type": "code",
   "execution_count": 89,
   "metadata": {},
   "outputs": [],
   "source": [
    "block_bus_df.rename(columns = {0:'business_count'}, inplace=True)"
   ]
  },
  {
   "cell_type": "code",
   "execution_count": 92,
   "metadata": {},
   "outputs": [],
   "source": [
    "block_coffee_df = pd.DataFrame.from_dict(block_coffee_dict, orient='index')\n",
    "block_coffee_df.rename(columns = {0:'coffeeshop_count'}, inplace=True)"
   ]
  },
  {
   "cell_type": "code",
   "execution_count": 94,
   "metadata": {},
   "outputs": [],
   "source": [
    "df_block_bus = pd.merge(block_coffee_df, block_bus_df, left_index=True, right_index=True)"
   ]
  },
  {
   "cell_type": "code",
   "execution_count": 96,
   "metadata": {},
   "outputs": [
    {
     "data": {
      "text/plain": [
       "(514, 2)"
      ]
     },
     "execution_count": 96,
     "metadata": {},
     "output_type": "execute_result"
    }
   ],
   "source": [
    "df_block_bus\n",
    "df_block_bus.shape\n",
    "\n"
   ]
  },
  {
   "cell_type": "code",
   "execution_count": null,
   "metadata": {},
   "outputs": [],
   "source": []
  }
 ],
 "metadata": {
  "kernelspec": {
   "display_name": "Python 3",
   "language": "python",
   "name": "python3"
  },
  "language_info": {
   "codemirror_mode": {
    "name": "ipython",
    "version": 3
   },
   "file_extension": ".py",
   "mimetype": "text/x-python",
   "name": "python",
   "nbconvert_exporter": "python",
   "pygments_lexer": "ipython3",
   "version": "3.6.7"
  },
  "toc": {
   "base_numbering": 1,
   "nav_menu": {},
   "number_sections": true,
   "sideBar": true,
   "skip_h1_title": false,
   "title_cell": "Table of Contents",
   "title_sidebar": "Contents",
   "toc_cell": false,
   "toc_position": {},
   "toc_section_display": true,
   "toc_window_display": false
  },
  "varInspector": {
   "cols": {
    "lenName": 16,
    "lenType": 16,
    "lenVar": 40
   },
   "kernels_config": {
    "python": {
     "delete_cmd_postfix": "",
     "delete_cmd_prefix": "del ",
     "library": "var_list.py",
     "varRefreshCmd": "print(var_dic_list())"
    },
    "r": {
     "delete_cmd_postfix": ") ",
     "delete_cmd_prefix": "rm(",
     "library": "var_list.r",
     "varRefreshCmd": "cat(var_dic_list()) "
    }
   },
   "types_to_exclude": [
    "module",
    "function",
    "builtin_function_or_method",
    "instance",
    "_Feature"
   ],
   "window_display": false
  }
 },
 "nbformat": 4,
 "nbformat_minor": 2
}
