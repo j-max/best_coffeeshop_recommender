{
 "cells": [
  {
   "cell_type": "code",
   "execution_count": 45,
   "metadata": {},
   "outputs": [],
   "source": [
    "import pandas as pd\n",
    "import pickle\n",
    "from collections import defaultdict"
   ]
  },
  {
   "cell_type": "markdown",
   "metadata": {},
   "source": [
    "## Zip codes"
   ]
  },
  {
   "cell_type": "code",
   "execution_count": 15,
   "metadata": {},
   "outputs": [],
   "source": [
    "with open('../data/zip_codes/zip_lat_long.pk', 'rb') as read_file:\n",
    "    zip_codes = pickle.load(read_file)"
   ]
  },
  {
   "cell_type": "code",
   "execution_count": 27,
   "metadata": {},
   "outputs": [
    {
     "data": {
      "text/plain": [
       "dict"
      ]
     },
     "execution_count": 27,
     "metadata": {},
     "output_type": "execute_result"
    }
   ],
   "source": [
    "type(zip_codes)"
   ]
  },
  {
   "cell_type": "markdown",
   "metadata": {},
   "source": [
    "## Coffee shops"
   ]
  },
  {
   "cell_type": "code",
   "execution_count": 17,
   "metadata": {},
   "outputs": [],
   "source": [
    "with open('../data/yelp/yelp_coffee_shop_dict.pk', 'rb') as read_file:\n",
    "    coffee_shops = pickle.load(read_file)"
   ]
  },
  {
   "cell_type": "code",
   "execution_count": 26,
   "metadata": {},
   "outputs": [
    {
     "data": {
      "text/plain": [
       "'60657'"
      ]
     },
     "execution_count": 26,
     "metadata": {},
     "output_type": "execute_result"
    }
   ],
   "source": [
    "coffee_shops['f5p7scO1Q9UdaGbYe9bjFg'][6]"
   ]
  },
  {
   "cell_type": "markdown",
   "metadata": {},
   "source": [
    "### zips+coffee_shops"
   ]
  },
  {
   "cell_type": "code",
   "execution_count": null,
   "metadata": {},
   "outputs": [],
   "source": []
  },
  {
   "cell_type": "code",
   "execution_count": 59,
   "metadata": {},
   "outputs": [],
   "source": [
    "zips_shops = defaultdict(list)\n",
    "for key, value in zip_codes.items():\n",
    "        for c_key, c_val in coffee_shops.items():\n",
    "            if key == (int(c_val[6])):\n",
    "                zips_shops[key].append(c_val[0])\n",
    "#                 except:\n",
    "#                     zips_shops[key] = c_val[0]"
   ]
  },
  {
   "cell_type": "code",
   "execution_count": 61,
   "metadata": {},
   "outputs": [],
   "source": [
    "coffee_per_zip = {}\n",
    "for key, value in zips_shops.items():\n",
    "    coffee_per_zip[key] = len(zips_shops[key])"
   ]
  },
  {
   "cell_type": "code",
   "execution_count": 62,
   "metadata": {},
   "outputs": [
    {
     "data": {
      "text/plain": [
       "{60647: 40,\n",
       " 60639: 7,\n",
       " 60707: 5,\n",
       " 60622: 47,\n",
       " 60651: 2,\n",
       " 60611: 70,\n",
       " 60638: 6,\n",
       " 60652: 1,\n",
       " 60626: 16,\n",
       " 60615: 6,\n",
       " 60621: 3,\n",
       " 60643: 7,\n",
       " 60660: 14,\n",
       " 60640: 28,\n",
       " 60614: 43,\n",
       " 60631: 5,\n",
       " 60646: 4,\n",
       " 60628: 2,\n",
       " 60625: 34,\n",
       " 60641: 12,\n",
       " 60657: 41,\n",
       " 60636: 1,\n",
       " 60649: 4,\n",
       " 60617: 2,\n",
       " 60612: 9,\n",
       " 60604: 8,\n",
       " 60624: 1,\n",
       " 60656: 2,\n",
       " 60655: 1,\n",
       " 60603: 21,\n",
       " 60605: 20,\n",
       " 60653: 5,\n",
       " 60609: 5,\n",
       " 60666: 4,\n",
       " 60618: 24,\n",
       " 60616: 18,\n",
       " 60602: 21,\n",
       " 60601: 30,\n",
       " 60608: 17,\n",
       " 60607: 31,\n",
       " 60661: 19,\n",
       " 60606: 41,\n",
       " 60630: 5,\n",
       " 60642: 12,\n",
       " 60659: 6,\n",
       " 60634: 10,\n",
       " 60613: 26,\n",
       " 60610: 15,\n",
       " 60654: 34,\n",
       " 60632: 5,\n",
       " 60623: 6,\n",
       " 60629: 3,\n",
       " 60637: 14,\n",
       " 60619: 2}"
      ]
     },
     "execution_count": 62,
     "metadata": {},
     "output_type": "execute_result"
    }
   ],
   "source": [
    "coffee_per_zip"
   ]
  },
  {
   "cell_type": "code",
   "execution_count": null,
   "metadata": {},
   "outputs": [],
   "source": []
  }
 ],
 "metadata": {
  "kernelspec": {
   "display_name": "Python 3",
   "language": "python",
   "name": "python3"
  },
  "language_info": {
   "codemirror_mode": {
    "name": "ipython",
    "version": 3
   },
   "file_extension": ".py",
   "mimetype": "text/x-python",
   "name": "python",
   "nbconvert_exporter": "python",
   "pygments_lexer": "ipython3",
   "version": "3.6.7"
  },
  "toc": {
   "base_numbering": 1,
   "nav_menu": {},
   "number_sections": true,
   "sideBar": true,
   "skip_h1_title": false,
   "title_cell": "Table of Contents",
   "title_sidebar": "Contents",
   "toc_cell": false,
   "toc_position": {},
   "toc_section_display": true,
   "toc_window_display": false
  },
  "varInspector": {
   "cols": {
    "lenName": 16,
    "lenType": 16,
    "lenVar": 40
   },
   "kernels_config": {
    "python": {
     "delete_cmd_postfix": "",
     "delete_cmd_prefix": "del ",
     "library": "var_list.py",
     "varRefreshCmd": "print(var_dic_list())"
    },
    "r": {
     "delete_cmd_postfix": ") ",
     "delete_cmd_prefix": "rm(",
     "library": "var_list.r",
     "varRefreshCmd": "cat(var_dic_list()) "
    }
   },
   "types_to_exclude": [
    "module",
    "function",
    "builtin_function_or_method",
    "instance",
    "_Feature"
   ],
   "window_display": false
  }
 },
 "nbformat": 4,
 "nbformat_minor": 2
}
