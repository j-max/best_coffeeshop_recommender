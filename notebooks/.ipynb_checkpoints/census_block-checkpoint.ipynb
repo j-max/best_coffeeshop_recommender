{
 "cells": [
  {
   "cell_type": "code",
   "execution_count": 4,
   "metadata": {},
   "outputs": [],
   "source": [
    "import pandas as pd\n",
    "import pickle\n",
    "import re\n",
    "from collections import defaultdict\n",
    "import math"
   ]
  },
  {
   "cell_type": "code",
   "execution_count": 3,
   "metadata": {},
   "outputs": [],
   "source": [
    "census_blocks_df = pd.read_csv('../data/block_shapes/CensusBlockTIGER2010.csv')"
   ]
  },
  {
   "cell_type": "code",
   "execution_count": 18,
   "metadata": {},
   "outputs": [],
   "source": [
    "block_dict = {}\n",
    "for index, row in census_blocks_df.iterrows():\n",
    "    block_coord = row['the_geom'].split(\" \")\n",
    "    lat_pat = re.compile('[^-\\d][\\d]+[.][\\d]+')\n",
    "    lats = lat_pat.findall(str(block_coord))\n",
    "    long_pat = re.compile('[-][\\d]+[.][\\d]+')\n",
    "    longs = long_pat.findall(str(block_coord))\n",
    "    float_lats = [float(x[1:]) for x in lats]\n",
    "    avg_lat = sum(float_lats)/len(float_lats)\n",
    "    float_longs = [float(x) for x in longs]\n",
    "    avg_long = sum(float_longs)/len(float_longs)\n",
    "\n",
    "    block_dict[row['NAME10']] = [avg_lat, avg_long]"
   ]
  },
  {
   "cell_type": "markdown",
   "metadata": {},
   "source": [
    "## Coffee Shops\n"
   ]
  },
  {
   "cell_type": "code",
   "execution_count": 76,
   "metadata": {},
   "outputs": [],
   "source": [
    "with open('../data/yelp/yelp_coffee_shop_dict.pk', 'rb') as read_file:\n",
    "    coffee_shops = pickle.load(read_file)"
   ]
  },
  {
   "cell_type": "code",
   "execution_count": 78,
   "metadata": {},
   "outputs": [],
   "source": [
    "block_coffee_dict = defaultdict(int)\n",
    "for key_b, value_b in block_dict.items():\n",
    "    for key_c, value_c in coffee_shops.items():\n",
    "        lat_block = value_b[0]\n",
    "        lon_block = value_b[1]\n",
    "        lat_shop = value_c[2]\n",
    "        lon_shop = value_c[3]\n",
    "        dist = math.sqrt((lat_block -lat_shop)**2 + (lon_block - lon_shop)**2)\n",
    "        if dist < .035:\n",
    "            block_coffee_dict[key_b] += 1\n"
   ]
  },
  {
   "cell_type": "markdown",
   "metadata": {},
   "source": [
    "lat_long distance of .035 is about 2 miles"
   ]
  },
  {
   "cell_type": "markdown",
   "metadata": {},
   "source": [
    "## Businesses"
   ]
  },
  {
   "cell_type": "code",
   "execution_count": 59,
   "metadata": {},
   "outputs": [],
   "source": [
    "df_businesses = pd.read_csv('../data/Business_Licenses_-_Current_Active.csv')"
   ]
  },
  {
   "cell_type": "code",
   "execution_count": 69,
   "metadata": {},
   "outputs": [],
   "source": [
    "business_dict = {}\n",
    "for i,row in df_businesses.iterrows():\n",
    "    business_dict[row['LICENSE ID']] = [row.LATITUDE, row.LONGITUDE]"
   ]
  },
  {
   "cell_type": "code",
   "execution_count": 80,
   "metadata": {},
   "outputs": [],
   "source": [
    "block_bus_dict = defaultdict(int)\n",
    "for key_b, value_b in block_dict.items():\n",
    "    for key_bus, value_bus in business_dict.items():\n",
    "        lat_block = value_b[0]\n",
    "        lon_block = value_b[1]\n",
    "        lat_bus = value_bus[0]\n",
    "        lon_bus = value_bus[1]\n",
    "        dist = math.sqrt((lat_block -lat_bus)**2 + (lon_block - lon_bus)**2)\n",
    "        if dist < .035:\n",
    "            block_bus_dict[key_b] += 1"
   ]
  },
  {
   "cell_type": "markdown",
   "metadata": {},
   "source": [
    "## Merge coffee shop count and business count"
   ]
  },
  {
   "cell_type": "code",
   "execution_count": 83,
   "metadata": {},
   "outputs": [],
   "source": [
    "block_bus_df = pd.DataFrame.from_dict(block_bus_dict, orient='index')\n",
    "block_bus_df.rename(columns = {0:'business_count'}, inplace=True)\n",
    "block_coffee_df = pd.DataFrame.from_dict(block_coffee_dict, orient='index')\n",
    "block_coffee_df.rename(columns = {0:'coffeeshop_count'}, inplace=True)\n",
    "df_block_bus = pd.merge(block_coffee_df, block_bus_df, left_index=True, right_index=True)"
   ]
  }
 ],
 "metadata": {
  "kernelspec": {
   "display_name": "Python 3",
   "language": "python",
   "name": "python3"
  },
  "language_info": {
   "codemirror_mode": {
    "name": "ipython",
    "version": 3
   },
   "file_extension": ".py",
   "mimetype": "text/x-python",
   "name": "python",
   "nbconvert_exporter": "python",
   "pygments_lexer": "ipython3",
   "version": "3.7.2"
  },
  "toc": {
   "base_numbering": 1,
   "nav_menu": {},
   "number_sections": true,
   "sideBar": true,
   "skip_h1_title": false,
   "title_cell": "Table of Contents",
   "title_sidebar": "Contents",
   "toc_cell": false,
   "toc_position": {},
   "toc_section_display": true,
   "toc_window_display": false
  },
  "varInspector": {
   "cols": {
    "lenName": 16,
    "lenType": 16,
    "lenVar": 40
   },
   "kernels_config": {
    "python": {
     "delete_cmd_postfix": "",
     "delete_cmd_prefix": "del ",
     "library": "var_list.py",
     "varRefreshCmd": "print(var_dic_list())"
    },
    "r": {
     "delete_cmd_postfix": ") ",
     "delete_cmd_prefix": "rm(",
     "library": "var_list.r",
     "varRefreshCmd": "cat(var_dic_list()) "
    }
   },
   "types_to_exclude": [
    "module",
    "function",
    "builtin_function_or_method",
    "instance",
    "_Feature"
   ],
   "window_display": false
  }
 },
 "nbformat": 4,
 "nbformat_minor": 2
}
