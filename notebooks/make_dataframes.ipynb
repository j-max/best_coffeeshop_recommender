{
 "cells": [
  {
   "cell_type": "code",
   "execution_count": 1,
   "metadata": {},
   "outputs": [],
   "source": [
    "import pandas as pd\n",
    "import re\n",
    "import pickle"
   ]
  },
  {
   "cell_type": "code",
   "execution_count": 2,
   "metadata": {},
   "outputs": [],
   "source": [
    "with open('../data/block_shapes/manhattan_coffee_count.pk','rb') as read_file:\n",
    "    block_coffee_dict_for_df = pickle.load(read_file)\n",
    "\n",
    "df_coffee_count = pd.DataFrame.from_dict(block_coffee_dict_for_df, orient='index')\n",
    "\n",
    "with open('../data/block_shapes/manhattan_business_count.pk','rb') as read_file:\n",
    "    business_count_for_df = pickle.load(read_file)\n",
    "df_business_count = pd.DataFrame.from_dict(business_count_for_df, orient='index')\n",
    "df_bus_coffee = pd.merge(df_business_count, df_coffee_count, left_index=True, right_index=True)\n",
    "df_bus_coffee.rename(columns = {'0_x':'business_per_sqmi', '0_y':'coffee_per_sqmi'}, inplace=True)\n",
    "\n",
    "with open('closest_el_to_block.p', 'rb') as read_file:\n",
    "    dict_closest_el = pickle.load(read_file)\n",
    "    \n",
    "df_closest_el = pd.DataFrame.from_dict(dict_closest_el, orient='index')\n",
    "df_bus_coff_el = pd.merge(df_bus_coffee, df_closest_el, left_index=True, right_index=True)\n",
    "df_bus_coff_el.rename(columns={0:'closest_el', 1:'man_dist_to_el', 2:'closest_el_daily_riders'}, inplace=True)\n",
    "df_pop = pd.read_csv('../data/population_censusblock/Population_by_2010_Census_Block.csv')\n",
    "df_pop_cof_bus_el = pd.merge( df_pop,df_bus_coff_el,left_on='CENSUS BLOCK',right_index=True)\n",
    "df_pop_cof_bus_el.drop(columns = ['CENSUS BLOCK FULL'], inplace=True)\n",
    "\n",
    "with open('best_coffee_block_dict.p', 'rb') as read_file:\n",
    "    best_coffee_block_dict = pickle.load(read_file)\n",
    "\n",
    "df_best_shops = pd.DataFrame.from_dict(best_coffee_block_dict, orient='index')\n",
    "df = pd.merge( df_pop_cof_bus_el,df_best_shops, left_on='CENSUS BLOCK', right_index=True)\n",
    "\n",
    "df.rename(columns={0:'best_coffee_shop'}, inplace=True)\n",
    "\n",
    "with open('../models/dataframes/df_with_best_shops.p','wb') as write_file:\n",
    "    pickle.dump(df, write_file)"
   ]
  }
 ],
 "metadata": {
  "kernelspec": {
   "display_name": "Python 3",
   "language": "python",
   "name": "python3"
  },
  "language_info": {
   "codemirror_mode": {
    "name": "ipython",
    "version": 3
   },
   "file_extension": ".py",
   "mimetype": "text/x-python",
   "name": "python",
   "nbconvert_exporter": "python",
   "pygments_lexer": "ipython3",
   "version": "3.7.2"
  },
  "toc": {
   "base_numbering": 1,
   "nav_menu": {},
   "number_sections": true,
   "sideBar": true,
   "skip_h1_title": false,
   "title_cell": "Table of Contents",
   "title_sidebar": "Contents",
   "toc_cell": false,
   "toc_position": {},
   "toc_section_display": true,
   "toc_window_display": false
  },
  "varInspector": {
   "cols": {
    "lenName": 16,
    "lenType": 16,
    "lenVar": 40
   },
   "kernels_config": {
    "python": {
     "delete_cmd_postfix": "",
     "delete_cmd_prefix": "del ",
     "library": "var_list.py",
     "varRefreshCmd": "print(var_dic_list())"
    },
    "r": {
     "delete_cmd_postfix": ") ",
     "delete_cmd_prefix": "rm(",
     "library": "var_list.r",
     "varRefreshCmd": "cat(var_dic_list()) "
    }
   },
   "types_to_exclude": [
    "module",
    "function",
    "builtin_function_or_method",
    "instance",
    "_Feature"
   ],
   "window_display": false
  }
 },
 "nbformat": 4,
 "nbformat_minor": 2
}
